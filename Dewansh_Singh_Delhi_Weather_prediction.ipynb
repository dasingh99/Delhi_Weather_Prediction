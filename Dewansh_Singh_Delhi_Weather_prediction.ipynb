{
  "nbformat": 4,
  "nbformat_minor": 0,
  "metadata": {
    "colab": {
      "provenance": []
    },
    "kernelspec": {
      "name": "python3",
      "display_name": "Python 3"
    },
    "language_info": {
      "name": "python"
    }
  },
  "cells": [
    {
      "cell_type": "markdown",
      "source": [
        "# **Delhi Weather Prediction** \n",
        "##################################### </b>  \n",
        "**Algorithms used:**</b>  \n",
        "**1.Linear Regression**</b>  \n",
        "**2.Recurrent Neural Network**\n",
        "  \n",
        "**Comparisons are done on the basis of Errors calculated using Mean Absolute Error and Root mean squared error**\n",
        "\n",
        "**Algorithms are comprises of some activation functions (Linear function) and optimizers (Adam Booster)**"
      ],
      "metadata": {
        "id": "dTGov50toaT6"
      }
    },
    {
      "cell_type": "markdown",
      "source": [
        "**Importing Libraries**"
      ],
      "metadata": {
        "id": "FlHC7tWDqpZO"
      }
    },
    {
      "cell_type": "code",
      "execution_count": 75,
      "metadata": {
        "id": "Li4LVvL6XT48"
      },
      "outputs": [],
      "source": [
        "import pandas as pd\n",
        "import numpy as np\n",
        "import matplotlib.pyplot as plt\n",
        "import seaborn as sns\n",
        "import plotly.express as px"
      ]
    },
    {
      "cell_type": "markdown",
      "source": [
        "### **The Data** </b>  \n",
        "**Let's begin with reading the dataset file into a pandas dataframe** "
      ],
      "metadata": {
        "id": "LIbcEGo4rRXN"
      }
    },
    {
      "cell_type": "code",
      "source": [
        "data = pd.read_csv(\"DelhiWeather.csv\")\n",
        "print(data.head())"
      ],
      "metadata": {
        "colab": {
          "base_uri": "https://localhost:8080/"
        },
        "id": "z4ud7FLcrLsF",
        "outputId": "e8b27c19-efe7-43aa-a0bf-c1399268999d"
      },
      "execution_count": 76,
      "outputs": [
        {
          "output_type": "stream",
          "name": "stdout",
          "text": [
            "         date   meantemp   humidity  wind_speed  meanpressure\n",
            "0  01-01-2017  15.913043  85.869565    2.743478     59.000000\n",
            "1  02-01-2017  18.500000  77.222222    2.894444   1018.277778\n",
            "2  03-01-2017  17.111111  81.888889    4.016667   1018.333333\n",
            "3  04-01-2017  18.700000  70.050000    4.545000   1015.700000\n",
            "4  05-01-2017  18.388889  74.944444    3.300000   1014.333333\n"
          ]
        }
      ]
    },
    {
      "cell_type": "code",
      "source": [
        "data.shape"
      ],
      "metadata": {
        "colab": {
          "base_uri": "https://localhost:8080/"
        },
        "id": "RvYaV9_jYsl2",
        "outputId": "4c8b8920-7346-41cb-c027-cd2d06a2c53d"
      },
      "execution_count": 2,
      "outputs": [
        {
          "output_type": "execute_result",
          "data": {
            "text/plain": [
              "(114, 5)"
            ]
          },
          "metadata": {},
          "execution_count": 2
        }
      ]
    },
    {
      "cell_type": "code",
      "source": [
        "(data.describe(include='all'))"
      ],
      "metadata": {
        "colab": {
          "base_uri": "https://localhost:8080/",
          "height": 394
        },
        "id": "ViiQT7K7Xi9x",
        "outputId": "d764e039-2ed1-4186-c7c9-3b614f1ce5a2"
      },
      "execution_count": 5,
      "outputs": [
        {
          "output_type": "execute_result",
          "data": {
            "text/plain": [
              "              date    meantemp    humidity  wind_speed  meanpressure\n",
              "count          114  114.000000  114.000000  114.000000    114.000000\n",
              "unique         114         NaN         NaN         NaN           NaN\n",
              "top     01-01-2017         NaN         NaN         NaN           NaN\n",
              "freq             1         NaN         NaN         NaN           NaN\n",
              "mean           NaN   21.713079   56.258362    8.143924   1004.035090\n",
              "std            NaN    6.360072   19.068083    3.588049     89.474692\n",
              "min            NaN   11.000000   17.750000    1.387500     59.000000\n",
              "25%            NaN   16.437198   39.625000    5.563542   1007.437500\n",
              "50%            NaN   19.875000   57.750000    8.069444   1012.739317\n",
              "75%            NaN   27.705357   71.902778   10.068750   1016.739583\n",
              "max            NaN   34.500000   95.833333   19.314286   1022.809524"
            ],
            "text/html": [
              "\n",
              "  <div id=\"df-f0404697-754e-4068-90c1-f44dd4e7fc56\">\n",
              "    <div class=\"colab-df-container\">\n",
              "      <div>\n",
              "<style scoped>\n",
              "    .dataframe tbody tr th:only-of-type {\n",
              "        vertical-align: middle;\n",
              "    }\n",
              "\n",
              "    .dataframe tbody tr th {\n",
              "        vertical-align: top;\n",
              "    }\n",
              "\n",
              "    .dataframe thead th {\n",
              "        text-align: right;\n",
              "    }\n",
              "</style>\n",
              "<table border=\"1\" class=\"dataframe\">\n",
              "  <thead>\n",
              "    <tr style=\"text-align: right;\">\n",
              "      <th></th>\n",
              "      <th>date</th>\n",
              "      <th>meantemp</th>\n",
              "      <th>humidity</th>\n",
              "      <th>wind_speed</th>\n",
              "      <th>meanpressure</th>\n",
              "    </tr>\n",
              "  </thead>\n",
              "  <tbody>\n",
              "    <tr>\n",
              "      <th>count</th>\n",
              "      <td>114</td>\n",
              "      <td>114.000000</td>\n",
              "      <td>114.000000</td>\n",
              "      <td>114.000000</td>\n",
              "      <td>114.000000</td>\n",
              "    </tr>\n",
              "    <tr>\n",
              "      <th>unique</th>\n",
              "      <td>114</td>\n",
              "      <td>NaN</td>\n",
              "      <td>NaN</td>\n",
              "      <td>NaN</td>\n",
              "      <td>NaN</td>\n",
              "    </tr>\n",
              "    <tr>\n",
              "      <th>top</th>\n",
              "      <td>01-01-2017</td>\n",
              "      <td>NaN</td>\n",
              "      <td>NaN</td>\n",
              "      <td>NaN</td>\n",
              "      <td>NaN</td>\n",
              "    </tr>\n",
              "    <tr>\n",
              "      <th>freq</th>\n",
              "      <td>1</td>\n",
              "      <td>NaN</td>\n",
              "      <td>NaN</td>\n",
              "      <td>NaN</td>\n",
              "      <td>NaN</td>\n",
              "    </tr>\n",
              "    <tr>\n",
              "      <th>mean</th>\n",
              "      <td>NaN</td>\n",
              "      <td>21.713079</td>\n",
              "      <td>56.258362</td>\n",
              "      <td>8.143924</td>\n",
              "      <td>1004.035090</td>\n",
              "    </tr>\n",
              "    <tr>\n",
              "      <th>std</th>\n",
              "      <td>NaN</td>\n",
              "      <td>6.360072</td>\n",
              "      <td>19.068083</td>\n",
              "      <td>3.588049</td>\n",
              "      <td>89.474692</td>\n",
              "    </tr>\n",
              "    <tr>\n",
              "      <th>min</th>\n",
              "      <td>NaN</td>\n",
              "      <td>11.000000</td>\n",
              "      <td>17.750000</td>\n",
              "      <td>1.387500</td>\n",
              "      <td>59.000000</td>\n",
              "    </tr>\n",
              "    <tr>\n",
              "      <th>25%</th>\n",
              "      <td>NaN</td>\n",
              "      <td>16.437198</td>\n",
              "      <td>39.625000</td>\n",
              "      <td>5.563542</td>\n",
              "      <td>1007.437500</td>\n",
              "    </tr>\n",
              "    <tr>\n",
              "      <th>50%</th>\n",
              "      <td>NaN</td>\n",
              "      <td>19.875000</td>\n",
              "      <td>57.750000</td>\n",
              "      <td>8.069444</td>\n",
              "      <td>1012.739317</td>\n",
              "    </tr>\n",
              "    <tr>\n",
              "      <th>75%</th>\n",
              "      <td>NaN</td>\n",
              "      <td>27.705357</td>\n",
              "      <td>71.902778</td>\n",
              "      <td>10.068750</td>\n",
              "      <td>1016.739583</td>\n",
              "    </tr>\n",
              "    <tr>\n",
              "      <th>max</th>\n",
              "      <td>NaN</td>\n",
              "      <td>34.500000</td>\n",
              "      <td>95.833333</td>\n",
              "      <td>19.314286</td>\n",
              "      <td>1022.809524</td>\n",
              "    </tr>\n",
              "  </tbody>\n",
              "</table>\n",
              "</div>\n",
              "      <button class=\"colab-df-convert\" onclick=\"convertToInteractive('df-f0404697-754e-4068-90c1-f44dd4e7fc56')\"\n",
              "              title=\"Convert this dataframe to an interactive table.\"\n",
              "              style=\"display:none;\">\n",
              "        \n",
              "  <svg xmlns=\"http://www.w3.org/2000/svg\" height=\"24px\"viewBox=\"0 0 24 24\"\n",
              "       width=\"24px\">\n",
              "    <path d=\"M0 0h24v24H0V0z\" fill=\"none\"/>\n",
              "    <path d=\"M18.56 5.44l.94 2.06.94-2.06 2.06-.94-2.06-.94-.94-2.06-.94 2.06-2.06.94zm-11 1L8.5 8.5l.94-2.06 2.06-.94-2.06-.94L8.5 2.5l-.94 2.06-2.06.94zm10 10l.94 2.06.94-2.06 2.06-.94-2.06-.94-.94-2.06-.94 2.06-2.06.94z\"/><path d=\"M17.41 7.96l-1.37-1.37c-.4-.4-.92-.59-1.43-.59-.52 0-1.04.2-1.43.59L10.3 9.45l-7.72 7.72c-.78.78-.78 2.05 0 2.83L4 21.41c.39.39.9.59 1.41.59.51 0 1.02-.2 1.41-.59l7.78-7.78 2.81-2.81c.8-.78.8-2.07 0-2.86zM5.41 20L4 18.59l7.72-7.72 1.47 1.35L5.41 20z\"/>\n",
              "  </svg>\n",
              "      </button>\n",
              "      \n",
              "  <style>\n",
              "    .colab-df-container {\n",
              "      display:flex;\n",
              "      flex-wrap:wrap;\n",
              "      gap: 12px;\n",
              "    }\n",
              "\n",
              "    .colab-df-convert {\n",
              "      background-color: #E8F0FE;\n",
              "      border: none;\n",
              "      border-radius: 50%;\n",
              "      cursor: pointer;\n",
              "      display: none;\n",
              "      fill: #1967D2;\n",
              "      height: 32px;\n",
              "      padding: 0 0 0 0;\n",
              "      width: 32px;\n",
              "    }\n",
              "\n",
              "    .colab-df-convert:hover {\n",
              "      background-color: #E2EBFA;\n",
              "      box-shadow: 0px 1px 2px rgba(60, 64, 67, 0.3), 0px 1px 3px 1px rgba(60, 64, 67, 0.15);\n",
              "      fill: #174EA6;\n",
              "    }\n",
              "\n",
              "    [theme=dark] .colab-df-convert {\n",
              "      background-color: #3B4455;\n",
              "      fill: #D2E3FC;\n",
              "    }\n",
              "\n",
              "    [theme=dark] .colab-df-convert:hover {\n",
              "      background-color: #434B5C;\n",
              "      box-shadow: 0px 1px 3px 1px rgba(0, 0, 0, 0.15);\n",
              "      filter: drop-shadow(0px 1px 2px rgba(0, 0, 0, 0.3));\n",
              "      fill: #FFFFFF;\n",
              "    }\n",
              "  </style>\n",
              "\n",
              "      <script>\n",
              "        const buttonEl =\n",
              "          document.querySelector('#df-f0404697-754e-4068-90c1-f44dd4e7fc56 button.colab-df-convert');\n",
              "        buttonEl.style.display =\n",
              "          google.colab.kernel.accessAllowed ? 'block' : 'none';\n",
              "\n",
              "        async function convertToInteractive(key) {\n",
              "          const element = document.querySelector('#df-f0404697-754e-4068-90c1-f44dd4e7fc56');\n",
              "          const dataTable =\n",
              "            await google.colab.kernel.invokeFunction('convertToInteractive',\n",
              "                                                     [key], {});\n",
              "          if (!dataTable) return;\n",
              "\n",
              "          const docLinkHtml = 'Like what you see? Visit the ' +\n",
              "            '<a target=\"_blank\" href=https://colab.research.google.com/notebooks/data_table.ipynb>data table notebook</a>'\n",
              "            + ' to learn more about interactive tables.';\n",
              "          element.innerHTML = '';\n",
              "          dataTable['output_type'] = 'display_data';\n",
              "          await google.colab.output.renderOutput(dataTable, element);\n",
              "          const docLink = document.createElement('div');\n",
              "          docLink.innerHTML = docLinkHtml;\n",
              "          element.appendChild(docLink);\n",
              "        }\n",
              "      </script>\n",
              "    </div>\n",
              "  </div>\n",
              "  "
            ]
          },
          "metadata": {},
          "execution_count": 5
        }
      ]
    },
    {
      "cell_type": "markdown",
      "source": [
        "# **Exploratory Data Analysis**\n",
        "\n",
        "Now we will do some exploratory data analysis! We'll start by checking out missing data!\n",
        "\n",
        "## **Missing Data**\n",
        "\n",
        "We have done some data info extraction techniques and used seaborn to create a simple heatmap to see where we are missing data!"
      ],
      "metadata": {
        "id": "M8iG_sNZr7zT"
      }
    },
    {
      "cell_type": "code",
      "source": [
        "data['date'].value_counts()"
      ],
      "metadata": {
        "colab": {
          "base_uri": "https://localhost:8080/"
        },
        "id": "sL0SOM0RY1Rj",
        "outputId": "b6c71d4e-8516-4d17-c098-89be0cebe3fc"
      },
      "execution_count": 3,
      "outputs": [
        {
          "output_type": "execute_result",
          "data": {
            "text/plain": [
              "01-01-2017    1\n",
              "27-03-2017    1\n",
              "25-03-2017    1\n",
              "24-03-2017    1\n",
              "23-03-2017    1\n",
              "             ..\n",
              "04-02-2017    1\n",
              "03-02-2017    1\n",
              "02-02-2017    1\n",
              "01-02-2017    1\n",
              "24-04-2017    1\n",
              "Name: date, Length: 114, dtype: int64"
            ]
          },
          "metadata": {},
          "execution_count": 3
        }
      ]
    },
    {
      "cell_type": "code",
      "source": [
        "(data.isnull().sum())"
      ],
      "metadata": {
        "colab": {
          "base_uri": "https://localhost:8080/"
        },
        "id": "5_eEtNyCZUsI",
        "outputId": "0f245e2f-79a4-4205-b815-47ddbac761d4"
      },
      "execution_count": 4,
      "outputs": [
        {
          "output_type": "execute_result",
          "data": {
            "text/plain": [
              "date            0\n",
              "meantemp        0\n",
              "humidity        0\n",
              "wind_speed      0\n",
              "meanpressure    0\n",
              "dtype: int64"
            ]
          },
          "metadata": {},
          "execution_count": 4
        }
      ]
    },
    {
      "cell_type": "code",
      "source": [
        "(data.info())"
      ],
      "metadata": {
        "colab": {
          "base_uri": "https://localhost:8080/"
        },
        "id": "0d6ghATOXmXO",
        "outputId": "11adf8bd-72d0-48f6-c525-f9c9d1b7d787"
      },
      "execution_count": 6,
      "outputs": [
        {
          "output_type": "stream",
          "name": "stdout",
          "text": [
            "<class 'pandas.core.frame.DataFrame'>\n",
            "RangeIndex: 114 entries, 0 to 113\n",
            "Data columns (total 5 columns):\n",
            " #   Column        Non-Null Count  Dtype  \n",
            "---  ------        --------------  -----  \n",
            " 0   date          114 non-null    object \n",
            " 1   meantemp      114 non-null    float64\n",
            " 2   humidity      114 non-null    float64\n",
            " 3   wind_speed    114 non-null    float64\n",
            " 4   meanpressure  114 non-null    float64\n",
            "dtypes: float64(4), object(1)\n",
            "memory usage: 4.6+ KB\n"
          ]
        }
      ]
    },
    {
      "cell_type": "code",
      "source": [
        "sns.heatmap(data.isnull(),yticklabels=False,cbar=False,cmap='viridis')"
      ],
      "metadata": {
        "colab": {
          "base_uri": "https://localhost:8080/",
          "height": 385
        },
        "id": "jBWjRJR8sXnu",
        "outputId": "2bfe3f17-2316-4068-d2b4-eb87d523af25"
      },
      "execution_count": 77,
      "outputs": [
        {
          "output_type": "execute_result",
          "data": {
            "text/plain": [
              "<matplotlib.axes._subplots.AxesSubplot at 0x7fc389f53fa0>"
            ]
          },
          "metadata": {},
          "execution_count": 77
        },
        {
          "output_type": "display_data",
          "data": {
            "text/plain": [
              "<Figure size 432x288 with 1 Axes>"
            ],
            "image/png": "[encoded data removed]"
          },
          "metadata": {}
        }
      ]
    },
    {
      "cell_type": "markdown",
      "source": [
        "**We can easily see that their is no missing data in the given dataset which indicates that we are good to go with analysis part of the dataset** "
      ],
      "metadata": {
        "id": "_SP54Z59s-7d"
      }
    },
    {
      "cell_type": "code",
      "source": [
        "data.corr()"
      ],
      "metadata": {
        "colab": {
          "base_uri": "https://localhost:8080/",
          "height": 175
        },
        "id": "9ucasL24ZcoO",
        "outputId": "e6e8e925-fe7b-4caf-9547-171ef9e88363"
      },
      "execution_count": 7,
      "outputs": [
        {
          "output_type": "execute_result",
          "data": {
            "text/plain": [
              "              meantemp  humidity  wind_speed  meanpressure\n",
              "meantemp      1.000000 -0.857726    0.217743      0.030682\n",
              "humidity     -0.857726  1.000000   -0.340507     -0.097869\n",
              "wind_speed    0.217743 -0.340507    1.000000      0.130352\n",
              "meanpressure  0.030682 -0.097869    0.130352      1.000000"
            ],
            "text/html": [
              "\n",
              "  <div id=\"df-4814072f-dc26-4e43-992e-de4b46282356\">\n",
              "    <div class=\"colab-df-container\">\n",
              "      <div>\n",
              "<style scoped>\n",
              "    .dataframe tbody tr th:only-of-type {\n",
              "        vertical-align: middle;\n",
              "    }\n",
              "\n",
              "    .dataframe tbody tr th {\n",
              "        vertical-align: top;\n",
              "    }\n",
              "\n",
              "    .dataframe thead th {\n",
              "        text-align: right;\n",
              "    }\n",
              "</style>\n",
              "<table border=\"1\" class=\"dataframe\">\n",
              "  <thead>\n",
              "    <tr style=\"text-align: right;\">\n",
              "      <th></th>\n",
              "      <th>meantemp</th>\n",
              "      <th>humidity</th>\n",
              "      <th>wind_speed</th>\n",
              "      <th>meanpressure</th>\n",
              "    </tr>\n",
              "  </thead>\n",
              "  <tbody>\n",
              "    <tr>\n",
              "      <th>meantemp</th>\n",
              "      <td>1.000000</td>\n",
              "      <td>-0.857726</td>\n",
              "      <td>0.217743</td>\n",
              "      <td>0.030682</td>\n",
              "    </tr>\n",
              "    <tr>\n",
              "      <th>humidity</th>\n",
              "      <td>-0.857726</td>\n",
              "      <td>1.000000</td>\n",
              "      <td>-0.340507</td>\n",
              "      <td>-0.097869</td>\n",
              "    </tr>\n",
              "    <tr>\n",
              "      <th>wind_speed</th>\n",
              "      <td>0.217743</td>\n",
              "      <td>-0.340507</td>\n",
              "      <td>1.000000</td>\n",
              "      <td>0.130352</td>\n",
              "    </tr>\n",
              "    <tr>\n",
              "      <th>meanpressure</th>\n",
              "      <td>0.030682</td>\n",
              "      <td>-0.097869</td>\n",
              "      <td>0.130352</td>\n",
              "      <td>1.000000</td>\n",
              "    </tr>\n",
              "  </tbody>\n",
              "</table>\n",
              "</div>\n",
              "      <button class=\"colab-df-convert\" onclick=\"convertToInteractive('df-4814072f-dc26-4e43-992e-de4b46282356')\"\n",
              "              title=\"Convert this dataframe to an interactive table.\"\n",
              "              style=\"display:none;\">\n",
              "        \n",
              "  <svg xmlns=\"http://www.w3.org/2000/svg\" height=\"24px\"viewBox=\"0 0 24 24\"\n",
              "       width=\"24px\">\n",
              "    <path d=\"M0 0h24v24H0V0z\" fill=\"none\"/>\n",
              "    <path d=\"M18.56 5.44l.94 2.06.94-2.06 2.06-.94-2.06-.94-.94-2.06-.94 2.06-2.06.94zm-11 1L8.5 8.5l.94-2.06 2.06-.94-2.06-.94L8.5 2.5l-.94 2.06-2.06.94zm10 10l.94 2.06.94-2.06 2.06-.94-2.06-.94-.94-2.06-.94 2.06-2.06.94z\"/><path d=\"M17.41 7.96l-1.37-1.37c-.4-.4-.92-.59-1.43-.59-.52 0-1.04.2-1.43.59L10.3 9.45l-7.72 7.72c-.78.78-.78 2.05 0 2.83L4 21.41c.39.39.9.59 1.41.59.51 0 1.02-.2 1.41-.59l7.78-7.78 2.81-2.81c.8-.78.8-2.07 0-2.86zM5.41 20L4 18.59l7.72-7.72 1.47 1.35L5.41 20z\"/>\n",
              "  </svg>\n",
              "      </button>\n",
              "      \n",
              "  <style>\n",
              "    .colab-df-container {\n",
              "      display:flex;\n",
              "      flex-wrap:wrap;\n",
              "      gap: 12px;\n",
              "    }\n",
              "\n",
              "    .colab-df-convert {\n",
              "      background-color: #E8F0FE;\n",
              "      border: none;\n",
              "      border-radius: 50%;\n",
              "      cursor: pointer;\n",
              "      display: none;\n",
              "      fill: #1967D2;\n",
              "      height: 32px;\n",
              "      padding: 0 0 0 0;\n",
              "      width: 32px;\n",
              "    }\n",
              "\n",
              "    .colab-df-convert:hover {\n",
              "      background-color: #E2EBFA;\n",
              "      box-shadow: 0px 1px 2px rgba(60, 64, 67, 0.3), 0px 1px 3px 1px rgba(60, 64, 67, 0.15);\n",
              "      fill: #174EA6;\n",
              "    }\n",
              "\n",
              "    [theme=dark] .colab-df-convert {\n",
              "      background-color: #3B4455;\n",
              "      fill: #D2E3FC;\n",
              "    }\n",
              "\n",
              "    [theme=dark] .colab-df-convert:hover {\n",
              "      background-color: #434B5C;\n",
              "      box-shadow: 0px 1px 3px 1px rgba(0, 0, 0, 0.15);\n",
              "      filter: drop-shadow(0px 1px 2px rgba(0, 0, 0, 0.3));\n",
              "      fill: #FFFFFF;\n",
              "    }\n",
              "  </style>\n",
              "\n",
              "      <script>\n",
              "        const buttonEl =\n",
              "          document.querySelector('#df-4814072f-dc26-4e43-992e-de4b46282356 button.colab-df-convert');\n",
              "        buttonEl.style.display =\n",
              "          google.colab.kernel.accessAllowed ? 'block' : 'none';\n",
              "\n",
              "        async function convertToInteractive(key) {\n",
              "          const element = document.querySelector('#df-4814072f-dc26-4e43-992e-de4b46282356');\n",
              "          const dataTable =\n",
              "            await google.colab.kernel.invokeFunction('convertToInteractive',\n",
              "                                                     [key], {});\n",
              "          if (!dataTable) return;\n",
              "\n",
              "          const docLinkHtml = 'Like what you see? Visit the ' +\n",
              "            '<a target=\"_blank\" href=https://colab.research.google.com/notebooks/data_table.ipynb>data table notebook</a>'\n",
              "            + ' to learn more about interactive tables.';\n",
              "          element.innerHTML = '';\n",
              "          dataTable['output_type'] = 'display_data';\n",
              "          await google.colab.output.renderOutput(dataTable, element);\n",
              "          const docLink = document.createElement('div');\n",
              "          docLink.innerHTML = docLinkHtml;\n",
              "          element.appendChild(docLink);\n",
              "        }\n",
              "      </script>\n",
              "    </div>\n",
              "  </div>\n",
              "  "
            ]
          },
          "metadata": {},
          "execution_count": 7
        }
      ]
    },
    {
      "cell_type": "code",
      "source": [
        "sns.boxplot(x='date', y='humidity', data=data)"
      ],
      "metadata": {
        "colab": {
          "base_uri": "https://localhost:8080/",
          "height": 296
        },
        "id": "J6rHFCtFaSMS",
        "outputId": "9435fdd2-11be-488d-f515-c03529e142cb"
      },
      "execution_count": 8,
      "outputs": [
        {
          "output_type": "execute_result",
          "data": {
            "text/plain": [
              "<matplotlib.axes._subplots.AxesSubplot at 0x7fc3f7e1fdc0>"
            ]
          },
          "metadata": {},
          "execution_count": 8
        },
        {
          "output_type": "display_data",
          "data": {
            "text/plain": [
              "<Figure size 432x288 with 1 Axes>"
            ],
            "image/png": "[encoded data removed]"
          },
          "metadata": {
            "needs_background": "light"
          }
        }
      ]
    },
    {
      "cell_type": "code",
      "source": [
        "data[\"date\"] = pd.to_datetime(data[\"date\"], format = '%d-%m-%Y')\n",
        "data['year'] = data['date'].dt.year\n",
        "data[\"month\"] = data[\"date\"].dt.month\n",
        "print(data.head())"
      ],
      "metadata": {
        "colab": {
          "base_uri": "https://localhost:8080/"
        },
        "id": "U-gEyE3iX2Kn",
        "outputId": "70f1b59c-2088-4938-8a4a-8cf181f22234"
      },
      "execution_count": 9,
      "outputs": [
        {
          "output_type": "stream",
          "name": "stdout",
          "text": [
            "        date   meantemp   humidity  wind_speed  meanpressure  year  month\n",
            "0 2017-01-01  15.913043  85.869565    2.743478     59.000000  2017      1\n",
            "1 2017-01-02  18.500000  77.222222    2.894444   1018.277778  2017      1\n",
            "2 2017-01-03  17.111111  81.888889    4.016667   1018.333333  2017      1\n",
            "3 2017-01-04  18.700000  70.050000    4.545000   1015.700000  2017      1\n",
            "4 2017-01-05  18.388889  74.944444    3.300000   1014.333333  2017      1\n"
          ]
        }
      ]
    },
    {
      "cell_type": "code",
      "source": [
        "sns.boxplot(data=data,y=\"humidity\",x=\"month\")"
      ],
      "metadata": {
        "colab": {
          "base_uri": "https://localhost:8080/",
          "height": 296
        },
        "id": "NvxP3jr0eQnh",
        "outputId": "96ba976b-d11c-47ff-9a03-4186c6ad4fe4"
      },
      "execution_count": 10,
      "outputs": [
        {
          "output_type": "execute_result",
          "data": {
            "text/plain": [
              "<matplotlib.axes._subplots.AxesSubplot at 0x7fc3f7eec580>"
            ]
          },
          "metadata": {},
          "execution_count": 10
        },
        {
          "output_type": "display_data",
          "data": {
            "text/plain": [
              "<Figure size 432x288 with 1 Axes>"
            ],
            "image/png": "[encoded data removed]"
          },
          "metadata": {
            "needs_background": "light"
          }
        }
      ]
    },
    {
      "cell_type": "code",
      "source": [
        "sns.boxplot(data=data,y=\"meantemp\",x=\"month\")"
      ],
      "metadata": {
        "colab": {
          "base_uri": "https://localhost:8080/",
          "height": 296
        },
        "id": "u5Oe-vGxoz36",
        "outputId": "a8ede01a-8c48-46b9-ec60-ee1522f4493d"
      },
      "execution_count": 11,
      "outputs": [
        {
          "output_type": "execute_result",
          "data": {
            "text/plain": [
              "<matplotlib.axes._subplots.AxesSubplot at 0x7fc3f6fd6070>"
            ]
          },
          "metadata": {},
          "execution_count": 11
        },
        {
          "output_type": "display_data",
          "data": {
            "text/plain": [
              "<Figure size 432x288 with 1 Axes>"
            ],
            "image/png": "[encoded data removed]"
          },
          "metadata": {
            "needs_background": "light"
          }
        }
      ]
    },
    {
      "cell_type": "code",
      "source": [
        "data.hist(figsize=(10,8))"
      ],
      "metadata": {
        "colab": {
          "base_uri": "https://localhost:8080/",
          "height": 673
        },
        "id": "kSDG2HMEbjTp",
        "outputId": "e9a0802d-dba6-43c4-f15d-ab34adabcfc8"
      },
      "execution_count": 12,
      "outputs": [
        {
          "output_type": "execute_result",
          "data": {
            "text/plain": [
              "array([[<matplotlib.axes._subplots.AxesSubplot object at 0x7fc3f6e94700>,\n",
              "        <matplotlib.axes._subplots.AxesSubplot object at 0x7fc3f6ec7b50>,\n",
              "        <matplotlib.axes._subplots.AxesSubplot object at 0x7fc3f6e74f70>],\n",
              "       [<matplotlib.axes._subplots.AxesSubplot object at 0x7fc3f6e2f3d0>,\n",
              "        <matplotlib.axes._subplots.AxesSubplot object at 0x7fc3f6ddc7c0>,\n",
              "        <matplotlib.axes._subplots.AxesSubplot object at 0x7fc3f6d8fc40>],\n",
              "       [<matplotlib.axes._subplots.AxesSubplot object at 0x7fc3f6d8fd30>,\n",
              "        <matplotlib.axes._subplots.AxesSubplot object at 0x7fc3f6d796d0>,\n",
              "        <matplotlib.axes._subplots.AxesSubplot object at 0x7fc3f6d1abb0>]],\n",
              "      dtype=object)"
            ]
          },
          "metadata": {},
          "execution_count": 12
        },
        {
          "output_type": "display_data",
          "data": {
            "text/plain": [
              "<Figure size 720x576 with 9 Axes>"
            ],
            "image/png": "[encoded data removed]"
          },
          "metadata": {
            "needs_background": "light"
          }
        }
      ]
    },
    {
      "cell_type": "code",
      "source": [
        "sns.heatmap(data.corr(),annot=True)"
      ],
      "metadata": {
        "colab": {
          "base_uri": "https://localhost:8080/",
          "height": 348
        },
        "id": "cu5YBZ7Tbqfk",
        "outputId": "2740755b-14c3-4e02-c1da-bb7f62b5b7a0"
      },
      "execution_count": 13,
      "outputs": [
        {
          "output_type": "execute_result",
          "data": {
            "text/plain": [
              "<matplotlib.axes._subplots.AxesSubplot at 0x7fc3f6c45880>"
            ]
          },
          "metadata": {},
          "execution_count": 13
        },
        {
          "output_type": "display_data",
          "data": {
            "text/plain": [
              "<Figure size 432x288 with 2 Axes>"
            ],
            "image/png": "[encoded data removed]"
          },
          "metadata": {
            "needs_background": "light"
          }
        }
      ]
    },
    {
      "cell_type": "markdown",
      "source": [
        "**In the above heatmap we can clearly find that there is strong relation between humidity v/s month and meantemp v/s humidity**\n",
        "\n",
        "**Which indicates that we need to work on these 3 labels to predict the temperature for the next n number of days**"
      ],
      "metadata": {
        "id": "AXj90gcStUN0"
      }
    },
    {
      "cell_type": "code",
      "source": [
        "sns.pairplot(data, height=2.5)"
      ],
      "metadata": {
        "colab": {
          "base_uri": "https://localhost:8080/",
          "height": 1000
        },
        "id": "AwMUsblibxeD",
        "outputId": "09e7e7f9-fe0e-49e8-e67d-e20e6b16bbb3"
      },
      "execution_count": 145,
      "outputs": [
        {
          "output_type": "execute_result",
          "data": {
            "text/plain": [
              "<seaborn.axisgrid.PairGrid at 0x7f9bac399f70>"
            ]
          },
          "metadata": {},
          "execution_count": 145
        },
        {
          "output_type": "display_data",
          "data": {
            "text/plain": [
              "<Figure size 1080x1080 with 42 Axes>"
            ],
            "image/png": "[encoded data removed]"
          },
          "metadata": {}
        }
      ]
    },
    {
      "cell_type": "code",
      "source": [
        "figure = px.line(data, x=\"date\", \n",
        "                 y=\"meantemp\", \n",
        "                 title='Mean Temperature in Delhi Over the Months')\n",
        "figure.show()"
      ],
      "metadata": {
        "colab": {
          "base_uri": "https://localhost:8080/",
          "height": 542
        },
        "id": "iEc7VFg-XqF5",
        "outputId": "dc92cb1a-ffd7-469f-dee7-a289bf08d23e"
      },
      "execution_count": 15,
      "outputs": [
        {
          "output_type": "display_data",
          "data": {
            "text/html": [
              "<html>\n",
              "<head><meta charset=\"utf-8\" /></head>\n",
              "<body>\n",
              "    <div>            <script src=\"https://cdnjs.cloudflare.com/ajax/libs/mathjax/2.7.5/MathJax.js?config=TeX-AMS-MML_SVG\"></script><script type=\"text/javascript\">if (window.MathJax) {MathJax.Hub.Config({SVG: {font: \"STIX-Web\"}});}</script>                <script type=\"text/javascript\">window.PlotlyConfig = {MathJaxConfig: 'local'};</script>\n",
              "        <script src=\"https://cdn.plot.ly/plotly-2.8.3.min.js\"></script>                <div id=\"5b2ab003-2272-4a71-97b4-fa5812ad3ab7\" class=\"plotly-graph-div\" style=\"height:525px; width:100%;\"></div>            <script type=\"text/javascript\">                                    window.PLOTLYENV=window.PLOTLYENV || {};                                    if (document.getElementById(\"5b2ab003-2272-4a71-97b4-fa5812ad3ab7\")) {                    Plotly.newPlot(                        \"5b2ab003-2272-4a71-97b4-fa5812ad3ab7\",                        [{\"hovertemplate\":\"date=%{x}<br>meantemp=%{y}<extra></extra>\",\"legendgroup\":\"\",\"line\":{\"color\":\"#636efa\",\"dash\":\"solid\"},\"marker\":{\"symbol\":\"circle\"},\"mode\":\"lines\",\"name\":\"\",\"orientation\":\"v\",\"showlegend\":false,\"x\":[\"2017-01-01T00:00:00\",\"2017-01-02T00:00:00\",\"2017-01-03T00:00:00\",\"2017-01-04T00:00:00\",\"2017-01-05T00:00:00\",\"2017-01-06T00:00:00\",\"2017-01-07T00:00:00\",\"2017-01-08T00:00:00\",\"2017-01-09T00:00:00\",\"2017-01-10T00:00:00\",\"2017-01-11T00:00:00\",\"2017-01-12T00:00:00\",\"2017-01-13T00:00:00\",\"2017-01-14T00:00:00\",\"2017-01-15T00:00:00\",\"2017-01-16T00:00:00\",\"2017-01-17T00:00:00\",\"2017-01-18T00:00:00\",\"2017-01-19T00:00:00\",\"2017-01-20T00:00:00\",\"2017-01-21T00:00:00\",\"2017-01-22T00:00:00\",\"2017-01-23T00:00:00\",\"2017-01-24T00:00:00\",\"2017-01-25T00:00:00\",\"2017-01-26T00:00:00\",\"2017-01-27T00:00:00\",\"2017-01-28T00:00:00\",\"2017-01-29T00:00:00\",\"2017-01-30T00:00:00\",\"2017-01-31T00:00:00\",\"2017-02-01T00:00:00\",\"2017-02-02T00:00:00\",\"2017-02-03T00:00:00\",\"2017-02-04T00:00:00\",\"2017-02-05T00:00:00\",\"2017-02-06T00:00:00\",\"2017-02-07T00:00:00\",\"2017-02-08T00:00:00\",\"2017-02-09T00:00:00\",\"2017-02-10T00:00:00\",\"2017-02-11T00:00:00\",\"2017-02-12T00:00:00\",\"2017-02-13T00:00:00\",\"2017-02-14T00:00:00\",\"2017-02-15T00:00:00\",\"2017-02-16T00:00:00\",\"2017-02-17T00:00:00\",\"2017-02-18T00:00:00\",\"2017-02-19T00:00:00\",\"2017-02-20T00:00:00\",\"2017-02-21T00:00:00\",\"2017-02-22T00:00:00\",\"2017-02-23T00:00:00\",\"2017-02-24T00:00:00\",\"2017-02-25T00:00:00\",\"2017-02-26T00:00:00\",\"2017-02-27T00:00:00\",\"2017-02-28T00:00:00\",\"2017-03-01T00:00:00\",\"2017-03-02T00:00:00\",\"2017-03-03T00:00:00\",\"2017-03-04T00:00:00\",\"2017-03-05T00:00:00\",\"2017-03-06T00:00:00\",\"2017-03-07T00:00:00\",\"2017-03-08T00:00:00\",\"2017-03-09T00:00:00\",\"2017-03-10T00:00:00\",\"2017-03-11T00:00:00\",\"2017-03-12T00:00:00\",\"2017-03-13T00:00:00\",\"2017-03-14T00:00:00\",\"2017-03-15T00:00:00\",\"2017-03-16T00:00:00\",\"2017-03-17T00:00:00\",\"2017-03-18T00:00:00\",\"2017-03-19T00:00:00\",\"2017-03-20T00:00:00\",\"2017-03-21T00:00:00\",\"2017-03-22T00:00:00\",\"2017-03-23T00:00:00\",\"2017-03-24T00:00:00\",\"2017-03-25T00:00:00\",\"2017-03-26T00:00:00\",\"2017-03-27T00:00:00\",\"2017-03-28T00:00:00\",\"2017-03-29T00:00:00\",\"2017-03-30T00:00:00\",\"2017-03-31T00:00:00\",\"2017-04-01T00:00:00\",\"2017-04-02T00:00:00\",\"2017-04-03T00:00:00\",\"2017-04-04T00:00:00\",\"2017-04-05T00:00:00\",\"2017-04-06T00:00:00\",\"2017-04-07T00:00:00\",\"2017-04-08T00:00:00\",\"2017-04-09T00:00:00\",\"2017-04-10T00:00:00\",\"2017-04-11T00:00:00\",\"2017-04-12T00:00:00\",\"2017-04-13T00:00:00\",\"2017-04-14T00:00:00\",\"2017-04-15T00:00:00\",\"2017-04-16T00:00:00\",\"2017-04-17T00:00:00\",\"2017-04-18T00:00:00\",\"2017-04-19T00:00:00\",\"2017-04-20T00:00:00\",\"2017-04-21T00:00:00\",\"2017-04-22T00:00:00\",\"2017-04-23T00:00:00\",\"2017-04-24T00:00:00\"],\"xaxis\":\"x\",\"y\":[15.91304348,18.5,17.11111111,18.7,18.38888889,19.31818182,14.70833333,15.68421053,14.57142857,12.11111111,11.0,11.78947368,13.23529412,13.2,16.43478261,14.65,11.72222222,13.04166667,14.61904762,15.26315789,15.39130435,18.44,18.11764706,18.34782609,21.0,16.17857143,16.5,14.86363636,15.66666667,16.44444444,16.125,15.25,17.09090909,15.63636364,18.7,18.63157895,16.88888889,15.125,15.7,15.375,14.66666667,15.625,16.25,16.33333333,16.875,17.57142857,20.25,21.3,21.125,22.36363636,23.375,21.83333333,19.125,18.625,19.125,19.0,18.75,19.875,23.33333333,24.46153846,23.75,20.5,19.125,19.75,20.0,22.625,21.54545455,20.78571429,19.9375,18.53333333,17.375,17.44444444,18.0,19.875,24.0,20.9,24.69230769,24.66666667,23.33333333,25.0,27.25,28.0,28.91666667,26.5,29.1,29.5,29.88888889,31.0,29.28571429,30.625,31.375,29.75,30.5,30.93333333,29.23076923,31.22222222,27.0,25.625,27.125,27.85714286,29.25,29.25,29.66666667,30.5,31.22222222,31.0,32.55555556,34.0,33.5,34.5,34.25,32.9,32.875,32.0],\"yaxis\":\"y\",\"type\":\"scatter\"}],                        {\"template\":{\"data\":{\"bar\":[{\"error_x\":{\"color\":\"#2a3f5f\"},\"error_y\":{\"color\":\"#2a3f5f\"},\"marker\":{\"line\":{\"color\":\"#E5ECF6\",\"width\":0.5},\"pattern\":{\"fillmode\":\"overlay\",\"size\":10,\"solidity\":0.2}},\"type\":\"bar\"}],\"barpolar\":[{\"marker\":{\"line\":{\"color\":\"#E5ECF6\",\"width\":0.5},\"pattern\":{\"fillmode\":\"overlay\",\"size\":10,\"solidity\":0.2}},\"type\":\"barpolar\"}],\"carpet\":[{\"aaxis\":{\"endlinecolor\":\"#2a3f5f\",\"gridcolor\":\"white\",\"linecolor\":\"white\",\"minorgridcolor\":\"white\",\"startlinecolor\":\"#2a3f5f\"},\"baxis\":{\"endlinecolor\":\"#2a3f5f\",\"gridcolor\":\"white\",\"linecolor\":\"white\",\"minorgridcolor\":\"white\",\"startlinecolor\":\"#2a3f5f\"},\"type\":\"carpet\"}],\"choropleth\":[{\"colorbar\":{\"outlinewidth\":0,\"ticks\":\"\"},\"type\":\"choropleth\"}],\"contour\":[{\"colorbar\":{\"outlinewidth\":0,\"ticks\":\"\"},\"colorscale\":[[0.0,\"#0d0887\"],[0.1111111111111111,\"#46039f\"],[0.2222222222222222,\"#7201a8\"],[0.3333333333333333,\"#9c179e\"],[0.4444444444444444,\"#bd3786\"],[0.5555555555555556,\"#d8576b\"],[0.6666666666666666,\"#ed7953\"],[0.7777777777777778,\"#fb9f3a\"],[0.8888888888888888,\"#fdca26\"],[1.0,\"#f0f921\"]],\"type\":\"contour\"}],\"contourcarpet\":[{\"colorbar\":{\"outlinewidth\":0,\"ticks\":\"\"},\"type\":\"contourcarpet\"}],\"heatmap\":[{\"colorbar\":{\"outlinewidth\":0,\"ticks\":\"\"},\"colorscale\":[[0.0,\"#0d0887\"],[0.1111111111111111,\"#46039f\"],[0.2222222222222222,\"#7201a8\"],[0.3333333333333333,\"#9c179e\"],[0.4444444444444444,\"#bd3786\"],[0.5555555555555556,\"#d8576b\"],[0.6666666666666666,\"#ed7953\"],[0.7777777777777778,\"#fb9f3a\"],[0.8888888888888888,\"#fdca26\"],[1.0,\"#f0f921\"]],\"type\":\"heatmap\"}],\"heatmapgl\":[{\"colorbar\":{\"outlinewidth\":0,\"ticks\":\"\"},\"colorscale\":[[0.0,\"#0d0887\"],[0.1111111111111111,\"#46039f\"],[0.2222222222222222,\"#7201a8\"],[0.3333333333333333,\"#9c179e\"],[0.4444444444444444,\"#bd3786\"],[0.5555555555555556,\"#d8576b\"],[0.6666666666666666,\"#ed7953\"],[0.7777777777777778,\"#fb9f3a\"],[0.8888888888888888,\"#fdca26\"],[1.0,\"#f0f921\"]],\"type\":\"heatmapgl\"}],\"histogram\":[{\"marker\":{\"pattern\":{\"fillmode\":\"overlay\",\"size\":10,\"solidity\":0.2}},\"type\":\"histogram\"}],\"histogram2d\":[{\"colorbar\":{\"outlinewidth\":0,\"ticks\":\"\"},\"colorscale\":[[0.0,\"#0d0887\"],[0.1111111111111111,\"#46039f\"],[0.2222222222222222,\"#7201a8\"],[0.3333333333333333,\"#9c179e\"],[0.4444444444444444,\"#bd3786\"],[0.5555555555555556,\"#d8576b\"],[0.6666666666666666,\"#ed7953\"],[0.7777777777777778,\"#fb9f3a\"],[0.8888888888888888,\"#fdca26\"],[1.0,\"#f0f921\"]],\"type\":\"histogram2d\"}],\"histogram2dcontour\":[{\"colorbar\":{\"outlinewidth\":0,\"ticks\":\"\"},\"colorscale\":[[0.0,\"#0d0887\"],[0.1111111111111111,\"#46039f\"],[0.2222222222222222,\"#7201a8\"],[0.3333333333333333,\"#9c179e\"],[0.4444444444444444,\"#bd3786\"],[0.5555555555555556,\"#d8576b\"],[0.6666666666666666,\"#ed7953\"],[0.7777777777777778,\"#fb9f3a\"],[0.8888888888888888,\"#fdca26\"],[1.0,\"#f0f921\"]],\"type\":\"histogram2dcontour\"}],\"mesh3d\":[{\"colorbar\":{\"outlinewidth\":0,\"ticks\":\"\"},\"type\":\"mesh3d\"}],\"parcoords\":[{\"line\":{\"colorbar\":{\"outlinewidth\":0,\"ticks\":\"\"}},\"type\":\"parcoords\"}],\"pie\":[{\"automargin\":true,\"type\":\"pie\"}],\"scatter\":[{\"marker\":{\"colorbar\":{\"outlinewidth\":0,\"ticks\":\"\"}},\"type\":\"scatter\"}],\"scatter3d\":[{\"line\":{\"colorbar\":{\"outlinewidth\":0,\"ticks\":\"\"}},\"marker\":{\"colorbar\":{\"outlinewidth\":0,\"ticks\":\"\"}},\"type\":\"scatter3d\"}],\"scattercarpet\":[{\"marker\":{\"colorbar\":{\"outlinewidth\":0,\"ticks\":\"\"}},\"type\":\"scattercarpet\"}],\"scattergeo\":[{\"marker\":{\"colorbar\":{\"outlinewidth\":0,\"ticks\":\"\"}},\"type\":\"scattergeo\"}],\"scattergl\":[{\"marker\":{\"colorbar\":{\"outlinewidth\":0,\"ticks\":\"\"}},\"type\":\"scattergl\"}],\"scattermapbox\":[{\"marker\":{\"colorbar\":{\"outlinewidth\":0,\"ticks\":\"\"}},\"type\":\"scattermapbox\"}],\"scatterpolar\":[{\"marker\":{\"colorbar\":{\"outlinewidth\":0,\"ticks\":\"\"}},\"type\":\"scatterpolar\"}],\"scatterpolargl\":[{\"marker\":{\"colorbar\":{\"outlinewidth\":0,\"ticks\":\"\"}},\"type\":\"scatterpolargl\"}],\"scatterternary\":[{\"marker\":{\"colorbar\":{\"outlinewidth\":0,\"ticks\":\"\"}},\"type\":\"scatterternary\"}],\"surface\":[{\"colorbar\":{\"outlinewidth\":0,\"ticks\":\"\"},\"colorscale\":[[0.0,\"#0d0887\"],[0.1111111111111111,\"#46039f\"],[0.2222222222222222,\"#7201a8\"],[0.3333333333333333,\"#9c179e\"],[0.4444444444444444,\"#bd3786\"],[0.5555555555555556,\"#d8576b\"],[0.6666666666666666,\"#ed7953\"],[0.7777777777777778,\"#fb9f3a\"],[0.8888888888888888,\"#fdca26\"],[1.0,\"#f0f921\"]],\"type\":\"surface\"}],\"table\":[{\"cells\":{\"fill\":{\"color\":\"#EBF0F8\"},\"line\":{\"color\":\"white\"}},\"header\":{\"fill\":{\"color\":\"#C8D4E3\"},\"line\":{\"color\":\"white\"}},\"type\":\"table\"}]},\"layout\":{\"annotationdefaults\":{\"arrowcolor\":\"#2a3f5f\",\"arrowhead\":0,\"arrowwidth\":1},\"autotypenumbers\":\"strict\",\"coloraxis\":{\"colorbar\":{\"outlinewidth\":0,\"ticks\":\"\"}},\"colorscale\":{\"diverging\":[[0,\"#8e0152\"],[0.1,\"#c51b7d\"],[0.2,\"#de77ae\"],[0.3,\"#f1b6da\"],[0.4,\"#fde0ef\"],[0.5,\"#f7f7f7\"],[0.6,\"#e6f5d0\"],[0.7,\"#b8e186\"],[0.8,\"#7fbc41\"],[0.9,\"#4d9221\"],[1,\"#276419\"]],\"sequential\":[[0.0,\"#0d0887\"],[0.1111111111111111,\"#46039f\"],[0.2222222222222222,\"#7201a8\"],[0.3333333333333333,\"#9c179e\"],[0.4444444444444444,\"#bd3786\"],[0.5555555555555556,\"#d8576b\"],[0.6666666666666666,\"#ed7953\"],[0.7777777777777778,\"#fb9f3a\"],[0.8888888888888888,\"#fdca26\"],[1.0,\"#f0f921\"]],\"sequentialminus\":[[0.0,\"#0d0887\"],[0.1111111111111111,\"#46039f\"],[0.2222222222222222,\"#7201a8\"],[0.3333333333333333,\"#9c179e\"],[0.4444444444444444,\"#bd3786\"],[0.5555555555555556,\"#d8576b\"],[0.6666666666666666,\"#ed7953\"],[0.7777777777777778,\"#fb9f3a\"],[0.8888888888888888,\"#fdca26\"],[1.0,\"#f0f921\"]]},\"colorway\":[\"#636efa\",\"#EF553B\",\"#00cc96\",\"#ab63fa\",\"#FFA15A\",\"#19d3f3\",\"#FF6692\",\"#B6E880\",\"#FF97FF\",\"#FECB52\"],\"font\":{\"color\":\"#2a3f5f\"},\"geo\":{\"bgcolor\":\"white\",\"lakecolor\":\"white\",\"landcolor\":\"#E5ECF6\",\"showlakes\":true,\"showland\":true,\"subunitcolor\":\"white\"},\"hoverlabel\":{\"align\":\"left\"},\"hovermode\":\"closest\",\"mapbox\":{\"style\":\"light\"},\"paper_bgcolor\":\"white\",\"plot_bgcolor\":\"#E5ECF6\",\"polar\":{\"angularaxis\":{\"gridcolor\":\"white\",\"linecolor\":\"white\",\"ticks\":\"\"},\"bgcolor\":\"#E5ECF6\",\"radialaxis\":{\"gridcolor\":\"white\",\"linecolor\":\"white\",\"ticks\":\"\"}},\"scene\":{\"xaxis\":{\"backgroundcolor\":\"#E5ECF6\",\"gridcolor\":\"white\",\"gridwidth\":2,\"linecolor\":\"white\",\"showbackground\":true,\"ticks\":\"\",\"zerolinecolor\":\"white\"},\"yaxis\":{\"backgroundcolor\":\"#E5ECF6\",\"gridcolor\":\"white\",\"gridwidth\":2,\"linecolor\":\"white\",\"showbackground\":true,\"ticks\":\"\",\"zerolinecolor\":\"white\"},\"zaxis\":{\"backgroundcolor\":\"#E5ECF6\",\"gridcolor\":\"white\",\"gridwidth\":2,\"linecolor\":\"white\",\"showbackground\":true,\"ticks\":\"\",\"zerolinecolor\":\"white\"}},\"shapedefaults\":{\"line\":{\"color\":\"#2a3f5f\"}},\"ternary\":{\"aaxis\":{\"gridcolor\":\"white\",\"linecolor\":\"white\",\"ticks\":\"\"},\"baxis\":{\"gridcolor\":\"white\",\"linecolor\":\"white\",\"ticks\":\"\"},\"bgcolor\":\"#E5ECF6\",\"caxis\":{\"gridcolor\":\"white\",\"linecolor\":\"white\",\"ticks\":\"\"}},\"title\":{\"x\":0.05},\"xaxis\":{\"automargin\":true,\"gridcolor\":\"white\",\"linecolor\":\"white\",\"ticks\":\"\",\"title\":{\"standoff\":15},\"zerolinecolor\":\"white\",\"zerolinewidth\":2},\"yaxis\":{\"automargin\":true,\"gridcolor\":\"white\",\"linecolor\":\"white\",\"ticks\":\"\",\"title\":{\"standoff\":15},\"zerolinecolor\":\"white\",\"zerolinewidth\":2}}},\"xaxis\":{\"anchor\":\"y\",\"domain\":[0.0,1.0],\"title\":{\"text\":\"date\"}},\"yaxis\":{\"anchor\":\"x\",\"domain\":[0.0,1.0],\"title\":{\"text\":\"meantemp\"}},\"legend\":{\"tracegroupgap\":0},\"title\":{\"text\":\"Mean Temperature in Delhi Over the Months\"}},                        {\"responsive\": true}                    ).then(function(){\n",
              "                            \n",
              "var gd = document.getElementById('5b2ab003-2272-4a71-97b4-fa5812ad3ab7');\n",
              "var x = new MutationObserver(function (mutations, observer) {{\n",
              "        var display = window.getComputedStyle(gd).display;\n",
              "        if (!display || display === 'none') {{\n",
              "            console.log([gd, 'removed!']);\n",
              "            Plotly.purge(gd);\n",
              "            observer.disconnect();\n",
              "        }}\n",
              "}});\n",
              "\n",
              "// Listen for the removal of the full notebook cells\n",
              "var notebookContainer = gd.closest('#notebook-container');\n",
              "if (notebookContainer) {{\n",
              "    x.observe(notebookContainer, {childList: true});\n",
              "}}\n",
              "\n",
              "// Listen for the clearing of the current output cell\n",
              "var outputEl = gd.closest('.output');\n",
              "if (outputEl) {{\n",
              "    x.observe(outputEl, {childList: true});\n",
              "}}\n",
              "\n",
              "                        })                };                            </script>        </div>\n",
              "</body>\n",
              "</html>"
            ]
          },
          "metadata": {}
        }
      ]
    },
    {
      "cell_type": "code",
      "source": [
        "figure = px.line(data, x=\"date\", \n",
        "                 y=\"humidity\", \n",
        "                 title='Humidity in Delhi Over the Months')\n",
        "figure.show()"
      ],
      "metadata": {
        "colab": {
          "base_uri": "https://localhost:8080/",
          "height": 542
        },
        "id": "8FFqh1bUXt44",
        "outputId": "51a6fa24-9882-41d4-c600-c661baa4934e"
      },
      "execution_count": 16,
      "outputs": [
        {
          "output_type": "display_data",
          "data": {
            "text/html": [
              "<html>\n",
              "<head><meta charset=\"utf-8\" /></head>\n",
              "<body>\n",
              "    <div>            <script src=\"https://cdnjs.cloudflare.com/ajax/libs/mathjax/2.7.5/MathJax.js?config=TeX-AMS-MML_SVG\"></script><script type=\"text/javascript\">if (window.MathJax) {MathJax.Hub.Config({SVG: {font: \"STIX-Web\"}});}</script>                <script type=\"text/javascript\">window.PlotlyConfig = {MathJaxConfig: 'local'};</script>\n",
              "        <script src=\"https://cdn.plot.ly/plotly-2.8.3.min.js\"></script>                <div id=\"8f2a81f0-c57b-426f-b644-1150aed44508\" class=\"plotly-graph-div\" style=\"height:525px; width:100%;\"></div>            <script type=\"text/javascript\">                                    window.PLOTLYENV=window.PLOTLYENV || {};                                    if (document.getElementById(\"8f2a81f0-c57b-426f-b644-1150aed44508\")) {                    Plotly.newPlot(                        \"8f2a81f0-c57b-426f-b644-1150aed44508\",                        [{\"hovertemplate\":\"date=%{x}<br>humidity=%{y}<extra></extra>\",\"legendgroup\":\"\",\"line\":{\"color\":\"#636efa\",\"dash\":\"solid\"},\"marker\":{\"symbol\":\"circle\"},\"mode\":\"lines\",\"name\":\"\",\"orientation\":\"v\",\"showlegend\":false,\"x\":[\"2017-01-01T00:00:00\",\"2017-01-02T00:00:00\",\"2017-01-03T00:00:00\",\"2017-01-04T00:00:00\",\"2017-01-05T00:00:00\",\"2017-01-06T00:00:00\",\"2017-01-07T00:00:00\",\"2017-01-08T00:00:00\",\"2017-01-09T00:00:00\",\"2017-01-10T00:00:00\",\"2017-01-11T00:00:00\",\"2017-01-12T00:00:00\",\"2017-01-13T00:00:00\",\"2017-01-14T00:00:00\",\"2017-01-15T00:00:00\",\"2017-01-16T00:00:00\",\"2017-01-17T00:00:00\",\"2017-01-18T00:00:00\",\"2017-01-19T00:00:00\",\"2017-01-20T00:00:00\",\"2017-01-21T00:00:00\",\"2017-01-22T00:00:00\",\"2017-01-23T00:00:00\",\"2017-01-24T00:00:00\",\"2017-01-25T00:00:00\",\"2017-01-26T00:00:00\",\"2017-01-27T00:00:00\",\"2017-01-28T00:00:00\",\"2017-01-29T00:00:00\",\"2017-01-30T00:00:00\",\"2017-01-31T00:00:00\",\"2017-02-01T00:00:00\",\"2017-02-02T00:00:00\",\"2017-02-03T00:00:00\",\"2017-02-04T00:00:00\",\"2017-02-05T00:00:00\",\"2017-02-06T00:00:00\",\"2017-02-07T00:00:00\",\"2017-02-08T00:00:00\",\"2017-02-09T00:00:00\",\"2017-02-10T00:00:00\",\"2017-02-11T00:00:00\",\"2017-02-12T00:00:00\",\"2017-02-13T00:00:00\",\"2017-02-14T00:00:00\",\"2017-02-15T00:00:00\",\"2017-02-16T00:00:00\",\"2017-02-17T00:00:00\",\"2017-02-18T00:00:00\",\"2017-02-19T00:00:00\",\"2017-02-20T00:00:00\",\"2017-02-21T00:00:00\",\"2017-02-22T00:00:00\",\"2017-02-23T00:00:00\",\"2017-02-24T00:00:00\",\"2017-02-25T00:00:00\",\"2017-02-26T00:00:00\",\"2017-02-27T00:00:00\",\"2017-02-28T00:00:00\",\"2017-03-01T00:00:00\",\"2017-03-02T00:00:00\",\"2017-03-03T00:00:00\",\"2017-03-04T00:00:00\",\"2017-03-05T00:00:00\",\"2017-03-06T00:00:00\",\"2017-03-07T00:00:00\",\"2017-03-08T00:00:00\",\"2017-03-09T00:00:00\",\"2017-03-10T00:00:00\",\"2017-03-11T00:00:00\",\"2017-03-12T00:00:00\",\"2017-03-13T00:00:00\",\"2017-03-14T00:00:00\",\"2017-03-15T00:00:00\",\"2017-03-16T00:00:00\",\"2017-03-17T00:00:00\",\"2017-03-18T00:00:00\",\"2017-03-19T00:00:00\",\"2017-03-20T00:00:00\",\"2017-03-21T00:00:00\",\"2017-03-22T00:00:00\",\"2017-03-23T00:00:00\",\"2017-03-24T00:00:00\",\"2017-03-25T00:00:00\",\"2017-03-26T00:00:00\",\"2017-03-27T00:00:00\",\"2017-03-28T00:00:00\",\"2017-03-29T00:00:00\",\"2017-03-30T00:00:00\",\"2017-03-31T00:00:00\",\"2017-04-01T00:00:00\",\"2017-04-02T00:00:00\",\"2017-04-03T00:00:00\",\"2017-04-04T00:00:00\",\"2017-04-05T00:00:00\",\"2017-04-06T00:00:00\",\"2017-04-07T00:00:00\",\"2017-04-08T00:00:00\",\"2017-04-09T00:00:00\",\"2017-04-10T00:00:00\",\"2017-04-11T00:00:00\",\"2017-04-12T00:00:00\",\"2017-04-13T00:00:00\",\"2017-04-14T00:00:00\",\"2017-04-15T00:00:00\",\"2017-04-16T00:00:00\",\"2017-04-17T00:00:00\",\"2017-04-18T00:00:00\",\"2017-04-19T00:00:00\",\"2017-04-20T00:00:00\",\"2017-04-21T00:00:00\",\"2017-04-22T00:00:00\",\"2017-04-23T00:00:00\",\"2017-04-24T00:00:00\"],\"xaxis\":\"x\",\"y\":[85.86956522,77.22222222,81.88888889,70.05,74.94444444,79.31818182,95.83333333,83.52631579,80.80952381,71.94444444,72.11111111,74.57894737,67.05882353,74.28,72.56521739,78.45,84.44444444,78.33333333,75.14285714,66.47368421,70.86956522,76.24,76.0,68.13043478,69.96,91.64285714,77.04166667,82.77272727,81.77777778,77.55555556,76.0,78.625,66.54545455,78.18181818,77.6,77.63157895,69.66666667,63.75,68.4,68.375,71.77777778,64.0,70.375,67.0,65.5,67.71428571,56.75,64.4,70.75,66.09090909,60.125,69.41666667,57.125,42.875,40.375,50.42857143,59.0,58.375,51.66666667,47.92307692,54.25,42.5,43.125,41.25,42.44444444,41.5,52.72727273,69.07142857,67.75,60.4,56.625,49.33333333,56.33333333,54.75,49.2,59.7,46.30769231,52.27777778,54.66666667,49.0,45.0,49.75,37.66666667,39.375,37.1,38.625,40.66666667,34.5,36.85714286,37.625,35.125,33.75,29.75,31.86666667,46.0,26.0,29.875,29.375,21.125,19.42857143,17.75,26.0,29.11111111,37.625,30.44444444,34.25,38.44444444,27.33333333,24.125,27.5,39.375,40.9,27.5,27.14285714],\"yaxis\":\"y\",\"type\":\"scatter\"}],                        {\"template\":{\"data\":{\"bar\":[{\"error_x\":{\"color\":\"#2a3f5f\"},\"error_y\":{\"color\":\"#2a3f5f\"},\"marker\":{\"line\":{\"color\":\"#E5ECF6\",\"width\":0.5},\"pattern\":{\"fillmode\":\"overlay\",\"size\":10,\"solidity\":0.2}},\"type\":\"bar\"}],\"barpolar\":[{\"marker\":{\"line\":{\"color\":\"#E5ECF6\",\"width\":0.5},\"pattern\":{\"fillmode\":\"overlay\",\"size\":10,\"solidity\":0.2}},\"type\":\"barpolar\"}],\"carpet\":[{\"aaxis\":{\"endlinecolor\":\"#2a3f5f\",\"gridcolor\":\"white\",\"linecolor\":\"white\",\"minorgridcolor\":\"white\",\"startlinecolor\":\"#2a3f5f\"},\"baxis\":{\"endlinecolor\":\"#2a3f5f\",\"gridcolor\":\"white\",\"linecolor\":\"white\",\"minorgridcolor\":\"white\",\"startlinecolor\":\"#2a3f5f\"},\"type\":\"carpet\"}],\"choropleth\":[{\"colorbar\":{\"outlinewidth\":0,\"ticks\":\"\"},\"type\":\"choropleth\"}],\"contour\":[{\"colorbar\":{\"outlinewidth\":0,\"ticks\":\"\"},\"colorscale\":[[0.0,\"#0d0887\"],[0.1111111111111111,\"#46039f\"],[0.2222222222222222,\"#7201a8\"],[0.3333333333333333,\"#9c179e\"],[0.4444444444444444,\"#bd3786\"],[0.5555555555555556,\"#d8576b\"],[0.6666666666666666,\"#ed7953\"],[0.7777777777777778,\"#fb9f3a\"],[0.8888888888888888,\"#fdca26\"],[1.0,\"#f0f921\"]],\"type\":\"contour\"}],\"contourcarpet\":[{\"colorbar\":{\"outlinewidth\":0,\"ticks\":\"\"},\"type\":\"contourcarpet\"}],\"heatmap\":[{\"colorbar\":{\"outlinewidth\":0,\"ticks\":\"\"},\"colorscale\":[[0.0,\"#0d0887\"],[0.1111111111111111,\"#46039f\"],[0.2222222222222222,\"#7201a8\"],[0.3333333333333333,\"#9c179e\"],[0.4444444444444444,\"#bd3786\"],[0.5555555555555556,\"#d8576b\"],[0.6666666666666666,\"#ed7953\"],[0.7777777777777778,\"#fb9f3a\"],[0.8888888888888888,\"#fdca26\"],[1.0,\"#f0f921\"]],\"type\":\"heatmap\"}],\"heatmapgl\":[{\"colorbar\":{\"outlinewidth\":0,\"ticks\":\"\"},\"colorscale\":[[0.0,\"#0d0887\"],[0.1111111111111111,\"#46039f\"],[0.2222222222222222,\"#7201a8\"],[0.3333333333333333,\"#9c179e\"],[0.4444444444444444,\"#bd3786\"],[0.5555555555555556,\"#d8576b\"],[0.6666666666666666,\"#ed7953\"],[0.7777777777777778,\"#fb9f3a\"],[0.8888888888888888,\"#fdca26\"],[1.0,\"#f0f921\"]],\"type\":\"heatmapgl\"}],\"histogram\":[{\"marker\":{\"pattern\":{\"fillmode\":\"overlay\",\"size\":10,\"solidity\":0.2}},\"type\":\"histogram\"}],\"histogram2d\":[{\"colorbar\":{\"outlinewidth\":0,\"ticks\":\"\"},\"colorscale\":[[0.0,\"#0d0887\"],[0.1111111111111111,\"#46039f\"],[0.2222222222222222,\"#7201a8\"],[0.3333333333333333,\"#9c179e\"],[0.4444444444444444,\"#bd3786\"],[0.5555555555555556,\"#d8576b\"],[0.6666666666666666,\"#ed7953\"],[0.7777777777777778,\"#fb9f3a\"],[0.8888888888888888,\"#fdca26\"],[1.0,\"#f0f921\"]],\"type\":\"histogram2d\"}],\"histogram2dcontour\":[{\"colorbar\":{\"outlinewidth\":0,\"ticks\":\"\"},\"colorscale\":[[0.0,\"#0d0887\"],[0.1111111111111111,\"#46039f\"],[0.2222222222222222,\"#7201a8\"],[0.3333333333333333,\"#9c179e\"],[0.4444444444444444,\"#bd3786\"],[0.5555555555555556,\"#d8576b\"],[0.6666666666666666,\"#ed7953\"],[0.7777777777777778,\"#fb9f3a\"],[0.8888888888888888,\"#fdca26\"],[1.0,\"#f0f921\"]],\"type\":\"histogram2dcontour\"}],\"mesh3d\":[{\"colorbar\":{\"outlinewidth\":0,\"ticks\":\"\"},\"type\":\"mesh3d\"}],\"parcoords\":[{\"line\":{\"colorbar\":{\"outlinewidth\":0,\"ticks\":\"\"}},\"type\":\"parcoords\"}],\"pie\":[{\"automargin\":true,\"type\":\"pie\"}],\"scatter\":[{\"marker\":{\"colorbar\":{\"outlinewidth\":0,\"ticks\":\"\"}},\"type\":\"scatter\"}],\"scatter3d\":[{\"line\":{\"colorbar\":{\"outlinewidth\":0,\"ticks\":\"\"}},\"marker\":{\"colorbar\":{\"outlinewidth\":0,\"ticks\":\"\"}},\"type\":\"scatter3d\"}],\"scattercarpet\":[{\"marker\":{\"colorbar\":{\"outlinewidth\":0,\"ticks\":\"\"}},\"type\":\"scattercarpet\"}],\"scattergeo\":[{\"marker\":{\"colorbar\":{\"outlinewidth\":0,\"ticks\":\"\"}},\"type\":\"scattergeo\"}],\"scattergl\":[{\"marker\":{\"colorbar\":{\"outlinewidth\":0,\"ticks\":\"\"}},\"type\":\"scattergl\"}],\"scattermapbox\":[{\"marker\":{\"colorbar\":{\"outlinewidth\":0,\"ticks\":\"\"}},\"type\":\"scattermapbox\"}],\"scatterpolar\":[{\"marker\":{\"colorbar\":{\"outlinewidth\":0,\"ticks\":\"\"}},\"type\":\"scatterpolar\"}],\"scatterpolargl\":[{\"marker\":{\"colorbar\":{\"outlinewidth\":0,\"ticks\":\"\"}},\"type\":\"scatterpolargl\"}],\"scatterternary\":[{\"marker\":{\"colorbar\":{\"outlinewidth\":0,\"ticks\":\"\"}},\"type\":\"scatterternary\"}],\"surface\":[{\"colorbar\":{\"outlinewidth\":0,\"ticks\":\"\"},\"colorscale\":[[0.0,\"#0d0887\"],[0.1111111111111111,\"#46039f\"],[0.2222222222222222,\"#7201a8\"],[0.3333333333333333,\"#9c179e\"],[0.4444444444444444,\"#bd3786\"],[0.5555555555555556,\"#d8576b\"],[0.6666666666666666,\"#ed7953\"],[0.7777777777777778,\"#fb9f3a\"],[0.8888888888888888,\"#fdca26\"],[1.0,\"#f0f921\"]],\"type\":\"surface\"}],\"table\":[{\"cells\":{\"fill\":{\"color\":\"#EBF0F8\"},\"line\":{\"color\":\"white\"}},\"header\":{\"fill\":{\"color\":\"#C8D4E3\"},\"line\":{\"color\":\"white\"}},\"type\":\"table\"}]},\"layout\":{\"annotationdefaults\":{\"arrowcolor\":\"#2a3f5f\",\"arrowhead\":0,\"arrowwidth\":1},\"autotypenumbers\":\"strict\",\"coloraxis\":{\"colorbar\":{\"outlinewidth\":0,\"ticks\":\"\"}},\"colorscale\":{\"diverging\":[[0,\"#8e0152\"],[0.1,\"#c51b7d\"],[0.2,\"#de77ae\"],[0.3,\"#f1b6da\"],[0.4,\"#fde0ef\"],[0.5,\"#f7f7f7\"],[0.6,\"#e6f5d0\"],[0.7,\"#b8e186\"],[0.8,\"#7fbc41\"],[0.9,\"#4d9221\"],[1,\"#276419\"]],\"sequential\":[[0.0,\"#0d0887\"],[0.1111111111111111,\"#46039f\"],[0.2222222222222222,\"#7201a8\"],[0.3333333333333333,\"#9c179e\"],[0.4444444444444444,\"#bd3786\"],[0.5555555555555556,\"#d8576b\"],[0.6666666666666666,\"#ed7953\"],[0.7777777777777778,\"#fb9f3a\"],[0.8888888888888888,\"#fdca26\"],[1.0,\"#f0f921\"]],\"sequentialminus\":[[0.0,\"#0d0887\"],[0.1111111111111111,\"#46039f\"],[0.2222222222222222,\"#7201a8\"],[0.3333333333333333,\"#9c179e\"],[0.4444444444444444,\"#bd3786\"],[0.5555555555555556,\"#d8576b\"],[0.6666666666666666,\"#ed7953\"],[0.7777777777777778,\"#fb9f3a\"],[0.8888888888888888,\"#fdca26\"],[1.0,\"#f0f921\"]]},\"colorway\":[\"#636efa\",\"#EF553B\",\"#00cc96\",\"#ab63fa\",\"#FFA15A\",\"#19d3f3\",\"#FF6692\",\"#B6E880\",\"#FF97FF\",\"#FECB52\"],\"font\":{\"color\":\"#2a3f5f\"},\"geo\":{\"bgcolor\":\"white\",\"lakecolor\":\"white\",\"landcolor\":\"#E5ECF6\",\"showlakes\":true,\"showland\":true,\"subunitcolor\":\"white\"},\"hoverlabel\":{\"align\":\"left\"},\"hovermode\":\"closest\",\"mapbox\":{\"style\":\"light\"},\"paper_bgcolor\":\"white\",\"plot_bgcolor\":\"#E5ECF6\",\"polar\":{\"angularaxis\":{\"gridcolor\":\"white\",\"linecolor\":\"white\",\"ticks\":\"\"},\"bgcolor\":\"#E5ECF6\",\"radialaxis\":{\"gridcolor\":\"white\",\"linecolor\":\"white\",\"ticks\":\"\"}},\"scene\":{\"xaxis\":{\"backgroundcolor\":\"#E5ECF6\",\"gridcolor\":\"white\",\"gridwidth\":2,\"linecolor\":\"white\",\"showbackground\":true,\"ticks\":\"\",\"zerolinecolor\":\"white\"},\"yaxis\":{\"backgroundcolor\":\"#E5ECF6\",\"gridcolor\":\"white\",\"gridwidth\":2,\"linecolor\":\"white\",\"showbackground\":true,\"ticks\":\"\",\"zerolinecolor\":\"white\"},\"zaxis\":{\"backgroundcolor\":\"#E5ECF6\",\"gridcolor\":\"white\",\"gridwidth\":2,\"linecolor\":\"white\",\"showbackground\":true,\"ticks\":\"\",\"zerolinecolor\":\"white\"}},\"shapedefaults\":{\"line\":{\"color\":\"#2a3f5f\"}},\"ternary\":{\"aaxis\":{\"gridcolor\":\"white\",\"linecolor\":\"white\",\"ticks\":\"\"},\"baxis\":{\"gridcolor\":\"white\",\"linecolor\":\"white\",\"ticks\":\"\"},\"bgcolor\":\"#E5ECF6\",\"caxis\":{\"gridcolor\":\"white\",\"linecolor\":\"white\",\"ticks\":\"\"}},\"title\":{\"x\":0.05},\"xaxis\":{\"automargin\":true,\"gridcolor\":\"white\",\"linecolor\":\"white\",\"ticks\":\"\",\"title\":{\"standoff\":15},\"zerolinecolor\":\"white\",\"zerolinewidth\":2},\"yaxis\":{\"automargin\":true,\"gridcolor\":\"white\",\"linecolor\":\"white\",\"ticks\":\"\",\"title\":{\"standoff\":15},\"zerolinecolor\":\"white\",\"zerolinewidth\":2}}},\"xaxis\":{\"anchor\":\"y\",\"domain\":[0.0,1.0],\"title\":{\"text\":\"date\"}},\"yaxis\":{\"anchor\":\"x\",\"domain\":[0.0,1.0],\"title\":{\"text\":\"humidity\"}},\"legend\":{\"tracegroupgap\":0},\"title\":{\"text\":\"Humidity in Delhi Over the Months\"}},                        {\"responsive\": true}                    ).then(function(){\n",
              "                            \n",
              "var gd = document.getElementById('8f2a81f0-c57b-426f-b644-1150aed44508');\n",
              "var x = new MutationObserver(function (mutations, observer) {{\n",
              "        var display = window.getComputedStyle(gd).display;\n",
              "        if (!display || display === 'none') {{\n",
              "            console.log([gd, 'removed!']);\n",
              "            Plotly.purge(gd);\n",
              "            observer.disconnect();\n",
              "        }}\n",
              "}});\n",
              "\n",
              "// Listen for the removal of the full notebook cells\n",
              "var notebookContainer = gd.closest('#notebook-container');\n",
              "if (notebookContainer) {{\n",
              "    x.observe(notebookContainer, {childList: true});\n",
              "}}\n",
              "\n",
              "// Listen for the clearing of the current output cell\n",
              "var outputEl = gd.closest('.output');\n",
              "if (outputEl) {{\n",
              "    x.observe(outputEl, {childList: true});\n",
              "}}\n",
              "\n",
              "                        })                };                            </script>        </div>\n",
              "</body>\n",
              "</html>"
            ]
          },
          "metadata": {}
        }
      ]
    },
    {
      "cell_type": "code",
      "source": [
        "figure = px.line(data, x=\"date\", \n",
        "                 y=\"wind_speed\", \n",
        "                 title='Wind Speed in Delhi Over the Months')\n",
        "figure.show()"
      ],
      "metadata": {
        "colab": {
          "base_uri": "https://localhost:8080/",
          "height": 542
        },
        "id": "wrFMKQhlXxCC",
        "outputId": "8714fcf5-b883-439b-eecb-f11aa6d7f63c"
      },
      "execution_count": 17,
      "outputs": [
        {
          "output_type": "display_data",
          "data": {
            "text/html": [
              "<html>\n",
              "<head><meta charset=\"utf-8\" /></head>\n",
              "<body>\n",
              "    <div>            <script src=\"https://cdnjs.cloudflare.com/ajax/libs/mathjax/2.7.5/MathJax.js?config=TeX-AMS-MML_SVG\"></script><script type=\"text/javascript\">if (window.MathJax) {MathJax.Hub.Config({SVG: {font: \"STIX-Web\"}});}</script>                <script type=\"text/javascript\">window.PlotlyConfig = {MathJaxConfig: 'local'};</script>\n",
              "        <script src=\"https://cdn.plot.ly/plotly-2.8.3.min.js\"></script>                <div id=\"80c77681-4350-43b9-93d2-d3a11ffac366\" class=\"plotly-graph-div\" style=\"height:525px; width:100%;\"></div>            <script type=\"text/javascript\">                                    window.PLOTLYENV=window.PLOTLYENV || {};                                    if (document.getElementById(\"80c77681-4350-43b9-93d2-d3a11ffac366\")) {                    Plotly.newPlot(                        \"80c77681-4350-43b9-93d2-d3a11ffac366\",                        [{\"hovertemplate\":\"date=%{x}<br>wind_speed=%{y}<extra></extra>\",\"legendgroup\":\"\",\"line\":{\"color\":\"#636efa\",\"dash\":\"solid\"},\"marker\":{\"symbol\":\"circle\"},\"mode\":\"lines\",\"name\":\"\",\"orientation\":\"v\",\"showlegend\":false,\"x\":[\"2017-01-01T00:00:00\",\"2017-01-02T00:00:00\",\"2017-01-03T00:00:00\",\"2017-01-04T00:00:00\",\"2017-01-05T00:00:00\",\"2017-01-06T00:00:00\",\"2017-01-07T00:00:00\",\"2017-01-08T00:00:00\",\"2017-01-09T00:00:00\",\"2017-01-10T00:00:00\",\"2017-01-11T00:00:00\",\"2017-01-12T00:00:00\",\"2017-01-13T00:00:00\",\"2017-01-14T00:00:00\",\"2017-01-15T00:00:00\",\"2017-01-16T00:00:00\",\"2017-01-17T00:00:00\",\"2017-01-18T00:00:00\",\"2017-01-19T00:00:00\",\"2017-01-20T00:00:00\",\"2017-01-21T00:00:00\",\"2017-01-22T00:00:00\",\"2017-01-23T00:00:00\",\"2017-01-24T00:00:00\",\"2017-01-25T00:00:00\",\"2017-01-26T00:00:00\",\"2017-01-27T00:00:00\",\"2017-01-28T00:00:00\",\"2017-01-29T00:00:00\",\"2017-01-30T00:00:00\",\"2017-01-31T00:00:00\",\"2017-02-01T00:00:00\",\"2017-02-02T00:00:00\",\"2017-02-03T00:00:00\",\"2017-02-04T00:00:00\",\"2017-02-05T00:00:00\",\"2017-02-06T00:00:00\",\"2017-02-07T00:00:00\",\"2017-02-08T00:00:00\",\"2017-02-09T00:00:00\",\"2017-02-10T00:00:00\",\"2017-02-11T00:00:00\",\"2017-02-12T00:00:00\",\"2017-02-13T00:00:00\",\"2017-02-14T00:00:00\",\"2017-02-15T00:00:00\",\"2017-02-16T00:00:00\",\"2017-02-17T00:00:00\",\"2017-02-18T00:00:00\",\"2017-02-19T00:00:00\",\"2017-02-20T00:00:00\",\"2017-02-21T00:00:00\",\"2017-02-22T00:00:00\",\"2017-02-23T00:00:00\",\"2017-02-24T00:00:00\",\"2017-02-25T00:00:00\",\"2017-02-26T00:00:00\",\"2017-02-27T00:00:00\",\"2017-02-28T00:00:00\",\"2017-03-01T00:00:00\",\"2017-03-02T00:00:00\",\"2017-03-03T00:00:00\",\"2017-03-04T00:00:00\",\"2017-03-05T00:00:00\",\"2017-03-06T00:00:00\",\"2017-03-07T00:00:00\",\"2017-03-08T00:00:00\",\"2017-03-09T00:00:00\",\"2017-03-10T00:00:00\",\"2017-03-11T00:00:00\",\"2017-03-12T00:00:00\",\"2017-03-13T00:00:00\",\"2017-03-14T00:00:00\",\"2017-03-15T00:00:00\",\"2017-03-16T00:00:00\",\"2017-03-17T00:00:00\",\"2017-03-18T00:00:00\",\"2017-03-19T00:00:00\",\"2017-03-20T00:00:00\",\"2017-03-21T00:00:00\",\"2017-03-22T00:00:00\",\"2017-03-23T00:00:00\",\"2017-03-24T00:00:00\",\"2017-03-25T00:00:00\",\"2017-03-26T00:00:00\",\"2017-03-27T00:00:00\",\"2017-03-28T00:00:00\",\"2017-03-29T00:00:00\",\"2017-03-30T00:00:00\",\"2017-03-31T00:00:00\",\"2017-04-01T00:00:00\",\"2017-04-02T00:00:00\",\"2017-04-03T00:00:00\",\"2017-04-04T00:00:00\",\"2017-04-05T00:00:00\",\"2017-04-06T00:00:00\",\"2017-04-07T00:00:00\",\"2017-04-08T00:00:00\",\"2017-04-09T00:00:00\",\"2017-04-10T00:00:00\",\"2017-04-11T00:00:00\",\"2017-04-12T00:00:00\",\"2017-04-13T00:00:00\",\"2017-04-14T00:00:00\",\"2017-04-15T00:00:00\",\"2017-04-16T00:00:00\",\"2017-04-17T00:00:00\",\"2017-04-18T00:00:00\",\"2017-04-19T00:00:00\",\"2017-04-20T00:00:00\",\"2017-04-21T00:00:00\",\"2017-04-22T00:00:00\",\"2017-04-23T00:00:00\",\"2017-04-24T00:00:00\"],\"xaxis\":\"x\",\"y\":[2.743478261,2.894444444,4.016666667,4.545,3.3,8.681818182,10.04166667,1.95,6.542857143,9.361111111,9.772222222,6.626315789,6.435294118,5.276,3.630434783,10.38,8.038888889,6.029166667,10.33809524,11.22631579,13.69565217,5.868,6.752941176,3.391304348,8.756,8.467857143,14.35833333,9.690909091,10.29444444,4.322222222,4.625,5.1,3.027272727,1.854545455,9.82,8.1,9.044444444,7.6375,4.08,7.875,9.066666667,3.95,1.625,6.377777778,6.9625,5.557142857,10.4375,9.28,6.25,6.054545455,6.9375,12.34166667,7.4125,14.35,16.6625,11.92857143,11.1125,5.1,3.911111111,6.415384615,5.93,7.4125,8.35,9.9625,9.666666667,6.025,10.26363636,8.342857143,11.4625,5.566666667,7.6375,9.055555556,4.522222222,7.175,5.56,11.49,7.123076923,9.161111111,10.07777778,9.2625,10.1875,3.4875,10.03333333,10.425,17.59,13.65,8.844444444,13.2,10.58571429,6.95,9.0375,9.2625,6.9375,14.32,14.38461538,13.57777778,4.65,8.3375,14.125,19.31428571,15.5125,9.4875,4.944444444,1.3875,5.966666667,2.1,5.366666667,7.811111111,9.025,5.5625,6.9625,8.89,9.9625,12.15714286],\"yaxis\":\"y\",\"type\":\"scatter\"}],                        {\"template\":{\"data\":{\"bar\":[{\"error_x\":{\"color\":\"#2a3f5f\"},\"error_y\":{\"color\":\"#2a3f5f\"},\"marker\":{\"line\":{\"color\":\"#E5ECF6\",\"width\":0.5},\"pattern\":{\"fillmode\":\"overlay\",\"size\":10,\"solidity\":0.2}},\"type\":\"bar\"}],\"barpolar\":[{\"marker\":{\"line\":{\"color\":\"#E5ECF6\",\"width\":0.5},\"pattern\":{\"fillmode\":\"overlay\",\"size\":10,\"solidity\":0.2}},\"type\":\"barpolar\"}],\"carpet\":[{\"aaxis\":{\"endlinecolor\":\"#2a3f5f\",\"gridcolor\":\"white\",\"linecolor\":\"white\",\"minorgridcolor\":\"white\",\"startlinecolor\":\"#2a3f5f\"},\"baxis\":{\"endlinecolor\":\"#2a3f5f\",\"gridcolor\":\"white\",\"linecolor\":\"white\",\"minorgridcolor\":\"white\",\"startlinecolor\":\"#2a3f5f\"},\"type\":\"carpet\"}],\"choropleth\":[{\"colorbar\":{\"outlinewidth\":0,\"ticks\":\"\"},\"type\":\"choropleth\"}],\"contour\":[{\"colorbar\":{\"outlinewidth\":0,\"ticks\":\"\"},\"colorscale\":[[0.0,\"#0d0887\"],[0.1111111111111111,\"#46039f\"],[0.2222222222222222,\"#7201a8\"],[0.3333333333333333,\"#9c179e\"],[0.4444444444444444,\"#bd3786\"],[0.5555555555555556,\"#d8576b\"],[0.6666666666666666,\"#ed7953\"],[0.7777777777777778,\"#fb9f3a\"],[0.8888888888888888,\"#fdca26\"],[1.0,\"#f0f921\"]],\"type\":\"contour\"}],\"contourcarpet\":[{\"colorbar\":{\"outlinewidth\":0,\"ticks\":\"\"},\"type\":\"contourcarpet\"}],\"heatmap\":[{\"colorbar\":{\"outlinewidth\":0,\"ticks\":\"\"},\"colorscale\":[[0.0,\"#0d0887\"],[0.1111111111111111,\"#46039f\"],[0.2222222222222222,\"#7201a8\"],[0.3333333333333333,\"#9c179e\"],[0.4444444444444444,\"#bd3786\"],[0.5555555555555556,\"#d8576b\"],[0.6666666666666666,\"#ed7953\"],[0.7777777777777778,\"#fb9f3a\"],[0.8888888888888888,\"#fdca26\"],[1.0,\"#f0f921\"]],\"type\":\"heatmap\"}],\"heatmapgl\":[{\"colorbar\":{\"outlinewidth\":0,\"ticks\":\"\"},\"colorscale\":[[0.0,\"#0d0887\"],[0.1111111111111111,\"#46039f\"],[0.2222222222222222,\"#7201a8\"],[0.3333333333333333,\"#9c179e\"],[0.4444444444444444,\"#bd3786\"],[0.5555555555555556,\"#d8576b\"],[0.6666666666666666,\"#ed7953\"],[0.7777777777777778,\"#fb9f3a\"],[0.8888888888888888,\"#fdca26\"],[1.0,\"#f0f921\"]],\"type\":\"heatmapgl\"}],\"histogram\":[{\"marker\":{\"pattern\":{\"fillmode\":\"overlay\",\"size\":10,\"solidity\":0.2}},\"type\":\"histogram\"}],\"histogram2d\":[{\"colorbar\":{\"outlinewidth\":0,\"ticks\":\"\"},\"colorscale\":[[0.0,\"#0d0887\"],[0.1111111111111111,\"#46039f\"],[0.2222222222222222,\"#7201a8\"],[0.3333333333333333,\"#9c179e\"],[0.4444444444444444,\"#bd3786\"],[0.5555555555555556,\"#d8576b\"],[0.6666666666666666,\"#ed7953\"],[0.7777777777777778,\"#fb9f3a\"],[0.8888888888888888,\"#fdca26\"],[1.0,\"#f0f921\"]],\"type\":\"histogram2d\"}],\"histogram2dcontour\":[{\"colorbar\":{\"outlinewidth\":0,\"ticks\":\"\"},\"colorscale\":[[0.0,\"#0d0887\"],[0.1111111111111111,\"#46039f\"],[0.2222222222222222,\"#7201a8\"],[0.3333333333333333,\"#9c179e\"],[0.4444444444444444,\"#bd3786\"],[0.5555555555555556,\"#d8576b\"],[0.6666666666666666,\"#ed7953\"],[0.7777777777777778,\"#fb9f3a\"],[0.8888888888888888,\"#fdca26\"],[1.0,\"#f0f921\"]],\"type\":\"histogram2dcontour\"}],\"mesh3d\":[{\"colorbar\":{\"outlinewidth\":0,\"ticks\":\"\"},\"type\":\"mesh3d\"}],\"parcoords\":[{\"line\":{\"colorbar\":{\"outlinewidth\":0,\"ticks\":\"\"}},\"type\":\"parcoords\"}],\"pie\":[{\"automargin\":true,\"type\":\"pie\"}],\"scatter\":[{\"marker\":{\"colorbar\":{\"outlinewidth\":0,\"ticks\":\"\"}},\"type\":\"scatter\"}],\"scatter3d\":[{\"line\":{\"colorbar\":{\"outlinewidth\":0,\"ticks\":\"\"}},\"marker\":{\"colorbar\":{\"outlinewidth\":0,\"ticks\":\"\"}},\"type\":\"scatter3d\"}],\"scattercarpet\":[{\"marker\":{\"colorbar\":{\"outlinewidth\":0,\"ticks\":\"\"}},\"type\":\"scattercarpet\"}],\"scattergeo\":[{\"marker\":{\"colorbar\":{\"outlinewidth\":0,\"ticks\":\"\"}},\"type\":\"scattergeo\"}],\"scattergl\":[{\"marker\":{\"colorbar\":{\"outlinewidth\":0,\"ticks\":\"\"}},\"type\":\"scattergl\"}],\"scattermapbox\":[{\"marker\":{\"colorbar\":{\"outlinewidth\":0,\"ticks\":\"\"}},\"type\":\"scattermapbox\"}],\"scatterpolar\":[{\"marker\":{\"colorbar\":{\"outlinewidth\":0,\"ticks\":\"\"}},\"type\":\"scatterpolar\"}],\"scatterpolargl\":[{\"marker\":{\"colorbar\":{\"outlinewidth\":0,\"ticks\":\"\"}},\"type\":\"scatterpolargl\"}],\"scatterternary\":[{\"marker\":{\"colorbar\":{\"outlinewidth\":0,\"ticks\":\"\"}},\"type\":\"scatterternary\"}],\"surface\":[{\"colorbar\":{\"outlinewidth\":0,\"ticks\":\"\"},\"colorscale\":[[0.0,\"#0d0887\"],[0.1111111111111111,\"#46039f\"],[0.2222222222222222,\"#7201a8\"],[0.3333333333333333,\"#9c179e\"],[0.4444444444444444,\"#bd3786\"],[0.5555555555555556,\"#d8576b\"],[0.6666666666666666,\"#ed7953\"],[0.7777777777777778,\"#fb9f3a\"],[0.8888888888888888,\"#fdca26\"],[1.0,\"#f0f921\"]],\"type\":\"surface\"}],\"table\":[{\"cells\":{\"fill\":{\"color\":\"#EBF0F8\"},\"line\":{\"color\":\"white\"}},\"header\":{\"fill\":{\"color\":\"#C8D4E3\"},\"line\":{\"color\":\"white\"}},\"type\":\"table\"}]},\"layout\":{\"annotationdefaults\":{\"arrowcolor\":\"#2a3f5f\",\"arrowhead\":0,\"arrowwidth\":1},\"autotypenumbers\":\"strict\",\"coloraxis\":{\"colorbar\":{\"outlinewidth\":0,\"ticks\":\"\"}},\"colorscale\":{\"diverging\":[[0,\"#8e0152\"],[0.1,\"#c51b7d\"],[0.2,\"#de77ae\"],[0.3,\"#f1b6da\"],[0.4,\"#fde0ef\"],[0.5,\"#f7f7f7\"],[0.6,\"#e6f5d0\"],[0.7,\"#b8e186\"],[0.8,\"#7fbc41\"],[0.9,\"#4d9221\"],[1,\"#276419\"]],\"sequential\":[[0.0,\"#0d0887\"],[0.1111111111111111,\"#46039f\"],[0.2222222222222222,\"#7201a8\"],[0.3333333333333333,\"#9c179e\"],[0.4444444444444444,\"#bd3786\"],[0.5555555555555556,\"#d8576b\"],[0.6666666666666666,\"#ed7953\"],[0.7777777777777778,\"#fb9f3a\"],[0.8888888888888888,\"#fdca26\"],[1.0,\"#f0f921\"]],\"sequentialminus\":[[0.0,\"#0d0887\"],[0.1111111111111111,\"#46039f\"],[0.2222222222222222,\"#7201a8\"],[0.3333333333333333,\"#9c179e\"],[0.4444444444444444,\"#bd3786\"],[0.5555555555555556,\"#d8576b\"],[0.6666666666666666,\"#ed7953\"],[0.7777777777777778,\"#fb9f3a\"],[0.8888888888888888,\"#fdca26\"],[1.0,\"#f0f921\"]]},\"colorway\":[\"#636efa\",\"#EF553B\",\"#00cc96\",\"#ab63fa\",\"#FFA15A\",\"#19d3f3\",\"#FF6692\",\"#B6E880\",\"#FF97FF\",\"#FECB52\"],\"font\":{\"color\":\"#2a3f5f\"},\"geo\":{\"bgcolor\":\"white\",\"lakecolor\":\"white\",\"landcolor\":\"#E5ECF6\",\"showlakes\":true,\"showland\":true,\"subunitcolor\":\"white\"},\"hoverlabel\":{\"align\":\"left\"},\"hovermode\":\"closest\",\"mapbox\":{\"style\":\"light\"},\"paper_bgcolor\":\"white\",\"plot_bgcolor\":\"#E5ECF6\",\"polar\":{\"angularaxis\":{\"gridcolor\":\"white\",\"linecolor\":\"white\",\"ticks\":\"\"},\"bgcolor\":\"#E5ECF6\",\"radialaxis\":{\"gridcolor\":\"white\",\"linecolor\":\"white\",\"ticks\":\"\"}},\"scene\":{\"xaxis\":{\"backgroundcolor\":\"#E5ECF6\",\"gridcolor\":\"white\",\"gridwidth\":2,\"linecolor\":\"white\",\"showbackground\":true,\"ticks\":\"\",\"zerolinecolor\":\"white\"},\"yaxis\":{\"backgroundcolor\":\"#E5ECF6\",\"gridcolor\":\"white\",\"gridwidth\":2,\"linecolor\":\"white\",\"showbackground\":true,\"ticks\":\"\",\"zerolinecolor\":\"white\"},\"zaxis\":{\"backgroundcolor\":\"#E5ECF6\",\"gridcolor\":\"white\",\"gridwidth\":2,\"linecolor\":\"white\",\"showbackground\":true,\"ticks\":\"\",\"zerolinecolor\":\"white\"}},\"shapedefaults\":{\"line\":{\"color\":\"#2a3f5f\"}},\"ternary\":{\"aaxis\":{\"gridcolor\":\"white\",\"linecolor\":\"white\",\"ticks\":\"\"},\"baxis\":{\"gridcolor\":\"white\",\"linecolor\":\"white\",\"ticks\":\"\"},\"bgcolor\":\"#E5ECF6\",\"caxis\":{\"gridcolor\":\"white\",\"linecolor\":\"white\",\"ticks\":\"\"}},\"title\":{\"x\":0.05},\"xaxis\":{\"automargin\":true,\"gridcolor\":\"white\",\"linecolor\":\"white\",\"ticks\":\"\",\"title\":{\"standoff\":15},\"zerolinecolor\":\"white\",\"zerolinewidth\":2},\"yaxis\":{\"automargin\":true,\"gridcolor\":\"white\",\"linecolor\":\"white\",\"ticks\":\"\",\"title\":{\"standoff\":15},\"zerolinecolor\":\"white\",\"zerolinewidth\":2}}},\"xaxis\":{\"anchor\":\"y\",\"domain\":[0.0,1.0],\"title\":{\"text\":\"date\"}},\"yaxis\":{\"anchor\":\"x\",\"domain\":[0.0,1.0],\"title\":{\"text\":\"wind_speed\"}},\"legend\":{\"tracegroupgap\":0},\"title\":{\"text\":\"Wind Speed in Delhi Over the Months\"}},                        {\"responsive\": true}                    ).then(function(){\n",
              "                            \n",
              "var gd = document.getElementById('80c77681-4350-43b9-93d2-d3a11ffac366');\n",
              "var x = new MutationObserver(function (mutations, observer) {{\n",
              "        var display = window.getComputedStyle(gd).display;\n",
              "        if (!display || display === 'none') {{\n",
              "            console.log([gd, 'removed!']);\n",
              "            Plotly.purge(gd);\n",
              "            observer.disconnect();\n",
              "        }}\n",
              "}});\n",
              "\n",
              "// Listen for the removal of the full notebook cells\n",
              "var notebookContainer = gd.closest('#notebook-container');\n",
              "if (notebookContainer) {{\n",
              "    x.observe(notebookContainer, {childList: true});\n",
              "}}\n",
              "\n",
              "// Listen for the clearing of the current output cell\n",
              "var outputEl = gd.closest('.output');\n",
              "if (outputEl) {{\n",
              "    x.observe(outputEl, {childList: true});\n",
              "}}\n",
              "\n",
              "                        })                };                            </script>        </div>\n",
              "</body>\n",
              "</html>"
            ]
          },
          "metadata": {}
        }
      ]
    },
    {
      "cell_type": "code",
      "source": [
        "figure = px.scatter(data_frame = data, x=\"humidity\",\n",
        "                    y=\"meantemp\", size=\"meantemp\", \n",
        "                    trendline=\"ols\", \n",
        "                    title = \"Relationship Between Temperature and Humidity\")\n",
        "figure.show()"
      ],
      "metadata": {
        "colab": {
          "base_uri": "https://localhost:8080/",
          "height": 542
        },
        "id": "ckudMcaEXzBc",
        "outputId": "61d3825c-3847-4a54-d1ad-73f5cca43d3d"
      },
      "execution_count": 18,
      "outputs": [
        {
          "output_type": "display_data",
          "data": {
            "text/html": [
              "<html>\n",
              "<head><meta charset=\"utf-8\" /></head>\n",
              "<body>\n",
              "    <div>            <script src=\"https://cdnjs.cloudflare.com/ajax/libs/mathjax/2.7.5/MathJax.js?config=TeX-AMS-MML_SVG\"></script><script type=\"text/javascript\">if (window.MathJax) {MathJax.Hub.Config({SVG: {font: \"STIX-Web\"}});}</script>                <script type=\"text/javascript\">window.PlotlyConfig = {MathJaxConfig: 'local'};</script>\n",
              "        <script src=\"https://cdn.plot.ly/plotly-2.8.3.min.js\"></script>                <div id=\"afa95f60-c6a4-4a60-aff9-265beafc492c\" class=\"plotly-graph-div\" style=\"height:525px; width:100%;\"></div>            <script type=\"text/javascript\">                                    window.PLOTLYENV=window.PLOTLYENV || {};                                    if (document.getElementById(\"afa95f60-c6a4-4a60-aff9-265beafc492c\")) {                    Plotly.newPlot(                        \"afa95f60-c6a4-4a60-aff9-265beafc492c\",                        [{\"hovertemplate\":\"humidity=%{x}<br>meantemp=%{marker.size}<extra></extra>\",\"legendgroup\":\"\",\"marker\":{\"color\":\"#636efa\",\"size\":[15.91304348,18.5,17.11111111,18.7,18.38888889,19.31818182,14.70833333,15.68421053,14.57142857,12.11111111,11.0,11.78947368,13.23529412,13.2,16.43478261,14.65,11.72222222,13.04166667,14.61904762,15.26315789,15.39130435,18.44,18.11764706,18.34782609,21.0,16.17857143,16.5,14.86363636,15.66666667,16.44444444,16.125,15.25,17.09090909,15.63636364,18.7,18.63157895,16.88888889,15.125,15.7,15.375,14.66666667,15.625,16.25,16.33333333,16.875,17.57142857,20.25,21.3,21.125,22.36363636,23.375,21.83333333,19.125,18.625,19.125,19.0,18.75,19.875,23.33333333,24.46153846,23.75,20.5,19.125,19.75,20.0,22.625,21.54545455,20.78571429,19.9375,18.53333333,17.375,17.44444444,18.0,19.875,24.0,20.9,24.69230769,24.66666667,23.33333333,25.0,27.25,28.0,28.91666667,26.5,29.1,29.5,29.88888889,31.0,29.28571429,30.625,31.375,29.75,30.5,30.93333333,29.23076923,31.22222222,27.0,25.625,27.125,27.85714286,29.25,29.25,29.66666667,30.5,31.22222222,31.0,32.55555556,34.0,33.5,34.5,34.25,32.9,32.875,32.0],\"sizemode\":\"area\",\"sizeref\":0.08625,\"symbol\":\"circle\"},\"mode\":\"markers\",\"name\":\"\",\"orientation\":\"v\",\"showlegend\":false,\"x\":[85.86956522,77.22222222,81.88888889,70.05,74.94444444,79.31818182,95.83333333,83.52631579,80.80952381,71.94444444,72.11111111,74.57894737,67.05882353,74.28,72.56521739,78.45,84.44444444,78.33333333,75.14285714,66.47368421,70.86956522,76.24,76.0,68.13043478,69.96,91.64285714,77.04166667,82.77272727,81.77777778,77.55555556,76.0,78.625,66.54545455,78.18181818,77.6,77.63157895,69.66666667,63.75,68.4,68.375,71.77777778,64.0,70.375,67.0,65.5,67.71428571,56.75,64.4,70.75,66.09090909,60.125,69.41666667,57.125,42.875,40.375,50.42857143,59.0,58.375,51.66666667,47.92307692,54.25,42.5,43.125,41.25,42.44444444,41.5,52.72727273,69.07142857,67.75,60.4,56.625,49.33333333,56.33333333,54.75,49.2,59.7,46.30769231,52.27777778,54.66666667,49.0,45.0,49.75,37.66666667,39.375,37.1,38.625,40.66666667,34.5,36.85714286,37.625,35.125,33.75,29.75,31.86666667,46.0,26.0,29.875,29.375,21.125,19.42857143,17.75,26.0,29.11111111,37.625,30.44444444,34.25,38.44444444,27.33333333,24.125,27.5,39.375,40.9,27.5,27.14285714],\"xaxis\":\"x\",\"y\":[15.91304348,18.5,17.11111111,18.7,18.38888889,19.31818182,14.70833333,15.68421053,14.57142857,12.11111111,11.0,11.78947368,13.23529412,13.2,16.43478261,14.65,11.72222222,13.04166667,14.61904762,15.26315789,15.39130435,18.44,18.11764706,18.34782609,21.0,16.17857143,16.5,14.86363636,15.66666667,16.44444444,16.125,15.25,17.09090909,15.63636364,18.7,18.63157895,16.88888889,15.125,15.7,15.375,14.66666667,15.625,16.25,16.33333333,16.875,17.57142857,20.25,21.3,21.125,22.36363636,23.375,21.83333333,19.125,18.625,19.125,19.0,18.75,19.875,23.33333333,24.46153846,23.75,20.5,19.125,19.75,20.0,22.625,21.54545455,20.78571429,19.9375,18.53333333,17.375,17.44444444,18.0,19.875,24.0,20.9,24.69230769,24.66666667,23.33333333,25.0,27.25,28.0,28.91666667,26.5,29.1,29.5,29.88888889,31.0,29.28571429,30.625,31.375,29.75,30.5,30.93333333,29.23076923,31.22222222,27.0,25.625,27.125,27.85714286,29.25,29.25,29.66666667,30.5,31.22222222,31.0,32.55555556,34.0,33.5,34.5,34.25,32.9,32.875,32.0],\"yaxis\":\"y\",\"type\":\"scatter\"},{\"hovertemplate\":\"<b>OLS trendline</b><br>meantemp = -0.286091 * humidity + 37.8081<br>R<sup>2</sup>=0.735694<br><br>humidity=%{x}<br>meantemp=%{y} <b>(trend)</b><extra></extra>\",\"legendgroup\":\"\",\"marker\":{\"color\":\"#636efa\",\"symbol\":\"circle\"},\"mode\":\"lines\",\"name\":\"\",\"showlegend\":false,\"x\":[17.75,19.42857143,21.125,24.125,26.0,26.0,27.14285714,27.33333333,27.5,27.5,29.11111111,29.375,29.75,29.875,30.44444444,31.86666667,33.75,34.25,34.5,35.125,36.85714286,37.1,37.625,37.625,37.66666667,38.44444444,38.625,39.375,39.375,40.375,40.66666667,40.9,41.25,41.5,42.44444444,42.5,42.875,43.125,45.0,46.0,46.30769231,47.92307692,49.0,49.2,49.33333333,49.75,50.42857143,51.66666667,52.27777778,52.72727273,54.25,54.66666667,54.75,56.33333333,56.625,56.75,57.125,58.375,59.0,59.7,60.125,60.4,63.75,64.0,64.4,65.5,66.09090909,66.47368421,66.54545455,67.0,67.05882353,67.71428571,67.75,68.13043478,68.375,68.4,69.07142857,69.41666667,69.66666667,69.96,70.05,70.375,70.75,70.86956522,71.77777778,71.94444444,72.11111111,72.56521739,74.28,74.57894737,74.94444444,75.14285714,76.0,76.0,76.24,77.04166667,77.22222222,77.55555556,77.6,77.63157895,78.18181818,78.33333333,78.45,78.625,79.31818182,80.80952381,81.77777778,81.88888889,82.77272727,83.52631579,84.44444444,85.86956522,91.64285714,95.83333333],\"xaxis\":\"x\",\"y\":[32.72996159342262,32.24973798430076,31.764405614201475,30.906133632671565,30.369713644215373,30.369713644215373,30.042752890164238,29.988259431155715,29.94057765345042,29.94057765345042,29.47965381183557,29.404157664994223,29.296873667302982,29.261112334739238,29.098199598775906,28.691315101603244,28.152511025263102,28.009465695008117,27.93794302988063,27.759136367061895,27.263586472146866,27.194107312554706,27.04390971578697,27.04390971578697,27.03198927064542,26.809474314696146,26.757819055277,26.543251059894523,26.543251059894523,26.257160399384553,26.17371728911551,26.10696280261682,26.006831071438327,25.93530840631084,25.665111672656266,25.64921774580087,25.541933748109628,25.470411082982135,24.933991094525943,24.647900434015973,24.559872537814233,24.097726087761693,23.78962845248606,23.732410320384066,23.69426489993637,23.575060457103582,23.380927508491688,23.02672002350584,22.85188684240096,22.723290535259558,22.287652484808717,22.168448041975928,22.144607154553732,21.69163027636658,21.60818716609754,21.572425833533792,21.465141835842555,21.107528510205093,20.92872184738636,20.72845838502938,20.606869854312645,20.5281949226724,19.569791209964002,19.49826854483651,19.38383228063252,19.069132554071555,18.90007898221211,18.790570595304526,18.7700377713289,18.6399965633066,18.62316770075537,18.435646092739866,18.425428567924122,18.316589730432955,18.24662190510539,18.239469638592638,18.047380195516077,17.94861079945387,17.877088134326378,17.79316820819709,17.76742004875119,17.67444058408545,17.567156586394212,17.532950093630394,17.273118962456543,17.22543718761215,17.177755409906855,17.047839844319927,16.557256554794016,16.471730504253,16.36716520608224,16.310401185685674,16.06518061871687,16.06518061871687,15.996518860194477,15.767169513065348,15.715514256507106,15.620150701096513,15.607435561900918,15.598401119237202,15.44098281448801,15.397635745147241,15.364258500467443,15.314192634878196,15.115879790140891,14.689220775175542,14.412212357356843,14.380424506506944,14.127566600588683,13.911971963149153,13.649303931237526,13.24159018598084,11.589905287271165,10.391049186222766],\"yaxis\":\"y\",\"type\":\"scatter\"}],                        {\"template\":{\"data\":{\"bar\":[{\"error_x\":{\"color\":\"#2a3f5f\"},\"error_y\":{\"color\":\"#2a3f5f\"},\"marker\":{\"line\":{\"color\":\"#E5ECF6\",\"width\":0.5},\"pattern\":{\"fillmode\":\"overlay\",\"size\":10,\"solidity\":0.2}},\"type\":\"bar\"}],\"barpolar\":[{\"marker\":{\"line\":{\"color\":\"#E5ECF6\",\"width\":0.5},\"pattern\":{\"fillmode\":\"overlay\",\"size\":10,\"solidity\":0.2}},\"type\":\"barpolar\"}],\"carpet\":[{\"aaxis\":{\"endlinecolor\":\"#2a3f5f\",\"gridcolor\":\"white\",\"linecolor\":\"white\",\"minorgridcolor\":\"white\",\"startlinecolor\":\"#2a3f5f\"},\"baxis\":{\"endlinecolor\":\"#2a3f5f\",\"gridcolor\":\"white\",\"linecolor\":\"white\",\"minorgridcolor\":\"white\",\"startlinecolor\":\"#2a3f5f\"},\"type\":\"carpet\"}],\"choropleth\":[{\"colorbar\":{\"outlinewidth\":0,\"ticks\":\"\"},\"type\":\"choropleth\"}],\"contour\":[{\"colorbar\":{\"outlinewidth\":0,\"ticks\":\"\"},\"colorscale\":[[0.0,\"#0d0887\"],[0.1111111111111111,\"#46039f\"],[0.2222222222222222,\"#7201a8\"],[0.3333333333333333,\"#9c179e\"],[0.4444444444444444,\"#bd3786\"],[0.5555555555555556,\"#d8576b\"],[0.6666666666666666,\"#ed7953\"],[0.7777777777777778,\"#fb9f3a\"],[0.8888888888888888,\"#fdca26\"],[1.0,\"#f0f921\"]],\"type\":\"contour\"}],\"contourcarpet\":[{\"colorbar\":{\"outlinewidth\":0,\"ticks\":\"\"},\"type\":\"contourcarpet\"}],\"heatmap\":[{\"colorbar\":{\"outlinewidth\":0,\"ticks\":\"\"},\"colorscale\":[[0.0,\"#0d0887\"],[0.1111111111111111,\"#46039f\"],[0.2222222222222222,\"#7201a8\"],[0.3333333333333333,\"#9c179e\"],[0.4444444444444444,\"#bd3786\"],[0.5555555555555556,\"#d8576b\"],[0.6666666666666666,\"#ed7953\"],[0.7777777777777778,\"#fb9f3a\"],[0.8888888888888888,\"#fdca26\"],[1.0,\"#f0f921\"]],\"type\":\"heatmap\"}],\"heatmapgl\":[{\"colorbar\":{\"outlinewidth\":0,\"ticks\":\"\"},\"colorscale\":[[0.0,\"#0d0887\"],[0.1111111111111111,\"#46039f\"],[0.2222222222222222,\"#7201a8\"],[0.3333333333333333,\"#9c179e\"],[0.4444444444444444,\"#bd3786\"],[0.5555555555555556,\"#d8576b\"],[0.6666666666666666,\"#ed7953\"],[0.7777777777777778,\"#fb9f3a\"],[0.8888888888888888,\"#fdca26\"],[1.0,\"#f0f921\"]],\"type\":\"heatmapgl\"}],\"histogram\":[{\"marker\":{\"pattern\":{\"fillmode\":\"overlay\",\"size\":10,\"solidity\":0.2}},\"type\":\"histogram\"}],\"histogram2d\":[{\"colorbar\":{\"outlinewidth\":0,\"ticks\":\"\"},\"colorscale\":[[0.0,\"#0d0887\"],[0.1111111111111111,\"#46039f\"],[0.2222222222222222,\"#7201a8\"],[0.3333333333333333,\"#9c179e\"],[0.4444444444444444,\"#bd3786\"],[0.5555555555555556,\"#d8576b\"],[0.6666666666666666,\"#ed7953\"],[0.7777777777777778,\"#fb9f3a\"],[0.8888888888888888,\"#fdca26\"],[1.0,\"#f0f921\"]],\"type\":\"histogram2d\"}],\"histogram2dcontour\":[{\"colorbar\":{\"outlinewidth\":0,\"ticks\":\"\"},\"colorscale\":[[0.0,\"#0d0887\"],[0.1111111111111111,\"#46039f\"],[0.2222222222222222,\"#7201a8\"],[0.3333333333333333,\"#9c179e\"],[0.4444444444444444,\"#bd3786\"],[0.5555555555555556,\"#d8576b\"],[0.6666666666666666,\"#ed7953\"],[0.7777777777777778,\"#fb9f3a\"],[0.8888888888888888,\"#fdca26\"],[1.0,\"#f0f921\"]],\"type\":\"histogram2dcontour\"}],\"mesh3d\":[{\"colorbar\":{\"outlinewidth\":0,\"ticks\":\"\"},\"type\":\"mesh3d\"}],\"parcoords\":[{\"line\":{\"colorbar\":{\"outlinewidth\":0,\"ticks\":\"\"}},\"type\":\"parcoords\"}],\"pie\":[{\"automargin\":true,\"type\":\"pie\"}],\"scatter\":[{\"marker\":{\"colorbar\":{\"outlinewidth\":0,\"ticks\":\"\"}},\"type\":\"scatter\"}],\"scatter3d\":[{\"line\":{\"colorbar\":{\"outlinewidth\":0,\"ticks\":\"\"}},\"marker\":{\"colorbar\":{\"outlinewidth\":0,\"ticks\":\"\"}},\"type\":\"scatter3d\"}],\"scattercarpet\":[{\"marker\":{\"colorbar\":{\"outlinewidth\":0,\"ticks\":\"\"}},\"type\":\"scattercarpet\"}],\"scattergeo\":[{\"marker\":{\"colorbar\":{\"outlinewidth\":0,\"ticks\":\"\"}},\"type\":\"scattergeo\"}],\"scattergl\":[{\"marker\":{\"colorbar\":{\"outlinewidth\":0,\"ticks\":\"\"}},\"type\":\"scattergl\"}],\"scattermapbox\":[{\"marker\":{\"colorbar\":{\"outlinewidth\":0,\"ticks\":\"\"}},\"type\":\"scattermapbox\"}],\"scatterpolar\":[{\"marker\":{\"colorbar\":{\"outlinewidth\":0,\"ticks\":\"\"}},\"type\":\"scatterpolar\"}],\"scatterpolargl\":[{\"marker\":{\"colorbar\":{\"outlinewidth\":0,\"ticks\":\"\"}},\"type\":\"scatterpolargl\"}],\"scatterternary\":[{\"marker\":{\"colorbar\":{\"outlinewidth\":0,\"ticks\":\"\"}},\"type\":\"scatterternary\"}],\"surface\":[{\"colorbar\":{\"outlinewidth\":0,\"ticks\":\"\"},\"colorscale\":[[0.0,\"#0d0887\"],[0.1111111111111111,\"#46039f\"],[0.2222222222222222,\"#7201a8\"],[0.3333333333333333,\"#9c179e\"],[0.4444444444444444,\"#bd3786\"],[0.5555555555555556,\"#d8576b\"],[0.6666666666666666,\"#ed7953\"],[0.7777777777777778,\"#fb9f3a\"],[0.8888888888888888,\"#fdca26\"],[1.0,\"#f0f921\"]],\"type\":\"surface\"}],\"table\":[{\"cells\":{\"fill\":{\"color\":\"#EBF0F8\"},\"line\":{\"color\":\"white\"}},\"header\":{\"fill\":{\"color\":\"#C8D4E3\"},\"line\":{\"color\":\"white\"}},\"type\":\"table\"}]},\"layout\":{\"annotationdefaults\":{\"arrowcolor\":\"#2a3f5f\",\"arrowhead\":0,\"arrowwidth\":1},\"autotypenumbers\":\"strict\",\"coloraxis\":{\"colorbar\":{\"outlinewidth\":0,\"ticks\":\"\"}},\"colorscale\":{\"diverging\":[[0,\"#8e0152\"],[0.1,\"#c51b7d\"],[0.2,\"#de77ae\"],[0.3,\"#f1b6da\"],[0.4,\"#fde0ef\"],[0.5,\"#f7f7f7\"],[0.6,\"#e6f5d0\"],[0.7,\"#b8e186\"],[0.8,\"#7fbc41\"],[0.9,\"#4d9221\"],[1,\"#276419\"]],\"sequential\":[[0.0,\"#0d0887\"],[0.1111111111111111,\"#46039f\"],[0.2222222222222222,\"#7201a8\"],[0.3333333333333333,\"#9c179e\"],[0.4444444444444444,\"#bd3786\"],[0.5555555555555556,\"#d8576b\"],[0.6666666666666666,\"#ed7953\"],[0.7777777777777778,\"#fb9f3a\"],[0.8888888888888888,\"#fdca26\"],[1.0,\"#f0f921\"]],\"sequentialminus\":[[0.0,\"#0d0887\"],[0.1111111111111111,\"#46039f\"],[0.2222222222222222,\"#7201a8\"],[0.3333333333333333,\"#9c179e\"],[0.4444444444444444,\"#bd3786\"],[0.5555555555555556,\"#d8576b\"],[0.6666666666666666,\"#ed7953\"],[0.7777777777777778,\"#fb9f3a\"],[0.8888888888888888,\"#fdca26\"],[1.0,\"#f0f921\"]]},\"colorway\":[\"#636efa\",\"#EF553B\",\"#00cc96\",\"#ab63fa\",\"#FFA15A\",\"#19d3f3\",\"#FF6692\",\"#B6E880\",\"#FF97FF\",\"#FECB52\"],\"font\":{\"color\":\"#2a3f5f\"},\"geo\":{\"bgcolor\":\"white\",\"lakecolor\":\"white\",\"landcolor\":\"#E5ECF6\",\"showlakes\":true,\"showland\":true,\"subunitcolor\":\"white\"},\"hoverlabel\":{\"align\":\"left\"},\"hovermode\":\"closest\",\"mapbox\":{\"style\":\"light\"},\"paper_bgcolor\":\"white\",\"plot_bgcolor\":\"#E5ECF6\",\"polar\":{\"angularaxis\":{\"gridcolor\":\"white\",\"linecolor\":\"white\",\"ticks\":\"\"},\"bgcolor\":\"#E5ECF6\",\"radialaxis\":{\"gridcolor\":\"white\",\"linecolor\":\"white\",\"ticks\":\"\"}},\"scene\":{\"xaxis\":{\"backgroundcolor\":\"#E5ECF6\",\"gridcolor\":\"white\",\"gridwidth\":2,\"linecolor\":\"white\",\"showbackground\":true,\"ticks\":\"\",\"zerolinecolor\":\"white\"},\"yaxis\":{\"backgroundcolor\":\"#E5ECF6\",\"gridcolor\":\"white\",\"gridwidth\":2,\"linecolor\":\"white\",\"showbackground\":true,\"ticks\":\"\",\"zerolinecolor\":\"white\"},\"zaxis\":{\"backgroundcolor\":\"#E5ECF6\",\"gridcolor\":\"white\",\"gridwidth\":2,\"linecolor\":\"white\",\"showbackground\":true,\"ticks\":\"\",\"zerolinecolor\":\"white\"}},\"shapedefaults\":{\"line\":{\"color\":\"#2a3f5f\"}},\"ternary\":{\"aaxis\":{\"gridcolor\":\"white\",\"linecolor\":\"white\",\"ticks\":\"\"},\"baxis\":{\"gridcolor\":\"white\",\"linecolor\":\"white\",\"ticks\":\"\"},\"bgcolor\":\"#E5ECF6\",\"caxis\":{\"gridcolor\":\"white\",\"linecolor\":\"white\",\"ticks\":\"\"}},\"title\":{\"x\":0.05},\"xaxis\":{\"automargin\":true,\"gridcolor\":\"white\",\"linecolor\":\"white\",\"ticks\":\"\",\"title\":{\"standoff\":15},\"zerolinecolor\":\"white\",\"zerolinewidth\":2},\"yaxis\":{\"automargin\":true,\"gridcolor\":\"white\",\"linecolor\":\"white\",\"ticks\":\"\",\"title\":{\"standoff\":15},\"zerolinecolor\":\"white\",\"zerolinewidth\":2}}},\"xaxis\":{\"anchor\":\"y\",\"domain\":[0.0,1.0],\"title\":{\"text\":\"humidity\"}},\"yaxis\":{\"anchor\":\"x\",\"domain\":[0.0,1.0],\"title\":{\"text\":\"meantemp\"}},\"legend\":{\"tracegroupgap\":0,\"itemsizing\":\"constant\"},\"title\":{\"text\":\"Relationship Between Temperature and Humidity\"}},                        {\"responsive\": true}                    ).then(function(){\n",
              "                            \n",
              "var gd = document.getElementById('afa95f60-c6a4-4a60-aff9-265beafc492c');\n",
              "var x = new MutationObserver(function (mutations, observer) {{\n",
              "        var display = window.getComputedStyle(gd).display;\n",
              "        if (!display || display === 'none') {{\n",
              "            console.log([gd, 'removed!']);\n",
              "            Plotly.purge(gd);\n",
              "            observer.disconnect();\n",
              "        }}\n",
              "}});\n",
              "\n",
              "// Listen for the removal of the full notebook cells\n",
              "var notebookContainer = gd.closest('#notebook-container');\n",
              "if (notebookContainer) {{\n",
              "    x.observe(notebookContainer, {childList: true});\n",
              "}}\n",
              "\n",
              "// Listen for the clearing of the current output cell\n",
              "var outputEl = gd.closest('.output');\n",
              "if (outputEl) {{\n",
              "    x.observe(outputEl, {childList: true});\n",
              "}}\n",
              "\n",
              "                        })                };                            </script>        </div>\n",
              "</body>\n",
              "</html>"
            ]
          },
          "metadata": {}
        }
      ]
    },
    {
      "cell_type": "code",
      "source": [
        "plt.title(\"Temperature Change in Delhi Over the Months\")\n",
        "sns.lineplot(data = data, x='month', y='humidity')\n",
        "plt.show()"
      ],
      "metadata": {
        "colab": {
          "base_uri": "https://localhost:8080/",
          "height": 325
        },
        "id": "FpSZELJJX5i6",
        "outputId": "893dd000-219f-4466-dafb-b56ac35435ca"
      },
      "execution_count": 27,
      "outputs": [
        {
          "output_type": "display_data",
          "data": {
            "text/plain": [
              "<Figure size 432x288 with 1 Axes>"
            ],
            "image/png": "[encoded data removed]"
          },
          "metadata": {}
        }
      ]
    },
    {
      "cell_type": "code",
      "source": [
        "plt.title(\"Temperature Change in Delhi Over the Months\")\n",
        "sns.lineplot(data = data, x='month', y='meantemp')\n",
        "plt.show()"
      ],
      "metadata": {
        "colab": {
          "base_uri": "https://localhost:8080/",
          "height": 325
        },
        "id": "TpXP1WHCfYzQ",
        "outputId": "83bacb60-12b6-42b8-fbf9-12eceb7d4e38"
      },
      "execution_count": 28,
      "outputs": [
        {
          "output_type": "display_data",
          "data": {
            "text/plain": [
              "<Figure size 432x288 with 1 Axes>"
            ],
            "image/png": "[encoded data removed]"
          },
          "metadata": {}
        }
      ]
    },
    {
      "cell_type": "code",
      "source": [
        "plt.title(\"Temperature Change in Delhi Over the Months\")\n",
        "sns.lineplot(data = data, x='month', y='wind_speed')\n",
        "plt.show()"
      ],
      "metadata": {
        "colab": {
          "base_uri": "https://localhost:8080/",
          "height": 325
        },
        "id": "ObczP8trfpNm",
        "outputId": "2dc4f816-be5f-4d29-ad80-903a36c13f27"
      },
      "execution_count": 29,
      "outputs": [
        {
          "output_type": "display_data",
          "data": {
            "text/plain": [
              "<Figure size 432x288 with 1 Axes>"
            ],
            "image/png": "[encoded data removed]"
          },
          "metadata": {}
        }
      ]
    },
    {
      "cell_type": "markdown",
      "source": [
        "**1. From the above Exploratory Data Analysis (EDA) we can conclude that the data present in the dataset are very less to predict the temperature, because we are given with the dataset for 4 months only so to predict the temperature for the upcoming days of the next month is quite challenging.**\n",
        "\n",
        "**2. Although we can try to predict the required result but the accuracy for the above data might come less.**\n",
        "\n",
        "**3. We will start with the very basic algorithm for prediction of temperature as in this dataaset we are given the target label in our dataset, which means this learning will come under Supervised Learning Algorithm.** \n",
        "  \n",
        "**4. Here we will be using some neural network algorithms (Recurrent Neural Network) as well so that after introducing activation functions and optimizers we can increase the accuracy of the model to an extent.** "
      ],
      "metadata": {
        "id": "q59W_mhxuJ2W"
      }
    },
    {
      "cell_type": "markdown",
      "source": [
        "## **Training the Model**\n",
        "\n",
        "**Starting with Linear Regression**"
      ],
      "metadata": {
        "id": "KkQf83s3w0J2"
      }
    },
    {
      "cell_type": "code",
      "source": [
        "x=data.iloc[0:114,6].values \n",
        "y=data.iloc[0:114,2].values"
      ],
      "metadata": {
        "id": "RNbfeNB4carE"
      },
      "execution_count": 30,
      "outputs": []
    },
    {
      "cell_type": "markdown",
      "source": [
        "**We'll be splitting the dataset in 80:20 ratio (i.e 80% Training and 20% Testing)**"
      ],
      "metadata": {
        "id": "ClBI_M1ixAMb"
      }
    },
    {
      "cell_type": "code",
      "source": [
        "from sklearn.model_selection import train_test_split\n",
        "x_train,x_test,y_train,y_test=train_test_split(x,y,train_size=0.2,random_state=0)\n",
        "\n",
        "x_train = x_train.reshape(-1,1)\n",
        "y_train = y_train.reshape(-1,1)\n",
        "x_test = x_test.reshape(-1,1)\n",
        "y_test = y_test.reshape(-1,1)"
      ],
      "metadata": {
        "id": "5w0j_S5Zdwv2"
      },
      "execution_count": 31,
      "outputs": []
    },
    {
      "cell_type": "markdown",
      "source": [
        "**Here we will analyse the two most correlated labels which we have concluded above after analysis**"
      ],
      "metadata": {
        "id": "-nVzxMlRxSEx"
      }
    },
    {
      "cell_type": "code",
      "source": [
        "from sklearn.linear_model import LinearRegression\n",
        "regressor = LinearRegression()\n",
        "\n",
        "regressor = regressor.fit(x_train,y_train)\n",
        "\n",
        "y_perdicted_train = regressor.predict(x_train)\n",
        "\n",
        "y_perdicted_test = regressor.predict(x_test)\n",
        "plt.title('Delhi Weather: Linear Regression')\n",
        "plt.xlabel('month')\n",
        "plt.ylabel('humidity')\n",
        "plt.scatter(x_train,y_train,color='blue',label=\"Train Value\")\n",
        "plt.scatter(x_test,y_perdicted_test,color='red',label=\"Test Value\")\n",
        "plt.plot(x_train,y_perdicted_train,color='black')\n",
        "plt.legend()"
      ],
      "metadata": {
        "colab": {
          "base_uri": "https://localhost:8080/",
          "height": 342
        },
        "id": "S1--TUVVd5Z0",
        "outputId": "1d611660-e10d-46b1-f281-531cbcd6f99b"
      },
      "execution_count": 32,
      "outputs": [
        {
          "output_type": "execute_result",
          "data": {
            "text/plain": [
              "<matplotlib.legend.Legend at 0x7fc3ea7468e0>"
            ]
          },
          "metadata": {},
          "execution_count": 32
        },
        {
          "output_type": "display_data",
          "data": {
            "text/plain": [
              "<Figure size 432x288 with 1 Axes>"
            ],
            "image/png": "[encoded data removed]"
          },
          "metadata": {}
        }
      ]
    },
    {
      "cell_type": "markdown",
      "source": [
        "**Now will calculate the error using two techniques:**\n",
        "\n",
        "**1. Root Mean Squared Error**</b>  \n",
        "**2. Mean Absolute Error**"
      ],
      "metadata": {
        "id": "HuhrUZi7xl1k"
      }
    },
    {
      "cell_type": "code",
      "source": [
        "def mean_square_error(actual,perd):\n",
        "  y_perdict = np.array(perd)\n",
        "  y_actual = np.array(actual)\n",
        "  mean_squared_error= (1/np.size(actual)) * np.sum((y_perdict-y_actual)**2)\n",
        "  return mean_squared_error\n",
        "\n",
        " \n",
        "def mean_absolute_error(actual,perd):\n",
        "  y_perdict=np.array(perd)\n",
        "  y_actual=np.array(actual)\n",
        "  mean_abs_error=1/(np.size(actual))*(np.sum(abs(y_perdict-y_actual)))\n",
        "  return mean_abs_error\n",
        "linear_hmdt_train_mse_err1 = mean_square_error(y_train,y_perdicted_train)\n",
        "linear_hmdt_train_abs_err1 = mean_absolute_error(y_train,y_perdicted_train)\n",
        "linear_hmdt_test_mse_err2 = mean_square_error(y_test,y_perdicted_test)\n",
        "linear_hmdt_test_abs_err2 = mean_absolute_error(y_test,y_perdicted_test)\n",
        "print('Linear Regression:\\n')\n",
        "print('Train Dataset:\\n')\n",
        "print('Residual Mean Squared Error for Train:',linear_hmdt_train_mse_err1)\n",
        "print('Residual Mean Absolute Error for Train:',linear_hmdt_train_abs_err1)\n",
        "print('\\nTest Dataset:\\n')\n",
        "print('Residual Mean Squared Error for Test:',linear_hmdt_test_mse_err2)\n",
        "print('Residual Mean Absolute Error for Test:',linear_hmdt_test_abs_err2)"
      ],
      "metadata": {
        "colab": {
          "base_uri": "https://localhost:8080/"
        },
        "id": "PkXCGJIwe84F",
        "outputId": "67f1cff1-0a19-49db-dfe1-c26b5399ae3a"
      },
      "execution_count": 33,
      "outputs": [
        {
          "output_type": "stream",
          "name": "stdout",
          "text": [
            "Linear Regression:\n",
            "\n",
            "Train Dataset:\n",
            "\n",
            "Residual Mean Squared Error for Train: 75.98198058717641\n",
            "Residual Mean Absolute Error for Train: 7.402120391342751\n",
            "\n",
            "Test Dataset:\n",
            "\n",
            "Residual Mean Squared Error for Test: 71.28592154472669\n",
            "Residual Mean Absolute Error for Test: 6.576817168596707\n"
          ]
        }
      ]
    },
    {
      "cell_type": "code",
      "source": [
        "x=data.iloc[0:114,6].values \n",
        "y=data.iloc[0:114,1].values"
      ],
      "metadata": {
        "id": "JAQCQOntfD82"
      },
      "execution_count": 34,
      "outputs": []
    },
    {
      "cell_type": "code",
      "source": [
        "from sklearn.model_selection import train_test_split\n",
        "x_train,x_test,y_train,y_test=train_test_split(x,y,train_size=0.2,random_state=0)\n",
        "\n",
        "x_train = x_train.reshape(-1,1)\n",
        "y_train = y_train.reshape(-1,1)\n",
        "x_test = x_test.reshape(-1,1)\n",
        "y_test = y_test.reshape(-1,1)"
      ],
      "metadata": {
        "id": "GKRSOug0fH9t"
      },
      "execution_count": 35,
      "outputs": []
    },
    {
      "cell_type": "code",
      "source": [
        "from sklearn.linear_model import LinearRegression\n",
        "regressor = LinearRegression()\n",
        "\n",
        "regressor = regressor.fit(x_train,y_train)\n",
        "\n",
        "y_perdicted_train = regressor.predict(x_train)\n",
        "\n",
        "y_perdicted_test = regressor.predict(x_test)\n",
        "plt.title('Delhi Weather: Linear Regression')\n",
        "plt.xlabel('month')\n",
        "plt.ylabel('meantemp')\n",
        "plt.scatter(x_train,y_train,color='blue',label=\"Train Value\")\n",
        "plt.scatter(x_test,y_perdicted_test,color='red',label=\"Test Value\")\n",
        "plt.plot(x_train,y_perdicted_train,color='black')\n",
        "plt.legend()"
      ],
      "metadata": {
        "colab": {
          "base_uri": "https://localhost:8080/",
          "height": 342
        },
        "id": "6KeZKRg3fLjh",
        "outputId": "0b6e36a6-1605-4245-c1ee-8e3f0f0085fd"
      },
      "execution_count": 36,
      "outputs": [
        {
          "output_type": "execute_result",
          "data": {
            "text/plain": [
              "<matplotlib.legend.Legend at 0x7fc3f3fb1fd0>"
            ]
          },
          "metadata": {},
          "execution_count": 36
        },
        {
          "output_type": "display_data",
          "data": {
            "text/plain": [
              "<Figure size 432x288 with 1 Axes>"
            ],
            "image/png": "[encoded data removed]"
          },
          "metadata": {}
        }
      ]
    },
    {
      "cell_type": "code",
      "source": [
        "def mean_square_error(actual,perd):\n",
        "  y_perdict = np.array(perd)\n",
        "  y_actual = np.array(actual)\n",
        "  mean_squared_error= (1/np.size(actual)) * np.sum((y_perdict-y_actual)**2)\n",
        "  return mean_squared_error\n",
        "\n",
        " \n",
        "def mean_absolute_error(actual,perd):\n",
        "  y_perdict=np.array(perd)\n",
        "  y_actual=np.array(actual)\n",
        "  mean_abs_error=1/(np.size(actual))*(np.sum(abs(y_perdict-y_actual)))\n",
        "  return mean_abs_error\n",
        "linear_temp_train_mse_err1 = mean_square_error(y_train,y_perdicted_train)\n",
        "linear_temp_train_abs_err1 = mean_absolute_error(y_train,y_perdicted_train)\n",
        "linear_temp_test_mse_err2 = mean_square_error(y_test,y_perdicted_test)\n",
        "linear_temp_test_abs_err2 = mean_absolute_error(y_test,y_perdicted_test)\n",
        "print('Linear Regression:\\n')\n",
        "print('Train Dataset:\\n')\n",
        "print('Residual Mean Squared Error for Train:',linear_temp_train_mse_err1)\n",
        "print('Residual Mean Absolute Error for Train:',linear_temp_train_abs_err1)\n",
        "print('\\nTest Dataset:\\n')\n",
        "print('Residual Mean Squared Error for Test:',linear_temp_test_mse_err2)\n",
        "print('Residual Mean Absolute Error for Test:',linear_temp_test_abs_err2)"
      ],
      "metadata": {
        "colab": {
          "base_uri": "https://localhost:8080/"
        },
        "id": "8hGi1Qw9fXZ9",
        "outputId": "f1e37008-338a-4ea6-8fb8-d2f949960ec0"
      },
      "execution_count": 37,
      "outputs": [
        {
          "output_type": "stream",
          "name": "stdout",
          "text": [
            "Linear Regression:\n",
            "\n",
            "Train Dataset:\n",
            "\n",
            "Residual Mean Squared Error for Train: 12.311341704721412\n",
            "Residual Mean Absolute Error for Train: 2.9957794276486966\n",
            "\n",
            "Test Dataset:\n",
            "\n",
            "Residual Mean Squared Error for Test: 10.636479037425273\n",
            "Residual Mean Absolute Error for Test: 2.6680395270361994\n"
          ]
        }
      ]
    },
    {
      "cell_type": "markdown",
      "source": [
        "## **Now as we got the results of Linear Regression we will try to find the results of Recurrent Neural Network(RNN) Algorithm**"
      ],
      "metadata": {
        "id": "5p1kUS5Xymz2"
      }
    },
    {
      "cell_type": "code",
      "source": [
        "from sklearn.model_selection import train_test_split"
      ],
      "metadata": {
        "id": "LeKbz1qzfm4k"
      },
      "execution_count": 38,
      "outputs": []
    },
    {
      "cell_type": "markdown",
      "source": [
        "**As we need to have some input data and output data so here our output data is our target label that is Temperature** "
      ],
      "metadata": {
        "id": "fpCdlMSDzgSj"
      }
    },
    {
      "cell_type": "code",
      "source": [
        "X = data[['date', 'humidity', 'wind_speed']]\n",
        "y = data['meantemp']"
      ],
      "metadata": {
        "id": "9MYpLu36f9RG"
      },
      "execution_count": 39,
      "outputs": []
    },
    {
      "cell_type": "code",
      "source": [
        "X_train, X_test, y_train, y_test = train_test_split(X,y ,\n",
        "                                   random_state=104, \n",
        "                                   test_size=0.2, \n",
        "                                   shuffle=True)"
      ],
      "metadata": {
        "id": "lAnBiTUVf-5l"
      },
      "execution_count": 40,
      "outputs": []
    },
    {
      "cell_type": "code",
      "source": [
        "#Feature Scaling \n",
        "train = data.iloc[:100, :]\n",
        "train['date'] = train['date'].values.astype(float)\n",
        "from sklearn.preprocessing import MinMaxScaler\n",
        "sc = MinMaxScaler(feature_range=(0,1))\n",
        "training_set_scaled = sc.fit_transform(train.iloc[:,1:2].values)"
      ],
      "metadata": {
        "colab": {
          "base_uri": "https://localhost:8080/"
        },
        "id": "Hv-zJP8Jf_dg",
        "outputId": "808c1d75-46c6-4e1d-a7a6-ba45cda1d201"
      },
      "execution_count": 41,
      "outputs": [
        {
          "output_type": "stream",
          "name": "stderr",
          "text": [
            "<ipython-input-41-2a4a296322c8>:3: SettingWithCopyWarning:\n",
            "\n",
            "\n",
            "A value is trying to be set on a copy of a slice from a DataFrame.\n",
            "Try using .loc[row_indexer,col_indexer] = value instead\n",
            "\n",
            "See the caveats in the documentation: https://pandas.pydata.org/pandas-docs/stable/user_guide/indexing.html#returning-a-view-versus-a-copy\n",
            "\n"
          ]
        }
      ]
    },
    {
      "cell_type": "code",
      "source": [
        "x_train = []\n",
        "y_train = []\n",
        "n_future = 14 # next 14 days temperature forecast\n",
        "n_past = 30 # Past 30 days \n",
        "for i in range(0,len(training_set_scaled)-n_past-n_future+1):\n",
        "    x_train.append(training_set_scaled[i : i + n_past , 0])     \n",
        "    y_train.append(training_set_scaled[i + n_past : i + n_past + n_future , 0 ])\n",
        "x_train , y_train = np.array(x_train), np.array(y_train)\n",
        "x_train = np.reshape(x_train, (x_train.shape[0] , x_train.shape[1], 1) )"
      ],
      "metadata": {
        "id": "nvVDMFAIgBP8"
      },
      "execution_count": 42,
      "outputs": []
    },
    {
      "cell_type": "code",
      "source": [
        "from keras.models import Sequential\n",
        "from keras.layers import LSTM,Dense ,Dropout, Bidirectional"
      ],
      "metadata": {
        "id": "Du94Ht5vgDSW"
      },
      "execution_count": 43,
      "outputs": []
    },
    {
      "cell_type": "code",
      "source": [
        "regressor = Sequential()\n",
        "regressor.add(Bidirectional(LSTM(units=30, return_sequences=True, input_shape = (x_train.shape[1],1) ) ))\n",
        "regressor.add(Dropout(0.2))\n",
        "regressor.add(LSTM(units= 30 , return_sequences=True))\n",
        "regressor.add(Dropout(0.2))\n",
        "regressor.add(LSTM(units= 30 , return_sequences=True))\n",
        "regressor.add(Dropout(0.2))\n",
        "regressor.add(LSTM(units= 30))\n",
        "regressor.add(Dropout(0.2))\n",
        "regressor.add(Dense(units = n_future,activation='linear'))\n",
        "regressor.compile(optimizer='adam', loss='mean_squared_error',metrics=['acc'])\n",
        "regressor.fit(x_train, y_train, epochs=800,batch_size=16)"
      ],
      "metadata": {
        "colab": {
          "base_uri": "https://localhost:8080/"
        },
        "id": "P69i9x-IgEyY",
        "outputId": "7d46e2e3-7f39-43cb-ea51-c9fde59b17b2"
      },
      "execution_count": 65,
      "outputs": [
        {
          "output_type": "stream",
          "name": "stdout",
          "text": [
            "Epoch 1/800\n",
            "4/4 [==============================] - 9s 36ms/step - loss: 0.3451 - acc: 0.0351\n",
            "Epoch 2/800\n",
            "4/4 [==============================] - 0s 36ms/step - loss: 0.2906 - acc: 0.1228\n",
            "Epoch 3/800\n",
            "4/4 [==============================] - 0s 31ms/step - loss: 0.2126 - acc: 0.0702\n",
            "Epoch 4/800\n",
            "4/4 [==============================] - 0s 34ms/step - loss: 0.1434 - acc: 0.1930\n",
            "Epoch 5/800\n",
            "4/4 [==============================] - 0s 32ms/step - loss: 0.1098 - acc: 0.0877\n",
            "Epoch 6/800\n",
            "4/4 [==============================] - 0s 31ms/step - loss: 0.0882 - acc: 0.1579\n",
            "Epoch 7/800\n",
            "4/4 [==============================] - 0s 36ms/step - loss: 0.0872 - acc: 0.0526\n",
            "Epoch 8/800\n",
            "4/4 [==============================] - 0s 30ms/step - loss: 0.0878 - acc: 0.1228\n",
            "Epoch 9/800\n",
            "4/4 [==============================] - 0s 35ms/step - loss: 0.0857 - acc: 0.0351\n",
            "Epoch 10/800\n",
            "4/4 [==============================] - 0s 33ms/step - loss: 0.0738 - acc: 0.0526\n",
            "Epoch 11/800\n",
            "4/4 [==============================] - 0s 32ms/step - loss: 0.0783 - acc: 0.0702\n",
            "Epoch 12/800\n",
            "4/4 [==============================] - 0s 33ms/step - loss: 0.0646 - acc: 0.1053\n",
            "Epoch 13/800\n",
            "4/4 [==============================] - 0s 38ms/step - loss: 0.0616 - acc: 0.0877\n",
            "Epoch 14/800\n",
            "4/4 [==============================] - 0s 33ms/step - loss: 0.0608 - acc: 0.0877\n",
            "Epoch 15/800\n",
            "4/4 [==============================] - 0s 32ms/step - loss: 0.0561 - acc: 0.1228\n",
            "Epoch 16/800\n",
            "4/4 [==============================] - 0s 34ms/step - loss: 0.0512 - acc: 0.1228\n",
            "Epoch 17/800\n",
            "4/4 [==============================] - 0s 33ms/step - loss: 0.0450 - acc: 0.1053\n",
            "Epoch 18/800\n",
            "4/4 [==============================] - 0s 32ms/step - loss: 0.0400 - acc: 0.0877\n",
            "Epoch 19/800\n",
            "4/4 [==============================] - 0s 32ms/step - loss: 0.0442 - acc: 0.1228\n",
            "Epoch 20/800\n",
            "4/4 [==============================] - 0s 33ms/step - loss: 0.0440 - acc: 0.1053\n",
            "Epoch 21/800\n",
            "4/4 [==============================] - 0s 33ms/step - loss: 0.0387 - acc: 0.0526\n",
            "Epoch 22/800\n",
            "4/4 [==============================] - 0s 35ms/step - loss: 0.0398 - acc: 0.0702\n",
            "Epoch 23/800\n",
            "4/4 [==============================] - 0s 33ms/step - loss: 0.0350 - acc: 0.1404\n",
            "Epoch 24/800\n",
            "4/4 [==============================] - 0s 32ms/step - loss: 0.0412 - acc: 0.1053\n",
            "Epoch 25/800\n",
            "4/4 [==============================] - 0s 33ms/step - loss: 0.0372 - acc: 0.0877\n",
            "Epoch 26/800\n",
            "4/4 [==============================] - 0s 30ms/step - loss: 0.0405 - acc: 0.2105\n",
            "Epoch 27/800\n",
            "4/4 [==============================] - 0s 34ms/step - loss: 0.0376 - acc: 0.0877\n",
            "Epoch 28/800\n",
            "4/4 [==============================] - 0s 32ms/step - loss: 0.0335 - acc: 0.1404\n",
            "Epoch 29/800\n",
            "4/4 [==============================] - 0s 32ms/step - loss: 0.0352 - acc: 0.0526\n",
            "Epoch 30/800\n",
            "4/4 [==============================] - 0s 38ms/step - loss: 0.0373 - acc: 0.0877\n",
            "Epoch 31/800\n",
            "4/4 [==============================] - 0s 34ms/step - loss: 0.0361 - acc: 0.0877\n",
            "Epoch 32/800\n",
            "4/4 [==============================] - 0s 33ms/step - loss: 0.0296 - acc: 0.1053\n",
            "Epoch 33/800\n",
            "4/4 [==============================] - 0s 35ms/step - loss: 0.0325 - acc: 0.0702\n",
            "Epoch 34/800\n",
            "4/4 [==============================] - 0s 33ms/step - loss: 0.0328 - acc: 0.0877\n",
            "Epoch 35/800\n",
            "4/4 [==============================] - 0s 33ms/step - loss: 0.0320 - acc: 0.0877\n",
            "Epoch 36/800\n",
            "4/4 [==============================] - 0s 36ms/step - loss: 0.0395 - acc: 0.1053\n",
            "Epoch 37/800\n",
            "4/4 [==============================] - 0s 35ms/step - loss: 0.0308 - acc: 0.0877\n",
            "Epoch 38/800\n",
            "4/4 [==============================] - 0s 35ms/step - loss: 0.0351 - acc: 0.1228\n",
            "Epoch 39/800\n",
            "4/4 [==============================] - 0s 34ms/step - loss: 0.0324 - acc: 0.0526\n",
            "Epoch 40/800\n",
            "4/4 [==============================] - 0s 33ms/step - loss: 0.0384 - acc: 0.0526\n",
            "Epoch 41/800\n",
            "4/4 [==============================] - 0s 32ms/step - loss: 0.0355 - acc: 0.1404\n",
            "Epoch 42/800\n",
            "4/4 [==============================] - 0s 36ms/step - loss: 0.0320 - acc: 0.1053\n",
            "Epoch 43/800\n",
            "4/4 [==============================] - 0s 31ms/step - loss: 0.0355 - acc: 0.0702\n",
            "Epoch 44/800\n",
            "4/4 [==============================] - 0s 33ms/step - loss: 0.0281 - acc: 0.0877\n",
            "Epoch 45/800\n",
            "4/4 [==============================] - 0s 37ms/step - loss: 0.0289 - acc: 0.0877\n",
            "Epoch 46/800\n",
            "4/4 [==============================] - 0s 35ms/step - loss: 0.0285 - acc: 0.0877\n",
            "Epoch 47/800\n",
            "4/4 [==============================] - 0s 31ms/step - loss: 0.0263 - acc: 0.0877\n",
            "Epoch 48/800\n",
            "4/4 [==============================] - 0s 34ms/step - loss: 0.0259 - acc: 0.1754\n",
            "Epoch 49/800\n",
            "4/4 [==============================] - 0s 35ms/step - loss: 0.0282 - acc: 0.1228\n",
            "Epoch 50/800\n",
            "4/4 [==============================] - 0s 31ms/step - loss: 0.0286 - acc: 0.0175\n",
            "Epoch 51/800\n",
            "4/4 [==============================] - 0s 32ms/step - loss: 0.0272 - acc: 0.1404\n",
            "Epoch 52/800\n",
            "4/4 [==============================] - 0s 32ms/step - loss: 0.0276 - acc: 0.0351\n",
            "Epoch 53/800\n",
            "4/4 [==============================] - 0s 32ms/step - loss: 0.0244 - acc: 0.1053\n",
            "Epoch 54/800\n",
            "4/4 [==============================] - 0s 33ms/step - loss: 0.0273 - acc: 0.2105\n",
            "Epoch 55/800\n",
            "4/4 [==============================] - 0s 33ms/step - loss: 0.0261 - acc: 0.0702\n",
            "Epoch 56/800\n",
            "4/4 [==============================] - 0s 34ms/step - loss: 0.0255 - acc: 0.0877\n",
            "Epoch 57/800\n",
            "4/4 [==============================] - 0s 35ms/step - loss: 0.0268 - acc: 0.0351\n",
            "Epoch 58/800\n",
            "4/4 [==============================] - 0s 31ms/step - loss: 0.0253 - acc: 0.1228\n",
            "Epoch 59/800\n",
            "4/4 [==============================] - 0s 32ms/step - loss: 0.0252 - acc: 0.0702\n",
            "Epoch 60/800\n",
            "4/4 [==============================] - 0s 35ms/step - loss: 0.0254 - acc: 0.1404\n",
            "Epoch 61/800\n",
            "4/4 [==============================] - 0s 35ms/step - loss: 0.0265 - acc: 0.1579\n",
            "Epoch 62/800\n",
            "4/4 [==============================] - 0s 33ms/step - loss: 0.0257 - acc: 0.1404\n",
            "Epoch 63/800\n",
            "4/4 [==============================] - 0s 35ms/step - loss: 0.0252 - acc: 0.1053\n",
            "Epoch 64/800\n",
            "4/4 [==============================] - 0s 34ms/step - loss: 0.0259 - acc: 0.0877\n",
            "Epoch 65/800\n",
            "4/4 [==============================] - 0s 32ms/step - loss: 0.0248 - acc: 0.1579\n",
            "Epoch 66/800\n",
            "4/4 [==============================] - 0s 35ms/step - loss: 0.0260 - acc: 0.0351\n",
            "Epoch 67/800\n",
            "4/4 [==============================] - 0s 32ms/step - loss: 0.0257 - acc: 0.0702\n",
            "Epoch 68/800\n",
            "4/4 [==============================] - 0s 31ms/step - loss: 0.0248 - acc: 0.0702\n",
            "Epoch 69/800\n",
            "4/4 [==============================] - 0s 33ms/step - loss: 0.0222 - acc: 0.1228\n",
            "Epoch 70/800\n",
            "4/4 [==============================] - 0s 30ms/step - loss: 0.0229 - acc: 0.1228\n",
            "Epoch 71/800\n",
            "4/4 [==============================] - 0s 30ms/step - loss: 0.0225 - acc: 0.1228\n",
            "Epoch 72/800\n",
            "4/4 [==============================] - 0s 35ms/step - loss: 0.0231 - acc: 0.1404\n",
            "Epoch 73/800\n",
            "4/4 [==============================] - 0s 36ms/step - loss: 0.0245 - acc: 0.1053\n",
            "Epoch 74/800\n",
            "4/4 [==============================] - 0s 33ms/step - loss: 0.0223 - acc: 0.1404\n",
            "Epoch 75/800\n",
            "4/4 [==============================] - 0s 34ms/step - loss: 0.0253 - acc: 0.1579\n",
            "Epoch 76/800\n",
            "4/4 [==============================] - 0s 32ms/step - loss: 0.0254 - acc: 0.1930\n",
            "Epoch 77/800\n",
            "4/4 [==============================] - 0s 32ms/step - loss: 0.0199 - acc: 0.0702\n",
            "Epoch 78/800\n",
            "4/4 [==============================] - 0s 34ms/step - loss: 0.0227 - acc: 0.1754\n",
            "Epoch 79/800\n",
            "4/4 [==============================] - 0s 32ms/step - loss: 0.0258 - acc: 0.1228\n",
            "Epoch 80/800\n",
            "4/4 [==============================] - 0s 32ms/step - loss: 0.0277 - acc: 0.1754\n",
            "Epoch 81/800\n",
            "4/4 [==============================] - 0s 33ms/step - loss: 0.0225 - acc: 0.1404\n",
            "Epoch 82/800\n",
            "4/4 [==============================] - 0s 34ms/step - loss: 0.0267 - acc: 0.1404\n",
            "Epoch 83/800\n",
            "4/4 [==============================] - 0s 33ms/step - loss: 0.0254 - acc: 0.0877\n",
            "Epoch 84/800\n",
            "4/4 [==============================] - 0s 32ms/step - loss: 0.0232 - acc: 0.1053\n",
            "Epoch 85/800\n",
            "4/4 [==============================] - 0s 35ms/step - loss: 0.0235 - acc: 0.1404\n",
            "Epoch 86/800\n",
            "4/4 [==============================] - 0s 35ms/step - loss: 0.0235 - acc: 0.1579\n",
            "Epoch 87/800\n",
            "4/4 [==============================] - 0s 32ms/step - loss: 0.0230 - acc: 0.1579\n",
            "Epoch 88/800\n",
            "4/4 [==============================] - 0s 36ms/step - loss: 0.0265 - acc: 0.0526\n",
            "Epoch 89/800\n",
            "4/4 [==============================] - 0s 33ms/step - loss: 0.0234 - acc: 0.2456\n",
            "Epoch 90/800\n",
            "4/4 [==============================] - 0s 31ms/step - loss: 0.0210 - acc: 0.1579\n",
            "Epoch 91/800\n",
            "4/4 [==============================] - 0s 33ms/step - loss: 0.0226 - acc: 0.1053\n",
            "Epoch 92/800\n",
            "4/4 [==============================] - 0s 32ms/step - loss: 0.0216 - acc: 0.1754\n",
            "Epoch 93/800\n",
            "4/4 [==============================] - 0s 37ms/step - loss: 0.0227 - acc: 0.0175\n",
            "Epoch 94/800\n",
            "4/4 [==============================] - 0s 32ms/step - loss: 0.0209 - acc: 0.0877\n",
            "Epoch 95/800\n",
            "4/4 [==============================] - 0s 36ms/step - loss: 0.0200 - acc: 0.0877\n",
            "Epoch 96/800\n",
            "4/4 [==============================] - 0s 33ms/step - loss: 0.0215 - acc: 0.1053\n",
            "Epoch 97/800\n",
            "4/4 [==============================] - 0s 32ms/step - loss: 0.0230 - acc: 0.1228\n",
            "Epoch 98/800\n",
            "4/4 [==============================] - 0s 35ms/step - loss: 0.0211 - acc: 0.1579\n",
            "Epoch 99/800\n",
            "4/4 [==============================] - 0s 34ms/step - loss: 0.0214 - acc: 0.2105\n",
            "Epoch 100/800\n",
            "4/4 [==============================] - 0s 34ms/step - loss: 0.0197 - acc: 0.1754\n",
            "Epoch 101/800\n",
            "4/4 [==============================] - 0s 33ms/step - loss: 0.0198 - acc: 0.1754\n",
            "Epoch 102/800\n",
            "4/4 [==============================] - 0s 33ms/step - loss: 0.0190 - acc: 0.1579\n",
            "Epoch 103/800\n",
            "4/4 [==============================] - 0s 36ms/step - loss: 0.0221 - acc: 0.0877\n",
            "Epoch 104/800\n",
            "4/4 [==============================] - 0s 35ms/step - loss: 0.0197 - acc: 0.1228\n",
            "Epoch 105/800\n",
            "4/4 [==============================] - 0s 33ms/step - loss: 0.0188 - acc: 0.1404\n",
            "Epoch 106/800\n",
            "4/4 [==============================] - 0s 32ms/step - loss: 0.0190 - acc: 0.1053\n",
            "Epoch 107/800\n",
            "4/4 [==============================] - 0s 32ms/step - loss: 0.0192 - acc: 0.0351\n",
            "Epoch 108/800\n",
            "4/4 [==============================] - 0s 34ms/step - loss: 0.0205 - acc: 0.1579\n",
            "Epoch 109/800\n",
            "4/4 [==============================] - 0s 33ms/step - loss: 0.0203 - acc: 0.1053\n",
            "Epoch 110/800\n",
            "4/4 [==============================] - 0s 33ms/step - loss: 0.0220 - acc: 0.1228\n",
            "Epoch 111/800\n",
            "4/4 [==============================] - 0s 33ms/step - loss: 0.0192 - acc: 0.0877\n",
            "Epoch 112/800\n",
            "4/4 [==============================] - 0s 32ms/step - loss: 0.0231 - acc: 0.1930\n",
            "Epoch 113/800\n",
            "4/4 [==============================] - 0s 33ms/step - loss: 0.0210 - acc: 0.1930\n",
            "Epoch 114/800\n",
            "4/4 [==============================] - 0s 35ms/step - loss: 0.0200 - acc: 0.1404\n",
            "Epoch 115/800\n",
            "4/4 [==============================] - 0s 35ms/step - loss: 0.0197 - acc: 0.1579\n",
            "Epoch 116/800\n",
            "4/4 [==============================] - 0s 33ms/step - loss: 0.0218 - acc: 0.0526\n",
            "Epoch 117/800\n",
            "4/4 [==============================] - 0s 39ms/step - loss: 0.0187 - acc: 0.1754\n",
            "Epoch 118/800\n",
            "4/4 [==============================] - 0s 34ms/step - loss: 0.0208 - acc: 0.1404\n",
            "Epoch 119/800\n",
            "4/4 [==============================] - 0s 31ms/step - loss: 0.0198 - acc: 0.1754\n",
            "Epoch 120/800\n",
            "4/4 [==============================] - 0s 36ms/step - loss: 0.0183 - acc: 0.1404\n",
            "Epoch 121/800\n",
            "4/4 [==============================] - 0s 35ms/step - loss: 0.0183 - acc: 0.1754\n",
            "Epoch 122/800\n",
            "4/4 [==============================] - 0s 35ms/step - loss: 0.0176 - acc: 0.1228\n",
            "Epoch 123/800\n",
            "4/4 [==============================] - 0s 34ms/step - loss: 0.0188 - acc: 0.1404\n",
            "Epoch 124/800\n",
            "4/4 [==============================] - 0s 33ms/step - loss: 0.0200 - acc: 0.0877\n",
            "Epoch 125/800\n",
            "4/4 [==============================] - 0s 33ms/step - loss: 0.0191 - acc: 0.0877\n",
            "Epoch 126/800\n",
            "4/4 [==============================] - 0s 34ms/step - loss: 0.0186 - acc: 0.1404\n",
            "Epoch 127/800\n",
            "4/4 [==============================] - 0s 33ms/step - loss: 0.0184 - acc: 0.1228\n",
            "Epoch 128/800\n",
            "4/4 [==============================] - 0s 35ms/step - loss: 0.0203 - acc: 0.1404\n",
            "Epoch 129/800\n",
            "4/4 [==============================] - 0s 32ms/step - loss: 0.0205 - acc: 0.2105\n",
            "Epoch 130/800\n",
            "4/4 [==============================] - 0s 33ms/step - loss: 0.0209 - acc: 0.1579\n",
            "Epoch 131/800\n",
            "4/4 [==============================] - 0s 35ms/step - loss: 0.0193 - acc: 0.1754\n",
            "Epoch 132/800\n",
            "4/4 [==============================] - 0s 31ms/step - loss: 0.0191 - acc: 0.1053\n",
            "Epoch 133/800\n",
            "4/4 [==============================] - 0s 33ms/step - loss: 0.0185 - acc: 0.1053\n",
            "Epoch 134/800\n",
            "4/4 [==============================] - 0s 32ms/step - loss: 0.0189 - acc: 0.1579\n",
            "Epoch 135/800\n",
            "4/4 [==============================] - 0s 33ms/step - loss: 0.0206 - acc: 0.2105\n",
            "Epoch 136/800\n",
            "4/4 [==============================] - 0s 31ms/step - loss: 0.0177 - acc: 0.1754\n",
            "Epoch 137/800\n",
            "4/4 [==============================] - 0s 34ms/step - loss: 0.0201 - acc: 0.1228\n",
            "Epoch 138/800\n",
            "4/4 [==============================] - 0s 33ms/step - loss: 0.0179 - acc: 0.2105\n",
            "Epoch 139/800\n",
            "4/4 [==============================] - 0s 33ms/step - loss: 0.0186 - acc: 0.1754\n",
            "Epoch 140/800\n",
            "4/4 [==============================] - 0s 31ms/step - loss: 0.0180 - acc: 0.1754\n",
            "Epoch 141/800\n",
            "4/4 [==============================] - 0s 36ms/step - loss: 0.0182 - acc: 0.1754\n",
            "Epoch 142/800\n",
            "4/4 [==============================] - 0s 33ms/step - loss: 0.0181 - acc: 0.1404\n",
            "Epoch 143/800\n",
            "4/4 [==============================] - 0s 37ms/step - loss: 0.0172 - acc: 0.0702\n",
            "Epoch 144/800\n",
            "4/4 [==============================] - 0s 39ms/step - loss: 0.0174 - acc: 0.2281\n",
            "Epoch 145/800\n",
            "4/4 [==============================] - 0s 34ms/step - loss: 0.0160 - acc: 0.1579\n",
            "Epoch 146/800\n",
            "4/4 [==============================] - 0s 33ms/step - loss: 0.0152 - acc: 0.2456\n",
            "Epoch 147/800\n",
            "4/4 [==============================] - 0s 35ms/step - loss: 0.0185 - acc: 0.0877\n",
            "Epoch 148/800\n",
            "4/4 [==============================] - 0s 35ms/step - loss: 0.0177 - acc: 0.1754\n",
            "Epoch 149/800\n",
            "4/4 [==============================] - 0s 34ms/step - loss: 0.0181 - acc: 0.2456\n",
            "Epoch 150/800\n",
            "4/4 [==============================] - 0s 33ms/step - loss: 0.0176 - acc: 0.1404\n",
            "Epoch 151/800\n",
            "4/4 [==============================] - 0s 37ms/step - loss: 0.0187 - acc: 0.2982\n",
            "Epoch 152/800\n",
            "4/4 [==============================] - 0s 33ms/step - loss: 0.0192 - acc: 0.1404\n",
            "Epoch 153/800\n",
            "4/4 [==============================] - 0s 32ms/step - loss: 0.0170 - acc: 0.1579\n",
            "Epoch 154/800\n",
            "4/4 [==============================] - 0s 34ms/step - loss: 0.0177 - acc: 0.1754\n",
            "Epoch 155/800\n",
            "4/4 [==============================] - 0s 32ms/step - loss: 0.0193 - acc: 0.1053\n",
            "Epoch 156/800\n",
            "4/4 [==============================] - 0s 32ms/step - loss: 0.0197 - acc: 0.0877\n",
            "Epoch 157/800\n",
            "4/4 [==============================] - 0s 31ms/step - loss: 0.0195 - acc: 0.1579\n",
            "Epoch 158/800\n",
            "4/4 [==============================] - 0s 38ms/step - loss: 0.0162 - acc: 0.1404\n",
            "Epoch 159/800\n",
            "4/4 [==============================] - 0s 34ms/step - loss: 0.0164 - acc: 0.1579\n",
            "Epoch 160/800\n",
            "4/4 [==============================] - 0s 34ms/step - loss: 0.0143 - acc: 0.1754\n",
            "Epoch 161/800\n",
            "4/4 [==============================] - 0s 34ms/step - loss: 0.0156 - acc: 0.1754\n",
            "Epoch 162/800\n",
            "4/4 [==============================] - 0s 37ms/step - loss: 0.0161 - acc: 0.1228\n",
            "Epoch 163/800\n",
            "4/4 [==============================] - 0s 32ms/step - loss: 0.0164 - acc: 0.1754\n",
            "Epoch 164/800\n",
            "4/4 [==============================] - 0s 32ms/step - loss: 0.0170 - acc: 0.0877\n",
            "Epoch 165/800\n",
            "4/4 [==============================] - 0s 31ms/step - loss: 0.0150 - acc: 0.2456\n",
            "Epoch 166/800\n",
            "4/4 [==============================] - 0s 33ms/step - loss: 0.0151 - acc: 0.1754\n",
            "Epoch 167/800\n",
            "4/4 [==============================] - 0s 34ms/step - loss: 0.0145 - acc: 0.1754\n",
            "Epoch 168/800\n",
            "4/4 [==============================] - 0s 33ms/step - loss: 0.0146 - acc: 0.1930\n",
            "Epoch 169/800\n",
            "4/4 [==============================] - 0s 31ms/step - loss: 0.0166 - acc: 0.3158\n",
            "Epoch 170/800\n",
            "4/4 [==============================] - 0s 33ms/step - loss: 0.0164 - acc: 0.1228\n",
            "Epoch 171/800\n",
            "4/4 [==============================] - 0s 31ms/step - loss: 0.0157 - acc: 0.2105\n",
            "Epoch 172/800\n",
            "4/4 [==============================] - 0s 33ms/step - loss: 0.0135 - acc: 0.1754\n",
            "Epoch 173/800\n",
            "4/4 [==============================] - 0s 32ms/step - loss: 0.0145 - acc: 0.2281\n",
            "Epoch 174/800\n",
            "4/4 [==============================] - 0s 35ms/step - loss: 0.0153 - acc: 0.1754\n",
            "Epoch 175/800\n",
            "4/4 [==============================] - 0s 33ms/step - loss: 0.0140 - acc: 0.1579\n",
            "Epoch 176/800\n",
            "4/4 [==============================] - 0s 34ms/step - loss: 0.0131 - acc: 0.2632\n",
            "Epoch 177/800\n",
            "4/4 [==============================] - 0s 32ms/step - loss: 0.0135 - acc: 0.2105\n",
            "Epoch 178/800\n",
            "4/4 [==============================] - 0s 33ms/step - loss: 0.0142 - acc: 0.1754\n",
            "Epoch 179/800\n",
            "4/4 [==============================] - 0s 35ms/step - loss: 0.0128 - acc: 0.1930\n",
            "Epoch 180/800\n",
            "4/4 [==============================] - 0s 35ms/step - loss: 0.0135 - acc: 0.2456\n",
            "Epoch 181/800\n",
            "4/4 [==============================] - 0s 33ms/step - loss: 0.0135 - acc: 0.2807\n",
            "Epoch 182/800\n",
            "4/4 [==============================] - 0s 35ms/step - loss: 0.0128 - acc: 0.1754\n",
            "Epoch 183/800\n",
            "4/4 [==============================] - 0s 34ms/step - loss: 0.0141 - acc: 0.2105\n",
            "Epoch 184/800\n",
            "4/4 [==============================] - 0s 33ms/step - loss: 0.0130 - acc: 0.2456\n",
            "Epoch 185/800\n",
            "4/4 [==============================] - 0s 33ms/step - loss: 0.0144 - acc: 0.2456\n",
            "Epoch 186/800\n",
            "4/4 [==============================] - 0s 36ms/step - loss: 0.0136 - acc: 0.1228\n",
            "Epoch 187/800\n",
            "4/4 [==============================] - 0s 35ms/step - loss: 0.0135 - acc: 0.2105\n",
            "Epoch 188/800\n",
            "4/4 [==============================] - 0s 36ms/step - loss: 0.0142 - acc: 0.2456\n",
            "Epoch 189/800\n",
            "4/4 [==============================] - 0s 35ms/step - loss: 0.0142 - acc: 0.1404\n",
            "Epoch 190/800\n",
            "4/4 [==============================] - 0s 32ms/step - loss: 0.0119 - acc: 0.2105\n",
            "Epoch 191/800\n",
            "4/4 [==============================] - 0s 34ms/step - loss: 0.0136 - acc: 0.1754\n",
            "Epoch 192/800\n",
            "4/4 [==============================] - 0s 35ms/step - loss: 0.0143 - acc: 0.1228\n",
            "Epoch 193/800\n",
            "4/4 [==============================] - 0s 32ms/step - loss: 0.0138 - acc: 0.1754\n",
            "Epoch 194/800\n",
            "4/4 [==============================] - 0s 32ms/step - loss: 0.0151 - acc: 0.2105\n",
            "Epoch 195/800\n",
            "4/4 [==============================] - 0s 36ms/step - loss: 0.0136 - acc: 0.2281\n",
            "Epoch 196/800\n",
            "4/4 [==============================] - 0s 35ms/step - loss: 0.0146 - acc: 0.3158\n",
            "Epoch 197/800\n",
            "4/4 [==============================] - 0s 31ms/step - loss: 0.0140 - acc: 0.1579\n",
            "Epoch 198/800\n",
            "4/4 [==============================] - 0s 33ms/step - loss: 0.0134 - acc: 0.1930\n",
            "Epoch 199/800\n",
            "4/4 [==============================] - 0s 34ms/step - loss: 0.0140 - acc: 0.1754\n",
            "Epoch 200/800\n",
            "4/4 [==============================] - 0s 33ms/step - loss: 0.0152 - acc: 0.1228\n",
            "Epoch 201/800\n",
            "4/4 [==============================] - 0s 33ms/step - loss: 0.0131 - acc: 0.2456\n",
            "Epoch 202/800\n",
            "4/4 [==============================] - 0s 35ms/step - loss: 0.0129 - acc: 0.2105\n",
            "Epoch 203/800\n",
            "4/4 [==============================] - 0s 35ms/step - loss: 0.0125 - acc: 0.1930\n",
            "Epoch 204/800\n",
            "4/4 [==============================] - 0s 34ms/step - loss: 0.0123 - acc: 0.1579\n",
            "Epoch 205/800\n",
            "4/4 [==============================] - 0s 33ms/step - loss: 0.0142 - acc: 0.1930\n",
            "Epoch 206/800\n",
            "4/4 [==============================] - 0s 33ms/step - loss: 0.0125 - acc: 0.1930\n",
            "Epoch 207/800\n",
            "4/4 [==============================] - 0s 34ms/step - loss: 0.0128 - acc: 0.1930\n",
            "Epoch 208/800\n",
            "4/4 [==============================] - 0s 33ms/step - loss: 0.0122 - acc: 0.2456\n",
            "Epoch 209/800\n",
            "4/4 [==============================] - 0s 40ms/step - loss: 0.0114 - acc: 0.1579\n",
            "Epoch 210/800\n",
            "4/4 [==============================] - 0s 34ms/step - loss: 0.0137 - acc: 0.1579\n",
            "Epoch 211/800\n",
            "4/4 [==============================] - 0s 34ms/step - loss: 0.0126 - acc: 0.2456\n",
            "Epoch 212/800\n",
            "4/4 [==============================] - 0s 34ms/step - loss: 0.0136 - acc: 0.1754\n",
            "Epoch 213/800\n",
            "4/4 [==============================] - 0s 34ms/step - loss: 0.0132 - acc: 0.2281\n",
            "Epoch 214/800\n",
            "4/4 [==============================] - 0s 35ms/step - loss: 0.0115 - acc: 0.2982\n",
            "Epoch 215/800\n",
            "4/4 [==============================] - 0s 31ms/step - loss: 0.0127 - acc: 0.2632\n",
            "Epoch 216/800\n",
            "4/4 [==============================] - 0s 36ms/step - loss: 0.0129 - acc: 0.2632\n",
            "Epoch 217/800\n",
            "4/4 [==============================] - 0s 32ms/step - loss: 0.0124 - acc: 0.2456\n",
            "Epoch 218/800\n",
            "4/4 [==============================] - 0s 33ms/step - loss: 0.0130 - acc: 0.3333\n",
            "Epoch 219/800\n",
            "4/4 [==============================] - 0s 36ms/step - loss: 0.0118 - acc: 0.2281\n",
            "Epoch 220/800\n",
            "4/4 [==============================] - 0s 34ms/step - loss: 0.0115 - acc: 0.2807\n",
            "Epoch 221/800\n",
            "4/4 [==============================] - 0s 33ms/step - loss: 0.0135 - acc: 0.2105\n",
            "Epoch 222/800\n",
            "4/4 [==============================] - 0s 35ms/step - loss: 0.0149 - acc: 0.2632\n",
            "Epoch 223/800\n",
            "4/4 [==============================] - 0s 36ms/step - loss: 0.0136 - acc: 0.2982\n",
            "Epoch 224/800\n",
            "4/4 [==============================] - 0s 39ms/step - loss: 0.0131 - acc: 0.2456\n",
            "Epoch 225/800\n",
            "4/4 [==============================] - 0s 35ms/step - loss: 0.0121 - acc: 0.1228\n",
            "Epoch 226/800\n",
            "4/4 [==============================] - 0s 34ms/step - loss: 0.0117 - acc: 0.2105\n",
            "Epoch 227/800\n",
            "4/4 [==============================] - 0s 33ms/step - loss: 0.0115 - acc: 0.3158\n",
            "Epoch 228/800\n",
            "4/4 [==============================] - 0s 36ms/step - loss: 0.0120 - acc: 0.2456\n",
            "Epoch 229/800\n",
            "4/4 [==============================] - 0s 35ms/step - loss: 0.0117 - acc: 0.1930\n",
            "Epoch 230/800\n",
            "4/4 [==============================] - 0s 37ms/step - loss: 0.0114 - acc: 0.1754\n",
            "Epoch 231/800\n",
            "4/4 [==============================] - 0s 34ms/step - loss: 0.0124 - acc: 0.1053\n",
            "Epoch 232/800\n",
            "4/4 [==============================] - 0s 34ms/step - loss: 0.0123 - acc: 0.2281\n",
            "Epoch 233/800\n",
            "4/4 [==============================] - 0s 33ms/step - loss: 0.0124 - acc: 0.1579\n",
            "Epoch 234/800\n",
            "4/4 [==============================] - 0s 36ms/step - loss: 0.0127 - acc: 0.1930\n",
            "Epoch 235/800\n",
            "4/4 [==============================] - 0s 34ms/step - loss: 0.0111 - acc: 0.2281\n",
            "Epoch 236/800\n",
            "4/4 [==============================] - 0s 32ms/step - loss: 0.0108 - acc: 0.2982\n",
            "Epoch 237/800\n",
            "4/4 [==============================] - 0s 38ms/step - loss: 0.0121 - acc: 0.2456\n",
            "Epoch 238/800\n",
            "4/4 [==============================] - 0s 32ms/step - loss: 0.0119 - acc: 0.1754\n",
            "Epoch 239/800\n",
            "4/4 [==============================] - 0s 33ms/step - loss: 0.0114 - acc: 0.2807\n",
            "Epoch 240/800\n",
            "4/4 [==============================] - 0s 33ms/step - loss: 0.0124 - acc: 0.2105\n",
            "Epoch 241/800\n",
            "4/4 [==============================] - 0s 34ms/step - loss: 0.0119 - acc: 0.2105\n",
            "Epoch 242/800\n",
            "4/4 [==============================] - 0s 34ms/step - loss: 0.0110 - acc: 0.2456\n",
            "Epoch 243/800\n",
            "4/4 [==============================] - 0s 33ms/step - loss: 0.0111 - acc: 0.2807\n",
            "Epoch 244/800\n",
            "4/4 [==============================] - 0s 34ms/step - loss: 0.0119 - acc: 0.1754\n",
            "Epoch 245/800\n",
            "4/4 [==============================] - 0s 35ms/step - loss: 0.0121 - acc: 0.2281\n",
            "Epoch 246/800\n",
            "4/4 [==============================] - 0s 35ms/step - loss: 0.0117 - acc: 0.2456\n",
            "Epoch 247/800\n",
            "4/4 [==============================] - 0s 38ms/step - loss: 0.0122 - acc: 0.2456\n",
            "Epoch 248/800\n",
            "4/4 [==============================] - 0s 38ms/step - loss: 0.0109 - acc: 0.2632\n",
            "Epoch 249/800\n",
            "4/4 [==============================] - 0s 35ms/step - loss: 0.0110 - acc: 0.1754\n",
            "Epoch 250/800\n",
            "4/4 [==============================] - 0s 34ms/step - loss: 0.0125 - acc: 0.2281\n",
            "Epoch 251/800\n",
            "4/4 [==============================] - 0s 36ms/step - loss: 0.0101 - acc: 0.2807\n",
            "Epoch 252/800\n",
            "4/4 [==============================] - 0s 33ms/step - loss: 0.0112 - acc: 0.2632\n",
            "Epoch 253/800\n",
            "4/4 [==============================] - 0s 38ms/step - loss: 0.0107 - acc: 0.2982\n",
            "Epoch 254/800\n",
            "4/4 [==============================] - 0s 35ms/step - loss: 0.0130 - acc: 0.2632\n",
            "Epoch 255/800\n",
            "4/4 [==============================] - 0s 35ms/step - loss: 0.0122 - acc: 0.2632\n",
            "Epoch 256/800\n",
            "4/4 [==============================] - 0s 36ms/step - loss: 0.0119 - acc: 0.3509\n",
            "Epoch 257/800\n",
            "4/4 [==============================] - 0s 34ms/step - loss: 0.0123 - acc: 0.2281\n",
            "Epoch 258/800\n",
            "4/4 [==============================] - 0s 40ms/step - loss: 0.0114 - acc: 0.2281\n",
            "Epoch 259/800\n",
            "4/4 [==============================] - 0s 41ms/step - loss: 0.0118 - acc: 0.2281\n",
            "Epoch 260/800\n",
            "4/4 [==============================] - 0s 33ms/step - loss: 0.0120 - acc: 0.2807\n",
            "Epoch 261/800\n",
            "4/4 [==============================] - 0s 33ms/step - loss: 0.0107 - acc: 0.2105\n",
            "Epoch 262/800\n",
            "4/4 [==============================] - 0s 34ms/step - loss: 0.0118 - acc: 0.2456\n",
            "Epoch 263/800\n",
            "4/4 [==============================] - 0s 33ms/step - loss: 0.0103 - acc: 0.2982\n",
            "Epoch 264/800\n",
            "4/4 [==============================] - 0s 37ms/step - loss: 0.0114 - acc: 0.2281\n",
            "Epoch 265/800\n",
            "4/4 [==============================] - 0s 41ms/step - loss: 0.0103 - acc: 0.2281\n",
            "Epoch 266/800\n",
            "4/4 [==============================] - 0s 34ms/step - loss: 0.0108 - acc: 0.2281\n",
            "Epoch 267/800\n",
            "4/4 [==============================] - 0s 34ms/step - loss: 0.0116 - acc: 0.2105\n",
            "Epoch 268/800\n",
            "4/4 [==============================] - 0s 36ms/step - loss: 0.0125 - acc: 0.2456\n",
            "Epoch 269/800\n",
            "4/4 [==============================] - 0s 33ms/step - loss: 0.0109 - acc: 0.2105\n",
            "Epoch 270/800\n",
            "4/4 [==============================] - 0s 35ms/step - loss: 0.0111 - acc: 0.2807\n",
            "Epoch 271/800\n",
            "4/4 [==============================] - 0s 35ms/step - loss: 0.0124 - acc: 0.2807\n",
            "Epoch 272/800\n",
            "4/4 [==============================] - 0s 37ms/step - loss: 0.0133 - acc: 0.2632\n",
            "Epoch 273/800\n",
            "4/4 [==============================] - 0s 32ms/step - loss: 0.0117 - acc: 0.2632\n",
            "Epoch 274/800\n",
            "4/4 [==============================] - 0s 35ms/step - loss: 0.0116 - acc: 0.2632\n",
            "Epoch 275/800\n",
            "4/4 [==============================] - 0s 31ms/step - loss: 0.0105 - acc: 0.2807\n",
            "Epoch 276/800\n",
            "4/4 [==============================] - 0s 33ms/step - loss: 0.0115 - acc: 0.2281\n",
            "Epoch 277/800\n",
            "4/4 [==============================] - 0s 34ms/step - loss: 0.0133 - acc: 0.1579\n",
            "Epoch 278/800\n",
            "4/4 [==============================] - 0s 35ms/step - loss: 0.0115 - acc: 0.1930\n",
            "Epoch 279/800\n",
            "4/4 [==============================] - 0s 37ms/step - loss: 0.0106 - acc: 0.2456\n",
            "Epoch 280/800\n",
            "4/4 [==============================] - 0s 34ms/step - loss: 0.0112 - acc: 0.2105\n",
            "Epoch 281/800\n",
            "4/4 [==============================] - 0s 33ms/step - loss: 0.0099 - acc: 0.2456\n",
            "Epoch 282/800\n",
            "4/4 [==============================] - 0s 33ms/step - loss: 0.0109 - acc: 0.3158\n",
            "Epoch 283/800\n",
            "4/4 [==============================] - 0s 33ms/step - loss: 0.0112 - acc: 0.2807\n",
            "Epoch 284/800\n",
            "4/4 [==============================] - 0s 32ms/step - loss: 0.0113 - acc: 0.3158\n",
            "Epoch 285/800\n",
            "4/4 [==============================] - 0s 34ms/step - loss: 0.0109 - acc: 0.2982\n",
            "Epoch 286/800\n",
            "4/4 [==============================] - 0s 41ms/step - loss: 0.0101 - acc: 0.2456\n",
            "Epoch 287/800\n",
            "4/4 [==============================] - 0s 35ms/step - loss: 0.0108 - acc: 0.2281\n",
            "Epoch 288/800\n",
            "4/4 [==============================] - 0s 33ms/step - loss: 0.0103 - acc: 0.2105\n",
            "Epoch 289/800\n",
            "4/4 [==============================] - 0s 35ms/step - loss: 0.0107 - acc: 0.2105\n",
            "Epoch 290/800\n",
            "4/4 [==============================] - 0s 32ms/step - loss: 0.0107 - acc: 0.2456\n",
            "Epoch 291/800\n",
            "4/4 [==============================] - 0s 33ms/step - loss: 0.0112 - acc: 0.2105\n",
            "Epoch 292/800\n",
            "4/4 [==============================] - 0s 37ms/step - loss: 0.0107 - acc: 0.2281\n",
            "Epoch 293/800\n",
            "4/4 [==============================] - 0s 34ms/step - loss: 0.0097 - acc: 0.2807\n",
            "Epoch 294/800\n",
            "4/4 [==============================] - 0s 33ms/step - loss: 0.0114 - acc: 0.1930\n",
            "Epoch 295/800\n",
            "4/4 [==============================] - 0s 35ms/step - loss: 0.0112 - acc: 0.2281\n",
            "Epoch 296/800\n",
            "4/4 [==============================] - 0s 34ms/step - loss: 0.0109 - acc: 0.2281\n",
            "Epoch 297/800\n",
            "4/4 [==============================] - 0s 35ms/step - loss: 0.0101 - acc: 0.1930\n",
            "Epoch 298/800\n",
            "4/4 [==============================] - 0s 35ms/step - loss: 0.0107 - acc: 0.3333\n",
            "Epoch 299/800\n",
            "4/4 [==============================] - 0s 35ms/step - loss: 0.0111 - acc: 0.2807\n",
            "Epoch 300/800\n",
            "4/4 [==============================] - 0s 35ms/step - loss: 0.0112 - acc: 0.3333\n",
            "Epoch 301/800\n",
            "4/4 [==============================] - 0s 33ms/step - loss: 0.0098 - acc: 0.3509\n",
            "Epoch 302/800\n",
            "4/4 [==============================] - 0s 32ms/step - loss: 0.0115 - acc: 0.2281\n",
            "Epoch 303/800\n",
            "4/4 [==============================] - 0s 32ms/step - loss: 0.0108 - acc: 0.2632\n",
            "Epoch 304/800\n",
            "4/4 [==============================] - 0s 33ms/step - loss: 0.0116 - acc: 0.2632\n",
            "Epoch 305/800\n",
            "4/4 [==============================] - 0s 32ms/step - loss: 0.0107 - acc: 0.1930\n",
            "Epoch 306/800\n",
            "4/4 [==============================] - 0s 33ms/step - loss: 0.0111 - acc: 0.2807\n",
            "Epoch 307/800\n",
            "4/4 [==============================] - 0s 37ms/step - loss: 0.0101 - acc: 0.2456\n",
            "Epoch 308/800\n",
            "4/4 [==============================] - 0s 31ms/step - loss: 0.0100 - acc: 0.2105\n",
            "Epoch 309/800\n",
            "4/4 [==============================] - 0s 33ms/step - loss: 0.0090 - acc: 0.2105\n",
            "Epoch 310/800\n",
            "4/4 [==============================] - 0s 34ms/step - loss: 0.0096 - acc: 0.2632\n",
            "Epoch 311/800\n",
            "4/4 [==============================] - 0s 31ms/step - loss: 0.0119 - acc: 0.2105\n",
            "Epoch 312/800\n",
            "4/4 [==============================] - 0s 32ms/step - loss: 0.0113 - acc: 0.2456\n",
            "Epoch 313/800\n",
            "4/4 [==============================] - 0s 37ms/step - loss: 0.0106 - acc: 0.2105\n",
            "Epoch 314/800\n",
            "4/4 [==============================] - 0s 37ms/step - loss: 0.0109 - acc: 0.1754\n",
            "Epoch 315/800\n",
            "4/4 [==============================] - 0s 35ms/step - loss: 0.0104 - acc: 0.1930\n",
            "Epoch 316/800\n",
            "4/4 [==============================] - 0s 37ms/step - loss: 0.0108 - acc: 0.2105\n",
            "Epoch 317/800\n",
            "4/4 [==============================] - 0s 36ms/step - loss: 0.0098 - acc: 0.2281\n",
            "Epoch 318/800\n",
            "4/4 [==============================] - 0s 33ms/step - loss: 0.0103 - acc: 0.2456\n",
            "Epoch 319/800\n",
            "4/4 [==============================] - 0s 34ms/step - loss: 0.0099 - acc: 0.3509\n",
            "Epoch 320/800\n",
            "4/4 [==============================] - 0s 34ms/step - loss: 0.0104 - acc: 0.2281\n",
            "Epoch 321/800\n",
            "4/4 [==============================] - 0s 37ms/step - loss: 0.0087 - acc: 0.2105\n",
            "Epoch 322/800\n",
            "4/4 [==============================] - 0s 36ms/step - loss: 0.0104 - acc: 0.2456\n",
            "Epoch 323/800\n",
            "4/4 [==============================] - 0s 34ms/step - loss: 0.0102 - acc: 0.1754\n",
            "Epoch 324/800\n",
            "4/4 [==============================] - 0s 33ms/step - loss: 0.0098 - acc: 0.2105\n",
            "Epoch 325/800\n",
            "4/4 [==============================] - 0s 37ms/step - loss: 0.0103 - acc: 0.2982\n",
            "Epoch 326/800\n",
            "4/4 [==============================] - 0s 32ms/step - loss: 0.0094 - acc: 0.3158\n",
            "Epoch 327/800\n",
            "4/4 [==============================] - 0s 33ms/step - loss: 0.0104 - acc: 0.2456\n",
            "Epoch 328/800\n",
            "4/4 [==============================] - 0s 38ms/step - loss: 0.0104 - acc: 0.2807\n",
            "Epoch 329/800\n",
            "4/4 [==============================] - 0s 33ms/step - loss: 0.0104 - acc: 0.1930\n",
            "Epoch 330/800\n",
            "4/4 [==============================] - 0s 35ms/step - loss: 0.0095 - acc: 0.1930\n",
            "Epoch 331/800\n",
            "4/4 [==============================] - 0s 33ms/step - loss: 0.0093 - acc: 0.2632\n",
            "Epoch 332/800\n",
            "4/4 [==============================] - 0s 34ms/step - loss: 0.0109 - acc: 0.2281\n",
            "Epoch 333/800\n",
            "4/4 [==============================] - 0s 32ms/step - loss: 0.0121 - acc: 0.1053\n",
            "Epoch 334/800\n",
            "4/4 [==============================] - 0s 34ms/step - loss: 0.0103 - acc: 0.2807\n",
            "Epoch 335/800\n",
            "4/4 [==============================] - 0s 38ms/step - loss: 0.0099 - acc: 0.2632\n",
            "Epoch 336/800\n",
            "4/4 [==============================] - 0s 34ms/step - loss: 0.0089 - acc: 0.2807\n",
            "Epoch 337/800\n",
            "4/4 [==============================] - 0s 33ms/step - loss: 0.0086 - acc: 0.2105\n",
            "Epoch 338/800\n",
            "4/4 [==============================] - 0s 35ms/step - loss: 0.0091 - acc: 0.2632\n",
            "Epoch 339/800\n",
            "4/4 [==============================] - 0s 34ms/step - loss: 0.0102 - acc: 0.3158\n",
            "Epoch 340/800\n",
            "4/4 [==============================] - 0s 34ms/step - loss: 0.0094 - acc: 0.1754\n",
            "Epoch 341/800\n",
            "4/4 [==============================] - 0s 36ms/step - loss: 0.0106 - acc: 0.2281\n",
            "Epoch 342/800\n",
            "4/4 [==============================] - 0s 34ms/step - loss: 0.0095 - acc: 0.2632\n",
            "Epoch 343/800\n",
            "4/4 [==============================] - 0s 35ms/step - loss: 0.0090 - acc: 0.2982\n",
            "Epoch 344/800\n",
            "4/4 [==============================] - 0s 34ms/step - loss: 0.0109 - acc: 0.2632\n",
            "Epoch 345/800\n",
            "4/4 [==============================] - 0s 34ms/step - loss: 0.0090 - acc: 0.2982\n",
            "Epoch 346/800\n",
            "4/4 [==============================] - 0s 33ms/step - loss: 0.0087 - acc: 0.3509\n",
            "Epoch 347/800\n",
            "4/4 [==============================] - 0s 35ms/step - loss: 0.0099 - acc: 0.2632\n",
            "Epoch 348/800\n",
            "4/4 [==============================] - 0s 34ms/step - loss: 0.0092 - acc: 0.2281\n",
            "Epoch 349/800\n",
            "4/4 [==============================] - 0s 36ms/step - loss: 0.0097 - acc: 0.2281\n",
            "Epoch 350/800\n",
            "4/4 [==============================] - 0s 37ms/step - loss: 0.0096 - acc: 0.2632\n",
            "Epoch 351/800\n",
            "4/4 [==============================] - 0s 33ms/step - loss: 0.0096 - acc: 0.2105\n",
            "Epoch 352/800\n",
            "4/4 [==============================] - 0s 34ms/step - loss: 0.0089 - acc: 0.2281\n",
            "Epoch 353/800\n",
            "4/4 [==============================] - 0s 34ms/step - loss: 0.0081 - acc: 0.2982\n",
            "Epoch 354/800\n",
            "4/4 [==============================] - 0s 33ms/step - loss: 0.0094 - acc: 0.2982\n",
            "Epoch 355/800\n",
            "4/4 [==============================] - 0s 32ms/step - loss: 0.0081 - acc: 0.2632\n",
            "Epoch 356/800\n",
            "4/4 [==============================] - 0s 34ms/step - loss: 0.0091 - acc: 0.2105\n",
            "Epoch 357/800\n",
            "4/4 [==============================] - 0s 37ms/step - loss: 0.0112 - acc: 0.2632\n",
            "Epoch 358/800\n",
            "4/4 [==============================] - 0s 33ms/step - loss: 0.0093 - acc: 0.2632\n",
            "Epoch 359/800\n",
            "4/4 [==============================] - 0s 33ms/step - loss: 0.0092 - acc: 0.1930\n",
            "Epoch 360/800\n",
            "4/4 [==============================] - 0s 36ms/step - loss: 0.0096 - acc: 0.1930\n",
            "Epoch 361/800\n",
            "4/4 [==============================] - 0s 32ms/step - loss: 0.0094 - acc: 0.2632\n",
            "Epoch 362/800\n",
            "4/4 [==============================] - 0s 34ms/step - loss: 0.0095 - acc: 0.2281\n",
            "Epoch 363/800\n",
            "4/4 [==============================] - 0s 37ms/step - loss: 0.0094 - acc: 0.2632\n",
            "Epoch 364/800\n",
            "4/4 [==============================] - 0s 35ms/step - loss: 0.0099 - acc: 0.2632\n",
            "Epoch 365/800\n",
            "4/4 [==============================] - 0s 37ms/step - loss: 0.0087 - acc: 0.1930\n",
            "Epoch 366/800\n",
            "4/4 [==============================] - 0s 34ms/step - loss: 0.0095 - acc: 0.1930\n",
            "Epoch 367/800\n",
            "4/4 [==============================] - 0s 33ms/step - loss: 0.0095 - acc: 0.1930\n",
            "Epoch 368/800\n",
            "4/4 [==============================] - 0s 37ms/step - loss: 0.0094 - acc: 0.2456\n",
            "Epoch 369/800\n",
            "4/4 [==============================] - 0s 33ms/step - loss: 0.0088 - acc: 0.2982\n",
            "Epoch 370/800\n",
            "4/4 [==============================] - 0s 36ms/step - loss: 0.0093 - acc: 0.2456\n",
            "Epoch 371/800\n",
            "4/4 [==============================] - 0s 35ms/step - loss: 0.0094 - acc: 0.2632\n",
            "Epoch 372/800\n",
            "4/4 [==============================] - 0s 36ms/step - loss: 0.0091 - acc: 0.1579\n",
            "Epoch 373/800\n",
            "4/4 [==============================] - 0s 33ms/step - loss: 0.0083 - acc: 0.3158\n",
            "Epoch 374/800\n",
            "4/4 [==============================] - 0s 36ms/step - loss: 0.0098 - acc: 0.2982\n",
            "Epoch 375/800\n",
            "4/4 [==============================] - 0s 33ms/step - loss: 0.0102 - acc: 0.2105\n",
            "Epoch 376/800\n",
            "4/4 [==============================] - 0s 37ms/step - loss: 0.0114 - acc: 0.2105\n",
            "Epoch 377/800\n",
            "4/4 [==============================] - 0s 35ms/step - loss: 0.0093 - acc: 0.2632\n",
            "Epoch 378/800\n",
            "4/4 [==============================] - 0s 38ms/step - loss: 0.0089 - acc: 0.2632\n",
            "Epoch 379/800\n",
            "4/4 [==============================] - 0s 34ms/step - loss: 0.0111 - acc: 0.1579\n",
            "Epoch 380/800\n",
            "4/4 [==============================] - 0s 32ms/step - loss: 0.0097 - acc: 0.2281\n",
            "Epoch 381/800\n",
            "4/4 [==============================] - 0s 35ms/step - loss: 0.0090 - acc: 0.2632\n",
            "Epoch 382/800\n",
            "4/4 [==============================] - 0s 35ms/step - loss: 0.0091 - acc: 0.2456\n",
            "Epoch 383/800\n",
            "4/4 [==============================] - 0s 33ms/step - loss: 0.0090 - acc: 0.2105\n",
            "Epoch 384/800\n",
            "4/4 [==============================] - 0s 37ms/step - loss: 0.0084 - acc: 0.2632\n",
            "Epoch 385/800\n",
            "4/4 [==============================] - 0s 37ms/step - loss: 0.0088 - acc: 0.2807\n",
            "Epoch 386/800\n",
            "4/4 [==============================] - 0s 33ms/step - loss: 0.0085 - acc: 0.3333\n",
            "Epoch 387/800\n",
            "4/4 [==============================] - 0s 36ms/step - loss: 0.0080 - acc: 0.2456\n",
            "Epoch 388/800\n",
            "4/4 [==============================] - 0s 35ms/step - loss: 0.0087 - acc: 0.1404\n",
            "Epoch 389/800\n",
            "4/4 [==============================] - 0s 37ms/step - loss: 0.0082 - acc: 0.1404\n",
            "Epoch 390/800\n",
            "4/4 [==============================] - 0s 32ms/step - loss: 0.0095 - acc: 0.2105\n",
            "Epoch 391/800\n",
            "4/4 [==============================] - 0s 36ms/step - loss: 0.0088 - acc: 0.2632\n",
            "Epoch 392/800\n",
            "4/4 [==============================] - 0s 38ms/step - loss: 0.0095 - acc: 0.2982\n",
            "Epoch 393/800\n",
            "4/4 [==============================] - 0s 35ms/step - loss: 0.0079 - acc: 0.3158\n",
            "Epoch 394/800\n",
            "4/4 [==============================] - 0s 35ms/step - loss: 0.0092 - acc: 0.2281\n",
            "Epoch 395/800\n",
            "4/4 [==============================] - 0s 33ms/step - loss: 0.0084 - acc: 0.2456\n",
            "Epoch 396/800\n",
            "4/4 [==============================] - 0s 34ms/step - loss: 0.0106 - acc: 0.1754\n",
            "Epoch 397/800\n",
            "4/4 [==============================] - 0s 40ms/step - loss: 0.0085 - acc: 0.1930\n",
            "Epoch 398/800\n",
            "4/4 [==============================] - 0s 33ms/step - loss: 0.0105 - acc: 0.2456\n",
            "Epoch 399/800\n",
            "4/4 [==============================] - 0s 40ms/step - loss: 0.0095 - acc: 0.2632\n",
            "Epoch 400/800\n",
            "4/4 [==============================] - 0s 35ms/step - loss: 0.0088 - acc: 0.2807\n",
            "Epoch 401/800\n",
            "4/4 [==============================] - 0s 37ms/step - loss: 0.0100 - acc: 0.2281\n",
            "Epoch 402/800\n",
            "4/4 [==============================] - 0s 35ms/step - loss: 0.0088 - acc: 0.1754\n",
            "Epoch 403/800\n",
            "4/4 [==============================] - 0s 36ms/step - loss: 0.0089 - acc: 0.1930\n",
            "Epoch 404/800\n",
            "4/4 [==============================] - 0s 32ms/step - loss: 0.0089 - acc: 0.2281\n",
            "Epoch 405/800\n",
            "4/4 [==============================] - 0s 32ms/step - loss: 0.0090 - acc: 0.2456\n",
            "Epoch 406/800\n",
            "4/4 [==============================] - 0s 37ms/step - loss: 0.0089 - acc: 0.1754\n",
            "Epoch 407/800\n",
            "4/4 [==============================] - 0s 33ms/step - loss: 0.0095 - acc: 0.2982\n",
            "Epoch 408/800\n",
            "4/4 [==============================] - 0s 33ms/step - loss: 0.0080 - acc: 0.2105\n",
            "Epoch 409/800\n",
            "4/4 [==============================] - 0s 35ms/step - loss: 0.0079 - acc: 0.2281\n",
            "Epoch 410/800\n",
            "4/4 [==============================] - 0s 35ms/step - loss: 0.0079 - acc: 0.2281\n",
            "Epoch 411/800\n",
            "4/4 [==============================] - 0s 37ms/step - loss: 0.0078 - acc: 0.2456\n",
            "Epoch 412/800\n",
            "4/4 [==============================] - 0s 40ms/step - loss: 0.0104 - acc: 0.2456\n",
            "Epoch 413/800\n",
            "4/4 [==============================] - 0s 34ms/step - loss: 0.0085 - acc: 0.2105\n",
            "Epoch 414/800\n",
            "4/4 [==============================] - 0s 37ms/step - loss: 0.0081 - acc: 0.2456\n",
            "Epoch 415/800\n",
            "4/4 [==============================] - 0s 38ms/step - loss: 0.0084 - acc: 0.2456\n",
            "Epoch 416/800\n",
            "4/4 [==============================] - 0s 35ms/step - loss: 0.0080 - acc: 0.2456\n",
            "Epoch 417/800\n",
            "4/4 [==============================] - 0s 37ms/step - loss: 0.0080 - acc: 0.2807\n",
            "Epoch 418/800\n",
            "4/4 [==============================] - 0s 37ms/step - loss: 0.0077 - acc: 0.2456\n",
            "Epoch 419/800\n",
            "4/4 [==============================] - 0s 37ms/step - loss: 0.0086 - acc: 0.2456\n",
            "Epoch 420/800\n",
            "4/4 [==============================] - 0s 38ms/step - loss: 0.0087 - acc: 0.2632\n",
            "Epoch 421/800\n",
            "4/4 [==============================] - 0s 36ms/step - loss: 0.0074 - acc: 0.2807\n",
            "Epoch 422/800\n",
            "4/4 [==============================] - 0s 32ms/step - loss: 0.0078 - acc: 0.2807\n",
            "Epoch 423/800\n",
            "4/4 [==============================] - 0s 36ms/step - loss: 0.0084 - acc: 0.2105\n",
            "Epoch 424/800\n",
            "4/4 [==============================] - 0s 38ms/step - loss: 0.0072 - acc: 0.2807\n",
            "Epoch 425/800\n",
            "4/4 [==============================] - 0s 35ms/step - loss: 0.0078 - acc: 0.3158\n",
            "Epoch 426/800\n",
            "4/4 [==============================] - 0s 36ms/step - loss: 0.0088 - acc: 0.2456\n",
            "Epoch 427/800\n",
            "4/4 [==============================] - 0s 33ms/step - loss: 0.0072 - acc: 0.2281\n",
            "Epoch 428/800\n",
            "4/4 [==============================] - 0s 35ms/step - loss: 0.0075 - acc: 0.2456\n",
            "Epoch 429/800\n",
            "4/4 [==============================] - 0s 37ms/step - loss: 0.0079 - acc: 0.3158\n",
            "Epoch 430/800\n",
            "4/4 [==============================] - 0s 33ms/step - loss: 0.0080 - acc: 0.2632\n",
            "Epoch 431/800\n",
            "4/4 [==============================] - 0s 39ms/step - loss: 0.0080 - acc: 0.3509\n",
            "Epoch 432/800\n",
            "4/4 [==============================] - 0s 34ms/step - loss: 0.0081 - acc: 0.2105\n",
            "Epoch 433/800\n",
            "4/4 [==============================] - 0s 36ms/step - loss: 0.0081 - acc: 0.2632\n",
            "Epoch 434/800\n",
            "4/4 [==============================] - 0s 36ms/step - loss: 0.0074 - acc: 0.3158\n",
            "Epoch 435/800\n",
            "4/4 [==============================] - 0s 33ms/step - loss: 0.0074 - acc: 0.2632\n",
            "Epoch 436/800\n",
            "4/4 [==============================] - 0s 36ms/step - loss: 0.0077 - acc: 0.2807\n",
            "Epoch 437/800\n",
            "4/4 [==============================] - 0s 38ms/step - loss: 0.0075 - acc: 0.2807\n",
            "Epoch 438/800\n",
            "4/4 [==============================] - 0s 35ms/step - loss: 0.0081 - acc: 0.3158\n",
            "Epoch 439/800\n",
            "4/4 [==============================] - 0s 35ms/step - loss: 0.0084 - acc: 0.2632\n",
            "Epoch 440/800\n",
            "4/4 [==============================] - 0s 37ms/step - loss: 0.0072 - acc: 0.2632\n",
            "Epoch 441/800\n",
            "4/4 [==============================] - 0s 36ms/step - loss: 0.0082 - acc: 0.2982\n",
            "Epoch 442/800\n",
            "4/4 [==============================] - 0s 34ms/step - loss: 0.0081 - acc: 0.3333\n",
            "Epoch 443/800\n",
            "4/4 [==============================] - 0s 39ms/step - loss: 0.0077 - acc: 0.3509\n",
            "Epoch 444/800\n",
            "4/4 [==============================] - 0s 34ms/step - loss: 0.0072 - acc: 0.2632\n",
            "Epoch 445/800\n",
            "4/4 [==============================] - 0s 32ms/step - loss: 0.0083 - acc: 0.2456\n",
            "Epoch 446/800\n",
            "4/4 [==============================] - 0s 36ms/step - loss: 0.0078 - acc: 0.3158\n",
            "Epoch 447/800\n",
            "4/4 [==============================] - 0s 37ms/step - loss: 0.0083 - acc: 0.2807\n",
            "Epoch 448/800\n",
            "4/4 [==============================] - 0s 36ms/step - loss: 0.0086 - acc: 0.3684\n",
            "Epoch 449/800\n",
            "4/4 [==============================] - 0s 37ms/step - loss: 0.0083 - acc: 0.2632\n",
            "Epoch 450/800\n",
            "4/4 [==============================] - 0s 36ms/step - loss: 0.0083 - acc: 0.2807\n",
            "Epoch 451/800\n",
            "4/4 [==============================] - 0s 34ms/step - loss: 0.0069 - acc: 0.3158\n",
            "Epoch 452/800\n",
            "4/4 [==============================] - 0s 35ms/step - loss: 0.0086 - acc: 0.2632\n",
            "Epoch 453/800\n",
            "4/4 [==============================] - 0s 37ms/step - loss: 0.0074 - acc: 0.2632\n",
            "Epoch 454/800\n",
            "4/4 [==============================] - 0s 33ms/step - loss: 0.0073 - acc: 0.3333\n",
            "Epoch 455/800\n",
            "4/4 [==============================] - 0s 36ms/step - loss: 0.0077 - acc: 0.2807\n",
            "Epoch 456/800\n",
            "4/4 [==============================] - 0s 38ms/step - loss: 0.0072 - acc: 0.2807\n",
            "Epoch 457/800\n",
            "4/4 [==============================] - 0s 35ms/step - loss: 0.0075 - acc: 0.2105\n",
            "Epoch 458/800\n",
            "4/4 [==============================] - 0s 35ms/step - loss: 0.0076 - acc: 0.2281\n",
            "Epoch 459/800\n",
            "4/4 [==============================] - 0s 33ms/step - loss: 0.0087 - acc: 0.1754\n",
            "Epoch 460/800\n",
            "4/4 [==============================] - 0s 35ms/step - loss: 0.0070 - acc: 0.3684\n",
            "Epoch 461/800\n",
            "4/4 [==============================] - 0s 35ms/step - loss: 0.0075 - acc: 0.3509\n",
            "Epoch 462/800\n",
            "4/4 [==============================] - 0s 34ms/step - loss: 0.0073 - acc: 0.2807\n",
            "Epoch 463/800\n",
            "4/4 [==============================] - 0s 36ms/step - loss: 0.0075 - acc: 0.2982\n",
            "Epoch 464/800\n",
            "4/4 [==============================] - 0s 33ms/step - loss: 0.0070 - acc: 0.3684\n",
            "Epoch 465/800\n",
            "4/4 [==============================] - 0s 33ms/step - loss: 0.0087 - acc: 0.2456\n",
            "Epoch 466/800\n",
            "4/4 [==============================] - 0s 34ms/step - loss: 0.0071 - acc: 0.2281\n",
            "Epoch 467/800\n",
            "4/4 [==============================] - 0s 36ms/step - loss: 0.0074 - acc: 0.2456\n",
            "Epoch 468/800\n",
            "4/4 [==============================] - 0s 39ms/step - loss: 0.0072 - acc: 0.2281\n",
            "Epoch 469/800\n",
            "4/4 [==============================] - 0s 37ms/step - loss: 0.0085 - acc: 0.2982\n",
            "Epoch 470/800\n",
            "4/4 [==============================] - 0s 39ms/step - loss: 0.0084 - acc: 0.1930\n",
            "Epoch 471/800\n",
            "4/4 [==============================] - 0s 42ms/step - loss: 0.0075 - acc: 0.2807\n",
            "Epoch 472/800\n",
            "4/4 [==============================] - 0s 35ms/step - loss: 0.0075 - acc: 0.2281\n",
            "Epoch 473/800\n",
            "4/4 [==============================] - 0s 35ms/step - loss: 0.0084 - acc: 0.3158\n",
            "Epoch 474/800\n",
            "4/4 [==============================] - 0s 38ms/step - loss: 0.0070 - acc: 0.3509\n",
            "Epoch 475/800\n",
            "4/4 [==============================] - 0s 35ms/step - loss: 0.0074 - acc: 0.3509\n",
            "Epoch 476/800\n",
            "4/4 [==============================] - 0s 35ms/step - loss: 0.0071 - acc: 0.3509\n",
            "Epoch 477/800\n",
            "4/4 [==============================] - 0s 38ms/step - loss: 0.0067 - acc: 0.2456\n",
            "Epoch 478/800\n",
            "4/4 [==============================] - 0s 34ms/step - loss: 0.0068 - acc: 0.2807\n",
            "Epoch 479/800\n",
            "4/4 [==============================] - 0s 35ms/step - loss: 0.0072 - acc: 0.3333\n",
            "Epoch 480/800\n",
            "4/4 [==============================] - 0s 40ms/step - loss: 0.0079 - acc: 0.2456\n",
            "Epoch 481/800\n",
            "4/4 [==============================] - 0s 31ms/step - loss: 0.0078 - acc: 0.1930\n",
            "Epoch 482/800\n",
            "4/4 [==============================] - 0s 36ms/step - loss: 0.0069 - acc: 0.2982\n",
            "Epoch 483/800\n",
            "4/4 [==============================] - 0s 37ms/step - loss: 0.0067 - acc: 0.2281\n",
            "Epoch 484/800\n",
            "4/4 [==============================] - 0s 35ms/step - loss: 0.0067 - acc: 0.2456\n",
            "Epoch 485/800\n",
            "4/4 [==============================] - 0s 36ms/step - loss: 0.0076 - acc: 0.3684\n",
            "Epoch 486/800\n",
            "4/4 [==============================] - 0s 37ms/step - loss: 0.0079 - acc: 0.2632\n",
            "Epoch 487/800\n",
            "4/4 [==============================] - 0s 34ms/step - loss: 0.0071 - acc: 0.2105\n",
            "Epoch 488/800\n",
            "4/4 [==============================] - 0s 37ms/step - loss: 0.0078 - acc: 0.2456\n",
            "Epoch 489/800\n",
            "4/4 [==============================] - 0s 37ms/step - loss: 0.0069 - acc: 0.2632\n",
            "Epoch 490/800\n",
            "4/4 [==============================] - 0s 36ms/step - loss: 0.0069 - acc: 0.3684\n",
            "Epoch 491/800\n",
            "4/4 [==============================] - 0s 38ms/step - loss: 0.0077 - acc: 0.2281\n",
            "Epoch 492/800\n",
            "4/4 [==============================] - 0s 35ms/step - loss: 0.0074 - acc: 0.3158\n",
            "Epoch 493/800\n",
            "4/4 [==============================] - 0s 36ms/step - loss: 0.0069 - acc: 0.3158\n",
            "Epoch 494/800\n",
            "4/4 [==============================] - 0s 39ms/step - loss: 0.0078 - acc: 0.3333\n",
            "Epoch 495/800\n",
            "4/4 [==============================] - 0s 38ms/step - loss: 0.0080 - acc: 0.2281\n",
            "Epoch 496/800\n",
            "4/4 [==============================] - 0s 36ms/step - loss: 0.0061 - acc: 0.2456\n",
            "Epoch 497/800\n",
            "4/4 [==============================] - 0s 38ms/step - loss: 0.0074 - acc: 0.2456\n",
            "Epoch 498/800\n",
            "4/4 [==============================] - 0s 37ms/step - loss: 0.0074 - acc: 0.2281\n",
            "Epoch 499/800\n",
            "4/4 [==============================] - 0s 36ms/step - loss: 0.0076 - acc: 0.2807\n",
            "Epoch 500/800\n",
            "4/4 [==============================] - 0s 40ms/step - loss: 0.0075 - acc: 0.2105\n",
            "Epoch 501/800\n",
            "4/4 [==============================] - 0s 34ms/step - loss: 0.0085 - acc: 0.2105\n",
            "Epoch 502/800\n",
            "4/4 [==============================] - 0s 39ms/step - loss: 0.0070 - acc: 0.2632\n",
            "Epoch 503/800\n",
            "4/4 [==============================] - 0s 40ms/step - loss: 0.0071 - acc: 0.2456\n",
            "Epoch 504/800\n",
            "4/4 [==============================] - 0s 35ms/step - loss: 0.0074 - acc: 0.2456\n",
            "Epoch 505/800\n",
            "4/4 [==============================] - 0s 36ms/step - loss: 0.0072 - acc: 0.1930\n",
            "Epoch 506/800\n",
            "4/4 [==============================] - 0s 38ms/step - loss: 0.0068 - acc: 0.2807\n",
            "Epoch 507/800\n",
            "4/4 [==============================] - 0s 33ms/step - loss: 0.0070 - acc: 0.2807\n",
            "Epoch 508/800\n",
            "4/4 [==============================] - 0s 36ms/step - loss: 0.0086 - acc: 0.2982\n",
            "Epoch 509/800\n",
            "4/4 [==============================] - 0s 38ms/step - loss: 0.0082 - acc: 0.2456\n",
            "Epoch 510/800\n",
            "4/4 [==============================] - 0s 36ms/step - loss: 0.0071 - acc: 0.2632\n",
            "Epoch 511/800\n",
            "4/4 [==============================] - 0s 40ms/step - loss: 0.0068 - acc: 0.1930\n",
            "Epoch 512/800\n",
            "4/4 [==============================] - 0s 35ms/step - loss: 0.0067 - acc: 0.2456\n",
            "Epoch 513/800\n",
            "4/4 [==============================] - 0s 38ms/step - loss: 0.0067 - acc: 0.2807\n",
            "Epoch 514/800\n",
            "4/4 [==============================] - 0s 42ms/step - loss: 0.0068 - acc: 0.2807\n",
            "Epoch 515/800\n",
            "4/4 [==============================] - 0s 39ms/step - loss: 0.0074 - acc: 0.3158\n",
            "Epoch 516/800\n",
            "4/4 [==============================] - 0s 36ms/step - loss: 0.0065 - acc: 0.2632\n",
            "Epoch 517/800\n",
            "4/4 [==============================] - 0s 37ms/step - loss: 0.0070 - acc: 0.1754\n",
            "Epoch 518/800\n",
            "4/4 [==============================] - 0s 35ms/step - loss: 0.0068 - acc: 0.2456\n",
            "Epoch 519/800\n",
            "4/4 [==============================] - 0s 36ms/step - loss: 0.0064 - acc: 0.1754\n",
            "Epoch 520/800\n",
            "4/4 [==============================] - 0s 35ms/step - loss: 0.0073 - acc: 0.1930\n",
            "Epoch 521/800\n",
            "4/4 [==============================] - 0s 34ms/step - loss: 0.0064 - acc: 0.2982\n",
            "Epoch 522/800\n",
            "4/4 [==============================] - 0s 35ms/step - loss: 0.0065 - acc: 0.3509\n",
            "Epoch 523/800\n",
            "4/4 [==============================] - 0s 36ms/step - loss: 0.0074 - acc: 0.2982\n",
            "Epoch 524/800\n",
            "4/4 [==============================] - 0s 37ms/step - loss: 0.0068 - acc: 0.3509\n",
            "Epoch 525/800\n",
            "4/4 [==============================] - 0s 37ms/step - loss: 0.0068 - acc: 0.2807\n",
            "Epoch 526/800\n",
            "4/4 [==============================] - 0s 39ms/step - loss: 0.0063 - acc: 0.3509\n",
            "Epoch 527/800\n",
            "4/4 [==============================] - 0s 35ms/step - loss: 0.0068 - acc: 0.2281\n",
            "Epoch 528/800\n",
            "4/4 [==============================] - 0s 38ms/step - loss: 0.0068 - acc: 0.2807\n",
            "Epoch 529/800\n",
            "4/4 [==============================] - 0s 34ms/step - loss: 0.0068 - acc: 0.2807\n",
            "Epoch 530/800\n",
            "4/4 [==============================] - 0s 35ms/step - loss: 0.0079 - acc: 0.3333\n",
            "Epoch 531/800\n",
            "4/4 [==============================] - 0s 36ms/step - loss: 0.0074 - acc: 0.1930\n",
            "Epoch 532/800\n",
            "4/4 [==============================] - 0s 35ms/step - loss: 0.0071 - acc: 0.2105\n",
            "Epoch 533/800\n",
            "4/4 [==============================] - 0s 35ms/step - loss: 0.0069 - acc: 0.3158\n",
            "Epoch 534/800\n",
            "4/4 [==============================] - 0s 35ms/step - loss: 0.0066 - acc: 0.2632\n",
            "Epoch 535/800\n",
            "4/4 [==============================] - 0s 36ms/step - loss: 0.0069 - acc: 0.2105\n",
            "Epoch 536/800\n",
            "4/4 [==============================] - 0s 39ms/step - loss: 0.0062 - acc: 0.2632\n",
            "Epoch 537/800\n",
            "4/4 [==============================] - 0s 37ms/step - loss: 0.0069 - acc: 0.3158\n",
            "Epoch 538/800\n",
            "4/4 [==============================] - 0s 40ms/step - loss: 0.0077 - acc: 0.2632\n",
            "Epoch 539/800\n",
            "4/4 [==============================] - 0s 37ms/step - loss: 0.0065 - acc: 0.2632\n",
            "Epoch 540/800\n",
            "4/4 [==============================] - 0s 33ms/step - loss: 0.0072 - acc: 0.2632\n",
            "Epoch 541/800\n",
            "4/4 [==============================] - 0s 40ms/step - loss: 0.0070 - acc: 0.3333\n",
            "Epoch 542/800\n",
            "4/4 [==============================] - 0s 50ms/step - loss: 0.0069 - acc: 0.2105\n",
            "Epoch 543/800\n",
            "4/4 [==============================] - 0s 55ms/step - loss: 0.0062 - acc: 0.3158\n",
            "Epoch 544/800\n",
            "4/4 [==============================] - 0s 48ms/step - loss: 0.0064 - acc: 0.2807\n",
            "Epoch 545/800\n",
            "4/4 [==============================] - 0s 45ms/step - loss: 0.0072 - acc: 0.3684\n",
            "Epoch 546/800\n",
            "4/4 [==============================] - 0s 48ms/step - loss: 0.0071 - acc: 0.2281\n",
            "Epoch 547/800\n",
            "4/4 [==============================] - 0s 48ms/step - loss: 0.0074 - acc: 0.3158\n",
            "Epoch 548/800\n",
            "4/4 [==============================] - 0s 44ms/step - loss: 0.0079 - acc: 0.3509\n",
            "Epoch 549/800\n",
            "4/4 [==============================] - 0s 45ms/step - loss: 0.0066 - acc: 0.2281\n",
            "Epoch 550/800\n",
            "4/4 [==============================] - 0s 45ms/step - loss: 0.0063 - acc: 0.2807\n",
            "Epoch 551/800\n",
            "4/4 [==============================] - 0s 50ms/step - loss: 0.0060 - acc: 0.2105\n",
            "Epoch 552/800\n",
            "4/4 [==============================] - 0s 53ms/step - loss: 0.0073 - acc: 0.2456\n",
            "Epoch 553/800\n",
            "4/4 [==============================] - 0s 45ms/step - loss: 0.0068 - acc: 0.2456\n",
            "Epoch 554/800\n",
            "4/4 [==============================] - 0s 37ms/step - loss: 0.0067 - acc: 0.2807\n",
            "Epoch 555/800\n",
            "4/4 [==============================] - 0s 36ms/step - loss: 0.0066 - acc: 0.3509\n",
            "Epoch 556/800\n",
            "4/4 [==============================] - 0s 36ms/step - loss: 0.0062 - acc: 0.3684\n",
            "Epoch 557/800\n",
            "4/4 [==============================] - 0s 35ms/step - loss: 0.0063 - acc: 0.3333\n",
            "Epoch 558/800\n",
            "4/4 [==============================] - 0s 35ms/step - loss: 0.0064 - acc: 0.2632\n",
            "Epoch 559/800\n",
            "4/4 [==============================] - 0s 35ms/step - loss: 0.0062 - acc: 0.3860\n",
            "Epoch 560/800\n",
            "4/4 [==============================] - 0s 36ms/step - loss: 0.0070 - acc: 0.2456\n",
            "Epoch 561/800\n",
            "4/4 [==============================] - 0s 36ms/step - loss: 0.0058 - acc: 0.3509\n",
            "Epoch 562/800\n",
            "4/4 [==============================] - 0s 34ms/step - loss: 0.0066 - acc: 0.2456\n",
            "Epoch 563/800\n",
            "4/4 [==============================] - 0s 36ms/step - loss: 0.0063 - acc: 0.3333\n",
            "Epoch 564/800\n",
            "4/4 [==============================] - 0s 38ms/step - loss: 0.0064 - acc: 0.2807\n",
            "Epoch 565/800\n",
            "4/4 [==============================] - 0s 37ms/step - loss: 0.0069 - acc: 0.3158\n",
            "Epoch 566/800\n",
            "4/4 [==============================] - 0s 37ms/step - loss: 0.0062 - acc: 0.3158\n",
            "Epoch 567/800\n",
            "4/4 [==============================] - 0s 36ms/step - loss: 0.0061 - acc: 0.2982\n",
            "Epoch 568/800\n",
            "4/4 [==============================] - 0s 35ms/step - loss: 0.0066 - acc: 0.2632\n",
            "Epoch 569/800\n",
            "4/4 [==============================] - 0s 31ms/step - loss: 0.0070 - acc: 0.2807\n",
            "Epoch 570/800\n",
            "4/4 [==============================] - 0s 38ms/step - loss: 0.0060 - acc: 0.1930\n",
            "Epoch 571/800\n",
            "4/4 [==============================] - 0s 36ms/step - loss: 0.0060 - acc: 0.2632\n",
            "Epoch 572/800\n",
            "4/4 [==============================] - 0s 35ms/step - loss: 0.0061 - acc: 0.3333\n",
            "Epoch 573/800\n",
            "4/4 [==============================] - 0s 33ms/step - loss: 0.0063 - acc: 0.2807\n",
            "Epoch 574/800\n",
            "4/4 [==============================] - 0s 33ms/step - loss: 0.0065 - acc: 0.2982\n",
            "Epoch 575/800\n",
            "4/4 [==============================] - 0s 35ms/step - loss: 0.0058 - acc: 0.2807\n",
            "Epoch 576/800\n",
            "4/4 [==============================] - 0s 34ms/step - loss: 0.0073 - acc: 0.2456\n",
            "Epoch 577/800\n",
            "4/4 [==============================] - 0s 35ms/step - loss: 0.0065 - acc: 0.2456\n",
            "Epoch 578/800\n",
            "4/4 [==============================] - 0s 37ms/step - loss: 0.0071 - acc: 0.2632\n",
            "Epoch 579/800\n",
            "4/4 [==============================] - 0s 36ms/step - loss: 0.0063 - acc: 0.2632\n",
            "Epoch 580/800\n",
            "4/4 [==============================] - 0s 34ms/step - loss: 0.0065 - acc: 0.3158\n",
            "Epoch 581/800\n",
            "4/4 [==============================] - 0s 34ms/step - loss: 0.0062 - acc: 0.2281\n",
            "Epoch 582/800\n",
            "4/4 [==============================] - 0s 34ms/step - loss: 0.0066 - acc: 0.2982\n",
            "Epoch 583/800\n",
            "4/4 [==============================] - 0s 33ms/step - loss: 0.0066 - acc: 0.3684\n",
            "Epoch 584/800\n",
            "4/4 [==============================] - 0s 39ms/step - loss: 0.0062 - acc: 0.2807\n",
            "Epoch 585/800\n",
            "4/4 [==============================] - 0s 37ms/step - loss: 0.0062 - acc: 0.2281\n",
            "Epoch 586/800\n",
            "4/4 [==============================] - 0s 36ms/step - loss: 0.0060 - acc: 0.2632\n",
            "Epoch 587/800\n",
            "4/4 [==============================] - 0s 38ms/step - loss: 0.0058 - acc: 0.1754\n",
            "Epoch 588/800\n",
            "4/4 [==============================] - 0s 38ms/step - loss: 0.0063 - acc: 0.2632\n",
            "Epoch 589/800\n",
            "4/4 [==============================] - 0s 37ms/step - loss: 0.0071 - acc: 0.2105\n",
            "Epoch 590/800\n",
            "4/4 [==============================] - 0s 38ms/step - loss: 0.0065 - acc: 0.3860\n",
            "Epoch 591/800\n",
            "4/4 [==============================] - 0s 40ms/step - loss: 0.0064 - acc: 0.2807\n",
            "Epoch 592/800\n",
            "4/4 [==============================] - 0s 37ms/step - loss: 0.0060 - acc: 0.2281\n",
            "Epoch 593/800\n",
            "4/4 [==============================] - 0s 37ms/step - loss: 0.0067 - acc: 0.3509\n",
            "Epoch 594/800\n",
            "4/4 [==============================] - 0s 35ms/step - loss: 0.0061 - acc: 0.2807\n",
            "Epoch 595/800\n",
            "4/4 [==============================] - 0s 38ms/step - loss: 0.0068 - acc: 0.3333\n",
            "Epoch 596/800\n",
            "4/4 [==============================] - 0s 37ms/step - loss: 0.0059 - acc: 0.2632\n",
            "Epoch 597/800\n",
            "4/4 [==============================] - 0s 37ms/step - loss: 0.0064 - acc: 0.2807\n",
            "Epoch 598/800\n",
            "4/4 [==============================] - 0s 42ms/step - loss: 0.0064 - acc: 0.4211\n",
            "Epoch 599/800\n",
            "4/4 [==============================] - 0s 38ms/step - loss: 0.0065 - acc: 0.3158\n",
            "Epoch 600/800\n",
            "4/4 [==============================] - 0s 36ms/step - loss: 0.0067 - acc: 0.3509\n",
            "Epoch 601/800\n",
            "4/4 [==============================] - 0s 36ms/step - loss: 0.0062 - acc: 0.4035\n",
            "Epoch 602/800\n",
            "4/4 [==============================] - 0s 35ms/step - loss: 0.0068 - acc: 0.2807\n",
            "Epoch 603/800\n",
            "4/4 [==============================] - 0s 39ms/step - loss: 0.0066 - acc: 0.2807\n",
            "Epoch 604/800\n",
            "4/4 [==============================] - 0s 34ms/step - loss: 0.0065 - acc: 0.3860\n",
            "Epoch 605/800\n",
            "4/4 [==============================] - 0s 35ms/step - loss: 0.0059 - acc: 0.2281\n",
            "Epoch 606/800\n",
            "4/4 [==============================] - 0s 38ms/step - loss: 0.0063 - acc: 0.3509\n",
            "Epoch 607/800\n",
            "4/4 [==============================] - 0s 37ms/step - loss: 0.0059 - acc: 0.3684\n",
            "Epoch 608/800\n",
            "4/4 [==============================] - 0s 36ms/step - loss: 0.0064 - acc: 0.2456\n",
            "Epoch 609/800\n",
            "4/4 [==============================] - 0s 34ms/step - loss: 0.0057 - acc: 0.2632\n",
            "Epoch 610/800\n",
            "4/4 [==============================] - 0s 38ms/step - loss: 0.0066 - acc: 0.2632\n",
            "Epoch 611/800\n",
            "4/4 [==============================] - 0s 38ms/step - loss: 0.0064 - acc: 0.2982\n",
            "Epoch 612/800\n",
            "4/4 [==============================] - 0s 35ms/step - loss: 0.0061 - acc: 0.1754\n",
            "Epoch 613/800\n",
            "4/4 [==============================] - 0s 34ms/step - loss: 0.0062 - acc: 0.2632\n",
            "Epoch 614/800\n",
            "4/4 [==============================] - 0s 38ms/step - loss: 0.0065 - acc: 0.3509\n",
            "Epoch 615/800\n",
            "4/4 [==============================] - 0s 35ms/step - loss: 0.0055 - acc: 0.3158\n",
            "Epoch 616/800\n",
            "4/4 [==============================] - 0s 41ms/step - loss: 0.0067 - acc: 0.3684\n",
            "Epoch 617/800\n",
            "4/4 [==============================] - 0s 38ms/step - loss: 0.0062 - acc: 0.3158\n",
            "Epoch 618/800\n",
            "4/4 [==============================] - 0s 37ms/step - loss: 0.0065 - acc: 0.4035\n",
            "Epoch 619/800\n",
            "4/4 [==============================] - 0s 38ms/step - loss: 0.0069 - acc: 0.3333\n",
            "Epoch 620/800\n",
            "4/4 [==============================] - 0s 42ms/step - loss: 0.0059 - acc: 0.3860\n",
            "Epoch 621/800\n",
            "4/4 [==============================] - 0s 40ms/step - loss: 0.0067 - acc: 0.2982\n",
            "Epoch 622/800\n",
            "4/4 [==============================] - 0s 34ms/step - loss: 0.0071 - acc: 0.2632\n",
            "Epoch 623/800\n",
            "4/4 [==============================] - 0s 41ms/step - loss: 0.0059 - acc: 0.2632\n",
            "Epoch 624/800\n",
            "4/4 [==============================] - 0s 39ms/step - loss: 0.0064 - acc: 0.2632\n",
            "Epoch 625/800\n",
            "4/4 [==============================] - 0s 37ms/step - loss: 0.0061 - acc: 0.2807\n",
            "Epoch 626/800\n",
            "4/4 [==============================] - 0s 37ms/step - loss: 0.0060 - acc: 0.2632\n",
            "Epoch 627/800\n",
            "4/4 [==============================] - 0s 38ms/step - loss: 0.0066 - acc: 0.2807\n",
            "Epoch 628/800\n",
            "4/4 [==============================] - 0s 35ms/step - loss: 0.0059 - acc: 0.2456\n",
            "Epoch 629/800\n",
            "4/4 [==============================] - 0s 38ms/step - loss: 0.0058 - acc: 0.3684\n",
            "Epoch 630/800\n",
            "4/4 [==============================] - 0s 39ms/step - loss: 0.0061 - acc: 0.2982\n",
            "Epoch 631/800\n",
            "4/4 [==============================] - 0s 37ms/step - loss: 0.0069 - acc: 0.4035\n",
            "Epoch 632/800\n",
            "4/4 [==============================] - 0s 43ms/step - loss: 0.0061 - acc: 0.2982\n",
            "Epoch 633/800\n",
            "4/4 [==============================] - 0s 92ms/step - loss: 0.0061 - acc: 0.3509\n",
            "Epoch 634/800\n",
            "4/4 [==============================] - 0s 86ms/step - loss: 0.0067 - acc: 0.3333\n",
            "Epoch 635/800\n",
            "4/4 [==============================] - 0s 42ms/step - loss: 0.0060 - acc: 0.2982\n",
            "Epoch 636/800\n",
            "4/4 [==============================] - 0s 38ms/step - loss: 0.0058 - acc: 0.3158\n",
            "Epoch 637/800\n",
            "4/4 [==============================] - 0s 39ms/step - loss: 0.0057 - acc: 0.3333\n",
            "Epoch 638/800\n",
            "4/4 [==============================] - 0s 98ms/step - loss: 0.0059 - acc: 0.3333\n",
            "Epoch 639/800\n",
            "4/4 [==============================] - 0s 64ms/step - loss: 0.0072 - acc: 0.2807\n",
            "Epoch 640/800\n",
            "4/4 [==============================] - 0s 74ms/step - loss: 0.0056 - acc: 0.2456\n",
            "Epoch 641/800\n",
            "4/4 [==============================] - 0s 38ms/step - loss: 0.0062 - acc: 0.2982\n",
            "Epoch 642/800\n",
            "4/4 [==============================] - 0s 36ms/step - loss: 0.0058 - acc: 0.2807\n",
            "Epoch 643/800\n",
            "4/4 [==============================] - 0s 39ms/step - loss: 0.0065 - acc: 0.3333\n",
            "Epoch 644/800\n",
            "4/4 [==============================] - 0s 38ms/step - loss: 0.0059 - acc: 0.3333\n",
            "Epoch 645/800\n",
            "4/4 [==============================] - 0s 67ms/step - loss: 0.0058 - acc: 0.3860\n",
            "Epoch 646/800\n",
            "4/4 [==============================] - 0s 78ms/step - loss: 0.0060 - acc: 0.3860\n",
            "Epoch 647/800\n",
            "4/4 [==============================] - 0s 68ms/step - loss: 0.0063 - acc: 0.2105\n",
            "Epoch 648/800\n",
            "4/4 [==============================] - 0s 80ms/step - loss: 0.0064 - acc: 0.3158\n",
            "Epoch 649/800\n",
            "4/4 [==============================] - 0s 76ms/step - loss: 0.0056 - acc: 0.2807\n",
            "Epoch 650/800\n",
            "4/4 [==============================] - 0s 93ms/step - loss: 0.0068 - acc: 0.4386\n",
            "Epoch 651/800\n",
            "4/4 [==============================] - 0s 75ms/step - loss: 0.0066 - acc: 0.2456\n",
            "Epoch 652/800\n",
            "4/4 [==============================] - 0s 91ms/step - loss: 0.0061 - acc: 0.3158\n",
            "Epoch 653/800\n",
            "4/4 [==============================] - 0s 77ms/step - loss: 0.0054 - acc: 0.3860\n",
            "Epoch 654/800\n",
            "4/4 [==============================] - 0s 68ms/step - loss: 0.0063 - acc: 0.3684\n",
            "Epoch 655/800\n",
            "4/4 [==============================] - 0s 104ms/step - loss: 0.0055 - acc: 0.3509\n",
            "Epoch 656/800\n",
            "4/4 [==============================] - 0s 91ms/step - loss: 0.0059 - acc: 0.2982\n",
            "Epoch 657/800\n",
            "4/4 [==============================] - 0s 77ms/step - loss: 0.0067 - acc: 0.3860\n",
            "Epoch 658/800\n",
            "4/4 [==============================] - 0s 72ms/step - loss: 0.0062 - acc: 0.3509\n",
            "Epoch 659/800\n",
            "4/4 [==============================] - 0s 89ms/step - loss: 0.0064 - acc: 0.3158\n",
            "Epoch 660/800\n",
            "4/4 [==============================] - 0s 60ms/step - loss: 0.0057 - acc: 0.2807\n",
            "Epoch 661/800\n",
            "4/4 [==============================] - 0s 62ms/step - loss: 0.0058 - acc: 0.3158\n",
            "Epoch 662/800\n",
            "4/4 [==============================] - 0s 65ms/step - loss: 0.0063 - acc: 0.2807\n",
            "Epoch 663/800\n",
            "4/4 [==============================] - 0s 80ms/step - loss: 0.0059 - acc: 0.2807\n",
            "Epoch 664/800\n",
            "4/4 [==============================] - 0s 115ms/step - loss: 0.0057 - acc: 0.2807\n",
            "Epoch 665/800\n",
            "4/4 [==============================] - 0s 86ms/step - loss: 0.0066 - acc: 0.2632\n",
            "Epoch 666/800\n",
            "4/4 [==============================] - 0s 42ms/step - loss: 0.0057 - acc: 0.2807\n",
            "Epoch 667/800\n",
            "4/4 [==============================] - 0s 40ms/step - loss: 0.0057 - acc: 0.3684\n",
            "Epoch 668/800\n",
            "4/4 [==============================] - 0s 37ms/step - loss: 0.0067 - acc: 0.2456\n",
            "Epoch 669/800\n",
            "4/4 [==============================] - 0s 40ms/step - loss: 0.0061 - acc: 0.2281\n",
            "Epoch 670/800\n",
            "4/4 [==============================] - 0s 40ms/step - loss: 0.0065 - acc: 0.2807\n",
            "Epoch 671/800\n",
            "4/4 [==============================] - 0s 36ms/step - loss: 0.0057 - acc: 0.2982\n",
            "Epoch 672/800\n",
            "4/4 [==============================] - 0s 35ms/step - loss: 0.0055 - acc: 0.2807\n",
            "Epoch 673/800\n",
            "4/4 [==============================] - 0s 33ms/step - loss: 0.0064 - acc: 0.2807\n",
            "Epoch 674/800\n",
            "4/4 [==============================] - 0s 36ms/step - loss: 0.0067 - acc: 0.3509\n",
            "Epoch 675/800\n",
            "4/4 [==============================] - 0s 34ms/step - loss: 0.0070 - acc: 0.3509\n",
            "Epoch 676/800\n",
            "4/4 [==============================] - 0s 36ms/step - loss: 0.0065 - acc: 0.3684\n",
            "Epoch 677/800\n",
            "4/4 [==============================] - 0s 38ms/step - loss: 0.0062 - acc: 0.3158\n",
            "Epoch 678/800\n",
            "4/4 [==============================] - 0s 36ms/step - loss: 0.0066 - acc: 0.1930\n",
            "Epoch 679/800\n",
            "4/4 [==============================] - 0s 34ms/step - loss: 0.0065 - acc: 0.3509\n",
            "Epoch 680/800\n",
            "4/4 [==============================] - 0s 39ms/step - loss: 0.0061 - acc: 0.2982\n",
            "Epoch 681/800\n",
            "4/4 [==============================] - 0s 36ms/step - loss: 0.0062 - acc: 0.2807\n",
            "Epoch 682/800\n",
            "4/4 [==============================] - 0s 36ms/step - loss: 0.0062 - acc: 0.2456\n",
            "Epoch 683/800\n",
            "4/4 [==============================] - 0s 40ms/step - loss: 0.0065 - acc: 0.2807\n",
            "Epoch 684/800\n",
            "4/4 [==============================] - 0s 37ms/step - loss: 0.0061 - acc: 0.2632\n",
            "Epoch 685/800\n",
            "4/4 [==============================] - 0s 44ms/step - loss: 0.0054 - acc: 0.3860\n",
            "Epoch 686/800\n",
            "4/4 [==============================] - 0s 37ms/step - loss: 0.0056 - acc: 0.2456\n",
            "Epoch 687/800\n",
            "4/4 [==============================] - 0s 36ms/step - loss: 0.0060 - acc: 0.2281\n",
            "Epoch 688/800\n",
            "4/4 [==============================] - 0s 39ms/step - loss: 0.0057 - acc: 0.3509\n",
            "Epoch 689/800\n",
            "4/4 [==============================] - 0s 37ms/step - loss: 0.0058 - acc: 0.3158\n",
            "Epoch 690/800\n",
            "4/4 [==============================] - 0s 36ms/step - loss: 0.0059 - acc: 0.3333\n",
            "Epoch 691/800\n",
            "4/4 [==============================] - 0s 39ms/step - loss: 0.0069 - acc: 0.2281\n",
            "Epoch 692/800\n",
            "4/4 [==============================] - 0s 34ms/step - loss: 0.0055 - acc: 0.3333\n",
            "Epoch 693/800\n",
            "4/4 [==============================] - 0s 36ms/step - loss: 0.0057 - acc: 0.4386\n",
            "Epoch 694/800\n",
            "4/4 [==============================] - 0s 36ms/step - loss: 0.0070 - acc: 0.2456\n",
            "Epoch 695/800\n",
            "4/4 [==============================] - 0s 37ms/step - loss: 0.0065 - acc: 0.2632\n",
            "Epoch 696/800\n",
            "4/4 [==============================] - 0s 39ms/step - loss: 0.0064 - acc: 0.2281\n",
            "Epoch 697/800\n",
            "4/4 [==============================] - 0s 38ms/step - loss: 0.0062 - acc: 0.2456\n",
            "Epoch 698/800\n",
            "4/4 [==============================] - 0s 35ms/step - loss: 0.0060 - acc: 0.3333\n",
            "Epoch 699/800\n",
            "4/4 [==============================] - 0s 34ms/step - loss: 0.0065 - acc: 0.3158\n",
            "Epoch 700/800\n",
            "4/4 [==============================] - 0s 37ms/step - loss: 0.0055 - acc: 0.3860\n",
            "Epoch 701/800\n",
            "4/4 [==============================] - 0s 37ms/step - loss: 0.0066 - acc: 0.3684\n",
            "Epoch 702/800\n",
            "4/4 [==============================] - 0s 35ms/step - loss: 0.0063 - acc: 0.2807\n",
            "Epoch 703/800\n",
            "4/4 [==============================] - 0s 39ms/step - loss: 0.0065 - acc: 0.3333\n",
            "Epoch 704/800\n",
            "4/4 [==============================] - 0s 38ms/step - loss: 0.0057 - acc: 0.3509\n",
            "Epoch 705/800\n",
            "4/4 [==============================] - 0s 39ms/step - loss: 0.0059 - acc: 0.3333\n",
            "Epoch 706/800\n",
            "4/4 [==============================] - 0s 39ms/step - loss: 0.0055 - acc: 0.3333\n",
            "Epoch 707/800\n",
            "4/4 [==============================] - 0s 37ms/step - loss: 0.0058 - acc: 0.2632\n",
            "Epoch 708/800\n",
            "4/4 [==============================] - 0s 35ms/step - loss: 0.0060 - acc: 0.3333\n",
            "Epoch 709/800\n",
            "4/4 [==============================] - 0s 40ms/step - loss: 0.0057 - acc: 0.3509\n",
            "Epoch 710/800\n",
            "4/4 [==============================] - 0s 39ms/step - loss: 0.0051 - acc: 0.2982\n",
            "Epoch 711/800\n",
            "4/4 [==============================] - 0s 34ms/step - loss: 0.0057 - acc: 0.2807\n",
            "Epoch 712/800\n",
            "4/4 [==============================] - 0s 37ms/step - loss: 0.0061 - acc: 0.3333\n",
            "Epoch 713/800\n",
            "4/4 [==============================] - 0s 39ms/step - loss: 0.0058 - acc: 0.2281\n",
            "Epoch 714/800\n",
            "4/4 [==============================] - 0s 37ms/step - loss: 0.0067 - acc: 0.2632\n",
            "Epoch 715/800\n",
            "4/4 [==============================] - 0s 41ms/step - loss: 0.0057 - acc: 0.3860\n",
            "Epoch 716/800\n",
            "4/4 [==============================] - 0s 37ms/step - loss: 0.0059 - acc: 0.3333\n",
            "Epoch 717/800\n",
            "4/4 [==============================] - 0s 38ms/step - loss: 0.0058 - acc: 0.3158\n",
            "Epoch 718/800\n",
            "4/4 [==============================] - 0s 37ms/step - loss: 0.0056 - acc: 0.3333\n",
            "Epoch 719/800\n",
            "4/4 [==============================] - 0s 37ms/step - loss: 0.0065 - acc: 0.3333\n",
            "Epoch 720/800\n",
            "4/4 [==============================] - 0s 36ms/step - loss: 0.0059 - acc: 0.2982\n",
            "Epoch 721/800\n",
            "4/4 [==============================] - 0s 39ms/step - loss: 0.0057 - acc: 0.2632\n",
            "Epoch 722/800\n",
            "4/4 [==============================] - 0s 39ms/step - loss: 0.0059 - acc: 0.2281\n",
            "Epoch 723/800\n",
            "4/4 [==============================] - 0s 43ms/step - loss: 0.0061 - acc: 0.3684\n",
            "Epoch 724/800\n",
            "4/4 [==============================] - 0s 39ms/step - loss: 0.0064 - acc: 0.3860\n",
            "Epoch 725/800\n",
            "4/4 [==============================] - 0s 38ms/step - loss: 0.0059 - acc: 0.3158\n",
            "Epoch 726/800\n",
            "4/4 [==============================] - 0s 35ms/step - loss: 0.0057 - acc: 0.3860\n",
            "Epoch 727/800\n",
            "4/4 [==============================] - 0s 41ms/step - loss: 0.0059 - acc: 0.3158\n",
            "Epoch 728/800\n",
            "4/4 [==============================] - 0s 36ms/step - loss: 0.0054 - acc: 0.3333\n",
            "Epoch 729/800\n",
            "4/4 [==============================] - 0s 37ms/step - loss: 0.0056 - acc: 0.3684\n",
            "Epoch 730/800\n",
            "4/4 [==============================] - 0s 35ms/step - loss: 0.0062 - acc: 0.3684\n",
            "Epoch 731/800\n",
            "4/4 [==============================] - 0s 36ms/step - loss: 0.0064 - acc: 0.3509\n",
            "Epoch 732/800\n",
            "4/4 [==============================] - 0s 37ms/step - loss: 0.0054 - acc: 0.3333\n",
            "Epoch 733/800\n",
            "4/4 [==============================] - 0s 33ms/step - loss: 0.0055 - acc: 0.3158\n",
            "Epoch 734/800\n",
            "4/4 [==============================] - 0s 39ms/step - loss: 0.0056 - acc: 0.2982\n",
            "Epoch 735/800\n",
            "4/4 [==============================] - 0s 36ms/step - loss: 0.0063 - acc: 0.2807\n",
            "Epoch 736/800\n",
            "4/4 [==============================] - 0s 38ms/step - loss: 0.0057 - acc: 0.4561\n",
            "Epoch 737/800\n",
            "4/4 [==============================] - 0s 39ms/step - loss: 0.0056 - acc: 0.4035\n",
            "Epoch 738/800\n",
            "4/4 [==============================] - 0s 35ms/step - loss: 0.0057 - acc: 0.3333\n",
            "Epoch 739/800\n",
            "4/4 [==============================] - 0s 38ms/step - loss: 0.0054 - acc: 0.4035\n",
            "Epoch 740/800\n",
            "4/4 [==============================] - 0s 45ms/step - loss: 0.0053 - acc: 0.2982\n",
            "Epoch 741/800\n",
            "4/4 [==============================] - 0s 38ms/step - loss: 0.0057 - acc: 0.3158\n",
            "Epoch 742/800\n",
            "4/4 [==============================] - 0s 39ms/step - loss: 0.0061 - acc: 0.2632\n",
            "Epoch 743/800\n",
            "4/4 [==============================] - 0s 39ms/step - loss: 0.0053 - acc: 0.3509\n",
            "Epoch 744/800\n",
            "4/4 [==============================] - 0s 39ms/step - loss: 0.0058 - acc: 0.3684\n",
            "Epoch 745/800\n",
            "4/4 [==============================] - 0s 36ms/step - loss: 0.0056 - acc: 0.2632\n",
            "Epoch 746/800\n",
            "4/4 [==============================] - 0s 37ms/step - loss: 0.0059 - acc: 0.2807\n",
            "Epoch 747/800\n",
            "4/4 [==============================] - 0s 43ms/step - loss: 0.0053 - acc: 0.2982\n",
            "Epoch 748/800\n",
            "4/4 [==============================] - 0s 41ms/step - loss: 0.0059 - acc: 0.3158\n",
            "Epoch 749/800\n",
            "4/4 [==============================] - 0s 35ms/step - loss: 0.0056 - acc: 0.3509\n",
            "Epoch 750/800\n",
            "4/4 [==============================] - 0s 39ms/step - loss: 0.0055 - acc: 0.3509\n",
            "Epoch 751/800\n",
            "4/4 [==============================] - 0s 42ms/step - loss: 0.0062 - acc: 0.3684\n",
            "Epoch 752/800\n",
            "4/4 [==============================] - 0s 42ms/step - loss: 0.0057 - acc: 0.3509\n",
            "Epoch 753/800\n",
            "4/4 [==============================] - 0s 34ms/step - loss: 0.0058 - acc: 0.3158\n",
            "Epoch 754/800\n",
            "4/4 [==============================] - 0s 41ms/step - loss: 0.0054 - acc: 0.3333\n",
            "Epoch 755/800\n",
            "4/4 [==============================] - 0s 38ms/step - loss: 0.0058 - acc: 0.2982\n",
            "Epoch 756/800\n",
            "4/4 [==============================] - 0s 37ms/step - loss: 0.0054 - acc: 0.2982\n",
            "Epoch 757/800\n",
            "4/4 [==============================] - 0s 37ms/step - loss: 0.0063 - acc: 0.3860\n",
            "Epoch 758/800\n",
            "4/4 [==============================] - 0s 35ms/step - loss: 0.0048 - acc: 0.3509\n",
            "Epoch 759/800\n",
            "4/4 [==============================] - 0s 38ms/step - loss: 0.0059 - acc: 0.3333\n",
            "Epoch 760/800\n",
            "4/4 [==============================] - 0s 38ms/step - loss: 0.0057 - acc: 0.2807\n",
            "Epoch 761/800\n",
            "4/4 [==============================] - 0s 37ms/step - loss: 0.0052 - acc: 0.3509\n",
            "Epoch 762/800\n",
            "4/4 [==============================] - 0s 38ms/step - loss: 0.0057 - acc: 0.3860\n",
            "Epoch 763/800\n",
            "4/4 [==============================] - 0s 39ms/step - loss: 0.0063 - acc: 0.1930\n",
            "Epoch 764/800\n",
            "4/4 [==============================] - 0s 35ms/step - loss: 0.0060 - acc: 0.2632\n",
            "Epoch 765/800\n",
            "4/4 [==============================] - 0s 35ms/step - loss: 0.0060 - acc: 0.3158\n",
            "Epoch 766/800\n",
            "4/4 [==============================] - 0s 39ms/step - loss: 0.0053 - acc: 0.2982\n",
            "Epoch 767/800\n",
            "4/4 [==============================] - 0s 39ms/step - loss: 0.0068 - acc: 0.3158\n",
            "Epoch 768/800\n",
            "4/4 [==============================] - 0s 35ms/step - loss: 0.0058 - acc: 0.3158\n",
            "Epoch 769/800\n",
            "4/4 [==============================] - 0s 37ms/step - loss: 0.0052 - acc: 0.4035\n",
            "Epoch 770/800\n",
            "4/4 [==============================] - 0s 36ms/step - loss: 0.0054 - acc: 0.2456\n",
            "Epoch 771/800\n",
            "4/4 [==============================] - 0s 37ms/step - loss: 0.0057 - acc: 0.3158\n",
            "Epoch 772/800\n",
            "4/4 [==============================] - 0s 37ms/step - loss: 0.0055 - acc: 0.2632\n",
            "Epoch 773/800\n",
            "4/4 [==============================] - 0s 37ms/step - loss: 0.0058 - acc: 0.2982\n",
            "Epoch 774/800\n",
            "4/4 [==============================] - 0s 38ms/step - loss: 0.0055 - acc: 0.3158\n",
            "Epoch 775/800\n",
            "4/4 [==============================] - 0s 35ms/step - loss: 0.0053 - acc: 0.4035\n",
            "Epoch 776/800\n",
            "4/4 [==============================] - 0s 37ms/step - loss: 0.0055 - acc: 0.3333\n",
            "Epoch 777/800\n",
            "4/4 [==============================] - 0s 40ms/step - loss: 0.0055 - acc: 0.2982\n",
            "Epoch 778/800\n",
            "4/4 [==============================] - 0s 40ms/step - loss: 0.0057 - acc: 0.3684\n",
            "Epoch 779/800\n",
            "4/4 [==============================] - 0s 41ms/step - loss: 0.0052 - acc: 0.3333\n",
            "Epoch 780/800\n",
            "4/4 [==============================] - 0s 37ms/step - loss: 0.0054 - acc: 0.3509\n",
            "Epoch 781/800\n",
            "4/4 [==============================] - 0s 39ms/step - loss: 0.0049 - acc: 0.2632\n",
            "Epoch 782/800\n",
            "4/4 [==============================] - 0s 37ms/step - loss: 0.0058 - acc: 0.3684\n",
            "Epoch 783/800\n",
            "4/4 [==============================] - 0s 36ms/step - loss: 0.0054 - acc: 0.3333\n",
            "Epoch 784/800\n",
            "4/4 [==============================] - 0s 39ms/step - loss: 0.0053 - acc: 0.3158\n",
            "Epoch 785/800\n",
            "4/4 [==============================] - 0s 41ms/step - loss: 0.0051 - acc: 0.2807\n",
            "Epoch 786/800\n",
            "4/4 [==============================] - 0s 35ms/step - loss: 0.0055 - acc: 0.2982\n",
            "Epoch 787/800\n",
            "4/4 [==============================] - 0s 38ms/step - loss: 0.0056 - acc: 0.3684\n",
            "Epoch 788/800\n",
            "4/4 [==============================] - 0s 38ms/step - loss: 0.0050 - acc: 0.3158\n",
            "Epoch 789/800\n",
            "4/4 [==============================] - 0s 36ms/step - loss: 0.0057 - acc: 0.3333\n",
            "Epoch 790/800\n",
            "4/4 [==============================] - 0s 36ms/step - loss: 0.0055 - acc: 0.4211\n",
            "Epoch 791/800\n",
            "4/4 [==============================] - 0s 35ms/step - loss: 0.0058 - acc: 0.3509\n",
            "Epoch 792/800\n",
            "4/4 [==============================] - 0s 37ms/step - loss: 0.0055 - acc: 0.2632\n",
            "Epoch 793/800\n",
            "4/4 [==============================] - 0s 36ms/step - loss: 0.0055 - acc: 0.2632\n",
            "Epoch 794/800\n",
            "4/4 [==============================] - 0s 40ms/step - loss: 0.0057 - acc: 0.3158\n",
            "Epoch 795/800\n",
            "4/4 [==============================] - 0s 40ms/step - loss: 0.0056 - acc: 0.3333\n",
            "Epoch 796/800\n",
            "4/4 [==============================] - 0s 36ms/step - loss: 0.0049 - acc: 0.3158\n",
            "Epoch 797/800\n",
            "4/4 [==============================] - 0s 35ms/step - loss: 0.0057 - acc: 0.2456\n",
            "Epoch 798/800\n",
            "4/4 [==============================] - 0s 36ms/step - loss: 0.0051 - acc: 0.2982\n",
            "Epoch 799/800\n",
            "4/4 [==============================] - 0s 35ms/step - loss: 0.0056 - acc: 0.3333\n",
            "Epoch 800/800\n",
            "4/4 [==============================] - 0s 39ms/step - loss: 0.0054 - acc: 0.3333\n"
          ]
        },
        {
          "output_type": "execute_result",
          "data": {
            "text/plain": [
              "<keras.callbacks.History at 0x7fc389c6f3d0>"
            ]
          },
          "metadata": {},
          "execution_count": 65
        }
      ]
    },
    {
      "cell_type": "markdown",
      "source": [
        "**Now outoff 114 rows, below we have taken 100 rows values as train values and 14 rows values as test values**"
      ],
      "metadata": {
        "id": "42_aQxZm1Vqm"
      }
    },
    {
      "cell_type": "code",
      "source": [
        "testdataset = data.iloc[100:,1:2].values\n",
        "real_temperature = data\n",
        "real_temperature = real_temperature.iloc[100:,1:2].values\n",
        "testing = sc.transform(testdataset)\n",
        "testing = np.array(testing)\n",
        "testing = np.reshape(testing,(testing.shape[1],testing.shape[0],1))"
      ],
      "metadata": {
        "id": "fHWGLkRtgG78"
      },
      "execution_count": 66,
      "outputs": []
    },
    {
      "cell_type": "code",
      "source": [
        "predicted_temperature = regressor.predict(testing)\n",
        "predicted_temperature = sc.inverse_transform(predicted_temperature)\n",
        "predicted_temperature = np.reshape(predicted_temperature,(predicted_temperature.shape[1],predicted_temperature.shape[0]))"
      ],
      "metadata": {
        "colab": {
          "base_uri": "https://localhost:8080/"
        },
        "id": "BpJk-W_0gKTW",
        "outputId": "e0f61907-5888-4fee-a7a1-4a0c57efca18"
      },
      "execution_count": 67,
      "outputs": [
        {
          "output_type": "stream",
          "name": "stdout",
          "text": [
            "1/1 [==============================] - 3s 3s/step\n"
          ]
        }
      ]
    },
    {
      "cell_type": "code",
      "source": [
        "real_temperature"
      ],
      "metadata": {
        "colab": {
          "base_uri": "https://localhost:8080/"
        },
        "id": "SqUArhjigOtM",
        "outputId": "543f78ad-c086-4283-dc7b-af3a4781bfbd"
      },
      "execution_count": 68,
      "outputs": [
        {
          "output_type": "execute_result",
          "data": {
            "text/plain": [
              "array([[29.25      ],\n",
              "       [29.25      ],\n",
              "       [29.66666667],\n",
              "       [30.5       ],\n",
              "       [31.22222222],\n",
              "       [31.        ],\n",
              "       [32.55555556],\n",
              "       [34.        ],\n",
              "       [33.5       ],\n",
              "       [34.5       ],\n",
              "       [34.25      ],\n",
              "       [32.9       ],\n",
              "       [32.875     ],\n",
              "       [32.        ]])"
            ]
          },
          "metadata": {},
          "execution_count": 68
        }
      ]
    },
    {
      "cell_type": "code",
      "source": [
        "predicted_temperature"
      ],
      "metadata": {
        "colab": {
          "base_uri": "https://localhost:8080/"
        },
        "id": "NE5OkYUZgPjS",
        "outputId": "bab79875-6bcc-4732-8f32-698f76784562"
      },
      "execution_count": 69,
      "outputs": [
        {
          "output_type": "execute_result",
          "data": {
            "text/plain": [
              "array([[24.694525],\n",
              "       [25.263805],\n",
              "       [26.206644],\n",
              "       [26.987976],\n",
              "       [27.480942],\n",
              "       [26.495625],\n",
              "       [26.235004],\n",
              "       [24.351048],\n",
              "       [23.701965],\n",
              "       [23.144112],\n",
              "       [22.744984],\n",
              "       [22.823753],\n",
              "       [23.384666],\n",
              "       [24.158733]], dtype=float32)"
            ]
          },
          "metadata": {},
          "execution_count": 69
        }
      ]
    },
    {
      "cell_type": "markdown",
      "source": [
        "**Now calculating the error % to compare the results with the linear regression error % and can decide which algorithm suites well.**"
      ],
      "metadata": {
        "id": "ldgONzLl1oNi"
      }
    },
    {
      "cell_type": "code",
      "source": [
        "from sklearn.metrics import mean_absolute_error"
      ],
      "metadata": {
        "id": "s5UTeKHSgRg7"
      },
      "execution_count": 70,
      "outputs": []
    },
    {
      "cell_type": "code",
      "source": [
        "rnn_abs_err3 = mean_absolute_error(real_temperature, predicted_temperature)\n",
        "rnn_abs_err3"
      ],
      "metadata": {
        "colab": {
          "base_uri": "https://localhost:8080/"
        },
        "id": "FccOFjuUgUdh",
        "outputId": "72322b99-2b0c-481f-a2df-71b461efdcd8"
      },
      "execution_count": 71,
      "outputs": [
        {
          "output_type": "execute_result",
          "data": {
            "text/plain": [
              "7.128261578669084"
            ]
          },
          "metadata": {},
          "execution_count": 71
        }
      ]
    },
    {
      "cell_type": "markdown",
      "source": [
        "**Below we have collected the record of error percentage and tabulated it, the algorithm which results in lesser error percentage will win the battle here and will be considered as best suite for the prediction of delhi temperature using this dataset.**"
      ],
      "metadata": {
        "id": "yymyMff515n1"
      }
    },
    {
      "cell_type": "code",
      "source": [
        "results = pd.DataFrame({\n",
        "    'Models': ['LR for humidity vs month (Train MSE)',\n",
        "              \n",
        "              'LR for humidity vs month (Test MSE)',\n",
        "              \n",
        "              'LR for temp vs month (Train MSE)',\n",
        "              \n",
        "              'LR for temp vs month (Test MSE)'],\n",
        "    'Score': [linear_hmdt_train_mse_err1,\n",
        "              \n",
        "              linear_hmdt_test_mse_err2,\n",
        "              \n",
        "              linear_temp_train_mse_err1,\n",
        "             \n",
        "              linear_temp_test_mse_err2,\n",
        "              \n",
        "              ]})\n",
        "result_df = results.sort_values(by='Score', ascending=False)\n",
        "result_df = result_df.set_index('Score')\n",
        "result_df.head(9)"
      ],
      "metadata": {
        "id": "4KKsshapYFA-",
        "colab": {
          "base_uri": "https://localhost:8080/",
          "height": 206
        },
        "outputId": "61afdad8-0632-413c-fe87-be795e77e08b"
      },
      "execution_count": 79,
      "outputs": [
        {
          "output_type": "execute_result",
          "data": {
            "text/plain": [
              "                                         Models\n",
              "Score                                          \n",
              "75.981981  LR for humidity vs month (Train MSE)\n",
              "71.285922   LR for humidity vs month (Test MSE)\n",
              "12.311342      LR for temp vs month (Train MSE)\n",
              "10.636479       LR for temp vs month (Test MSE)"
            ],
            "text/html": [
              "\n",
              "  <div id=\"df-2b4e4d49-a5b8-4d1c-a04f-e18e1af79bb7\">\n",
              "    <div class=\"colab-df-container\">\n",
              "      <div>\n",
              "<style scoped>\n",
              "    .dataframe tbody tr th:only-of-type {\n",
              "        vertical-align: middle;\n",
              "    }\n",
              "\n",
              "    .dataframe tbody tr th {\n",
              "        vertical-align: top;\n",
              "    }\n",
              "\n",
              "    .dataframe thead th {\n",
              "        text-align: right;\n",
              "    }\n",
              "</style>\n",
              "<table border=\"1\" class=\"dataframe\">\n",
              "  <thead>\n",
              "    <tr style=\"text-align: right;\">\n",
              "      <th></th>\n",
              "      <th>Models</th>\n",
              "    </tr>\n",
              "    <tr>\n",
              "      <th>Score</th>\n",
              "      <th></th>\n",
              "    </tr>\n",
              "  </thead>\n",
              "  <tbody>\n",
              "    <tr>\n",
              "      <th>75.981981</th>\n",
              "      <td>LR for humidity vs month (Train MSE)</td>\n",
              "    </tr>\n",
              "    <tr>\n",
              "      <th>71.285922</th>\n",
              "      <td>LR for humidity vs month (Test MSE)</td>\n",
              "    </tr>\n",
              "    <tr>\n",
              "      <th>12.311342</th>\n",
              "      <td>LR for temp vs month (Train MSE)</td>\n",
              "    </tr>\n",
              "    <tr>\n",
              "      <th>10.636479</th>\n",
              "      <td>LR for temp vs month (Test MSE)</td>\n",
              "    </tr>\n",
              "  </tbody>\n",
              "</table>\n",
              "</div>\n",
              "      <button class=\"colab-df-convert\" onclick=\"convertToInteractive('df-2b4e4d49-a5b8-4d1c-a04f-e18e1af79bb7')\"\n",
              "              title=\"Convert this dataframe to an interactive table.\"\n",
              "              style=\"display:none;\">\n",
              "        \n",
              "  <svg xmlns=\"http://www.w3.org/2000/svg\" height=\"24px\"viewBox=\"0 0 24 24\"\n",
              "       width=\"24px\">\n",
              "    <path d=\"M0 0h24v24H0V0z\" fill=\"none\"/>\n",
              "    <path d=\"M18.56 5.44l.94 2.06.94-2.06 2.06-.94-2.06-.94-.94-2.06-.94 2.06-2.06.94zm-11 1L8.5 8.5l.94-2.06 2.06-.94-2.06-.94L8.5 2.5l-.94 2.06-2.06.94zm10 10l.94 2.06.94-2.06 2.06-.94-2.06-.94-.94-2.06-.94 2.06-2.06.94z\"/><path d=\"M17.41 7.96l-1.37-1.37c-.4-.4-.92-.59-1.43-.59-.52 0-1.04.2-1.43.59L10.3 9.45l-7.72 7.72c-.78.78-.78 2.05 0 2.83L4 21.41c.39.39.9.59 1.41.59.51 0 1.02-.2 1.41-.59l7.78-7.78 2.81-2.81c.8-.78.8-2.07 0-2.86zM5.41 20L4 18.59l7.72-7.72 1.47 1.35L5.41 20z\"/>\n",
              "  </svg>\n",
              "      </button>\n",
              "      \n",
              "  <style>\n",
              "    .colab-df-container {\n",
              "      display:flex;\n",
              "      flex-wrap:wrap;\n",
              "      gap: 12px;\n",
              "    }\n",
              "\n",
              "    .colab-df-convert {\n",
              "      background-color: #E8F0FE;\n",
              "      border: none;\n",
              "      border-radius: 50%;\n",
              "      cursor: pointer;\n",
              "      display: none;\n",
              "      fill: #1967D2;\n",
              "      height: 32px;\n",
              "      padding: 0 0 0 0;\n",
              "      width: 32px;\n",
              "    }\n",
              "\n",
              "    .colab-df-convert:hover {\n",
              "      background-color: #E2EBFA;\n",
              "      box-shadow: 0px 1px 2px rgba(60, 64, 67, 0.3), 0px 1px 3px 1px rgba(60, 64, 67, 0.15);\n",
              "      fill: #174EA6;\n",
              "    }\n",
              "\n",
              "    [theme=dark] .colab-df-convert {\n",
              "      background-color: #3B4455;\n",
              "      fill: #D2E3FC;\n",
              "    }\n",
              "\n",
              "    [theme=dark] .colab-df-convert:hover {\n",
              "      background-color: #434B5C;\n",
              "      box-shadow: 0px 1px 3px 1px rgba(0, 0, 0, 0.15);\n",
              "      filter: drop-shadow(0px 1px 2px rgba(0, 0, 0, 0.3));\n",
              "      fill: #FFFFFF;\n",
              "    }\n",
              "  </style>\n",
              "\n",
              "      <script>\n",
              "        const buttonEl =\n",
              "          document.querySelector('#df-2b4e4d49-a5b8-4d1c-a04f-e18e1af79bb7 button.colab-df-convert');\n",
              "        buttonEl.style.display =\n",
              "          google.colab.kernel.accessAllowed ? 'block' : 'none';\n",
              "\n",
              "        async function convertToInteractive(key) {\n",
              "          const element = document.querySelector('#df-2b4e4d49-a5b8-4d1c-a04f-e18e1af79bb7');\n",
              "          const dataTable =\n",
              "            await google.colab.kernel.invokeFunction('convertToInteractive',\n",
              "                                                     [key], {});\n",
              "          if (!dataTable) return;\n",
              "\n",
              "          const docLinkHtml = 'Like what you see? Visit the ' +\n",
              "            '<a target=\"_blank\" href=https://colab.research.google.com/notebooks/data_table.ipynb>data table notebook</a>'\n",
              "            + ' to learn more about interactive tables.';\n",
              "          element.innerHTML = '';\n",
              "          dataTable['output_type'] = 'display_data';\n",
              "          await google.colab.output.renderOutput(dataTable, element);\n",
              "          const docLink = document.createElement('div');\n",
              "          docLink.innerHTML = docLinkHtml;\n",
              "          element.appendChild(docLink);\n",
              "        }\n",
              "      </script>\n",
              "    </div>\n",
              "  </div>\n",
              "  "
            ]
          },
          "metadata": {},
          "execution_count": 79
        }
      ]
    },
    {
      "cell_type": "code",
      "source": [
        "results = pd.DataFrame({\n",
        "    'Models': ['LR for humidity vs month (Train ABS)',\n",
        "              \n",
        "              'LR for humidity vs month (Test ABS)', \n",
        "              \n",
        "              'LR for temp vs month (Train ABS)',\n",
        "              \n",
        "              'LR for temp vs month (Test ABS)',\n",
        "              \n",
        "              'RNN using Linear Activation Function'],\n",
        "    'Score': [\n",
        "              linear_hmdt_train_abs_err1,\n",
        "             \n",
        "              linear_hmdt_test_abs_err2,\n",
        "             \n",
        "              linear_temp_train_abs_err1,\n",
        "             \n",
        "              linear_temp_test_abs_err2, \n",
        "              \n",
        "              rnn_abs_err3]})\n",
        "result_df = results.sort_values(by='Score', ascending=False)\n",
        "result_df = result_df.set_index('Score')\n",
        "result_df"
      ],
      "metadata": {
        "colab": {
          "base_uri": "https://localhost:8080/",
          "height": 237
        },
        "id": "v1dBF6T5vTvx",
        "outputId": "c9e5c283-f054-483a-e96c-6664e6967294"
      },
      "execution_count": 78,
      "outputs": [
        {
          "output_type": "execute_result",
          "data": {
            "text/plain": [
              "                                        Models\n",
              "Score                                         \n",
              "7.402120  LR for humidity vs month (Train ABS)\n",
              "7.128262  RNN using Linear Activation Function\n",
              "6.576817   LR for humidity vs month (Test ABS)\n",
              "2.995779      LR for temp vs month (Train ABS)\n",
              "2.668040       LR for temp vs month (Test ABS)"
            ],
            "text/html": [
              "\n",
              "  <div id=\"df-af65b69e-e946-4881-90ab-a0c53f64e20c\">\n",
              "    <div class=\"colab-df-container\">\n",
              "      <div>\n",
              "<style scoped>\n",
              "    .dataframe tbody tr th:only-of-type {\n",
              "        vertical-align: middle;\n",
              "    }\n",
              "\n",
              "    .dataframe tbody tr th {\n",
              "        vertical-align: top;\n",
              "    }\n",
              "\n",
              "    .dataframe thead th {\n",
              "        text-align: right;\n",
              "    }\n",
              "</style>\n",
              "<table border=\"1\" class=\"dataframe\">\n",
              "  <thead>\n",
              "    <tr style=\"text-align: right;\">\n",
              "      <th></th>\n",
              "      <th>Models</th>\n",
              "    </tr>\n",
              "    <tr>\n",
              "      <th>Score</th>\n",
              "      <th></th>\n",
              "    </tr>\n",
              "  </thead>\n",
              "  <tbody>\n",
              "    <tr>\n",
              "      <th>7.402120</th>\n",
              "      <td>LR for humidity vs month (Train ABS)</td>\n",
              "    </tr>\n",
              "    <tr>\n",
              "      <th>7.128262</th>\n",
              "      <td>RNN using Linear Activation Function</td>\n",
              "    </tr>\n",
              "    <tr>\n",
              "      <th>6.576817</th>\n",
              "      <td>LR for humidity vs month (Test ABS)</td>\n",
              "    </tr>\n",
              "    <tr>\n",
              "      <th>2.995779</th>\n",
              "      <td>LR for temp vs month (Train ABS)</td>\n",
              "    </tr>\n",
              "    <tr>\n",
              "      <th>2.668040</th>\n",
              "      <td>LR for temp vs month (Test ABS)</td>\n",
              "    </tr>\n",
              "  </tbody>\n",
              "</table>\n",
              "</div>\n",
              "      <button class=\"colab-df-convert\" onclick=\"convertToInteractive('df-af65b69e-e946-4881-90ab-a0c53f64e20c')\"\n",
              "              title=\"Convert this dataframe to an interactive table.\"\n",
              "              style=\"display:none;\">\n",
              "        \n",
              "  <svg xmlns=\"http://www.w3.org/2000/svg\" height=\"24px\"viewBox=\"0 0 24 24\"\n",
              "       width=\"24px\">\n",
              "    <path d=\"M0 0h24v24H0V0z\" fill=\"none\"/>\n",
              "    <path d=\"M18.56 5.44l.94 2.06.94-2.06 2.06-.94-2.06-.94-.94-2.06-.94 2.06-2.06.94zm-11 1L8.5 8.5l.94-2.06 2.06-.94-2.06-.94L8.5 2.5l-.94 2.06-2.06.94zm10 10l.94 2.06.94-2.06 2.06-.94-2.06-.94-.94-2.06-.94 2.06-2.06.94z\"/><path d=\"M17.41 7.96l-1.37-1.37c-.4-.4-.92-.59-1.43-.59-.52 0-1.04.2-1.43.59L10.3 9.45l-7.72 7.72c-.78.78-.78 2.05 0 2.83L4 21.41c.39.39.9.59 1.41.59.51 0 1.02-.2 1.41-.59l7.78-7.78 2.81-2.81c.8-.78.8-2.07 0-2.86zM5.41 20L4 18.59l7.72-7.72 1.47 1.35L5.41 20z\"/>\n",
              "  </svg>\n",
              "      </button>\n",
              "      \n",
              "  <style>\n",
              "    .colab-df-container {\n",
              "      display:flex;\n",
              "      flex-wrap:wrap;\n",
              "      gap: 12px;\n",
              "    }\n",
              "\n",
              "    .colab-df-convert {\n",
              "      background-color: #E8F0FE;\n",
              "      border: none;\n",
              "      border-radius: 50%;\n",
              "      cursor: pointer;\n",
              "      display: none;\n",
              "      fill: #1967D2;\n",
              "      height: 32px;\n",
              "      padding: 0 0 0 0;\n",
              "      width: 32px;\n",
              "    }\n",
              "\n",
              "    .colab-df-convert:hover {\n",
              "      background-color: #E2EBFA;\n",
              "      box-shadow: 0px 1px 2px rgba(60, 64, 67, 0.3), 0px 1px 3px 1px rgba(60, 64, 67, 0.15);\n",
              "      fill: #174EA6;\n",
              "    }\n",
              "\n",
              "    [theme=dark] .colab-df-convert {\n",
              "      background-color: #3B4455;\n",
              "      fill: #D2E3FC;\n",
              "    }\n",
              "\n",
              "    [theme=dark] .colab-df-convert:hover {\n",
              "      background-color: #434B5C;\n",
              "      box-shadow: 0px 1px 3px 1px rgba(0, 0, 0, 0.15);\n",
              "      filter: drop-shadow(0px 1px 2px rgba(0, 0, 0, 0.3));\n",
              "      fill: #FFFFFF;\n",
              "    }\n",
              "  </style>\n",
              "\n",
              "      <script>\n",
              "        const buttonEl =\n",
              "          document.querySelector('#df-af65b69e-e946-4881-90ab-a0c53f64e20c button.colab-df-convert');\n",
              "        buttonEl.style.display =\n",
              "          google.colab.kernel.accessAllowed ? 'block' : 'none';\n",
              "\n",
              "        async function convertToInteractive(key) {\n",
              "          const element = document.querySelector('#df-af65b69e-e946-4881-90ab-a0c53f64e20c');\n",
              "          const dataTable =\n",
              "            await google.colab.kernel.invokeFunction('convertToInteractive',\n",
              "                                                     [key], {});\n",
              "          if (!dataTable) return;\n",
              "\n",
              "          const docLinkHtml = 'Like what you see? Visit the ' +\n",
              "            '<a target=\"_blank\" href=https://colab.research.google.com/notebooks/data_table.ipynb>data table notebook</a>'\n",
              "            + ' to learn more about interactive tables.';\n",
              "          element.innerHTML = '';\n",
              "          dataTable['output_type'] = 'display_data';\n",
              "          await google.colab.output.renderOutput(dataTable, element);\n",
              "          const docLink = document.createElement('div');\n",
              "          docLink.innerHTML = docLinkHtml;\n",
              "          element.appendChild(docLink);\n",
              "        }\n",
              "      </script>\n",
              "    </div>\n",
              "  </div>\n",
              "  "
            ]
          },
          "metadata": {},
          "execution_count": 78
        }
      ]
    },
    {
      "cell_type": "markdown",
      "source": [
        "# **Conculsion!!!**"
      ],
      "metadata": {
        "id": "1fBrz9Li5Vye"
      }
    },
    {
      "cell_type": "markdown",
      "source": [
        "### **So, we can easily see the difference between the error calculated between Linear Regression and Recurrent Neural Network.**\n",
        "\n",
        "### **Linear Regression gives the best results here and the RNN is giving worst result, although it is statistically defined that for the prediction like weather the RNN algorithm is best.**\n",
        "\n",
        "### **The factor that affected the result between the Linear Regression and Recurrent Neural Network was the \"\"SIZE OF DATASET\"\".**\n",
        "\n",
        "### **Because when we have to do the weather prediction the first concept comes in our mind is neural network because of the size of the dataset as we know to predict the weather for the next day or month or year we need to have several years of dataset so that it will be easy for the neural network to understand the pattern and predict the weather.**\n",
        "\n",
        "### **But here we were provided with the dataset of 4 months only and it is very challenging for the model to predict the weather for the upcoming days or months. On the basis of weather of winter and spring we want our model to predict the weather for summer, which was very challenging.**\n",
        "\n",
        "### **So, as the temperature was increasing in a linear format so the linear regression gave the best result for the upcoming days.**\n",
        "\n"
      ],
      "metadata": {
        "id": "Kp4NDaTm2h-7"
      }
    },
    {
      "cell_type": "code",
      "source": [],
      "metadata": {
        "id": "U964BhIT5T-C"
      },
      "execution_count": null,
      "outputs": []
    }
  ]
}